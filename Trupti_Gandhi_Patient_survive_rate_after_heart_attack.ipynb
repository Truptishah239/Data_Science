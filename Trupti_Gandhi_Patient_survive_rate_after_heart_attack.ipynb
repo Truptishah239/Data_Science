{
 "cells": [
  {
   "cell_type": "markdown",
   "metadata": {},
   "source": [
    "\n",
    "Created on Thu Mar 15 19:57:57 2018\n",
    "\n",
    "@author: Gandhi\n",
    "\n",
    " Dataset :Echocardiogram.data\n",
    "\n",
    " This is Echocardiogram Dataset. This has published on 28 February 1989 in Miami. The donor of this dataset was Steven Salzberg and collector of this dataset was Dr. Evlin Kinney. Data source is uci.edu.\n",
    " \n",
    "  All the patients suffered heart attacks at some point in the past.\n",
    "      Some are still alive and some are not.  The survival and still-alive\n",
    "      variables, when taken together, indicate whether a patient survived\n",
    "      for at least one year following the heart attack.\n",
    " \n",
    " What am I going to predict?\n",
    " Is patient still alive or dead?\n",
    " \n",
    " Which categories of machine learning to use?\n",
    " 1. Supervised learning\n",
    " 2. Unsupervised learning\n",
    " 3. Semi- supervised learning\n",
    " \n",
    " There is an outcome we are trying to predict -  Supervised learning\n",
    " \n",
    " These are the steps to classify the survival rate of the patient. \n",
    " \n",
    " 1.Find the data\n",
    " 2.Apply a data science model\n",
    " 3.Review the results\n",
    " \n"
   ]
  },
  {
   "cell_type": "code",
   "execution_count": 115,
   "metadata": {},
   "outputs": [],
   "source": [
    "import numpy as np\n",
    "import pandas as pd\n",
    "\n",
    "from sklearn.preprocessing import MinMaxScaler\n",
    "from sklearn.preprocessing import StandardScaler\n",
    "\n",
    "import matplotlib.pyplot as plt\n",
    "from pylab import rcParams\n",
    "import seaborn as sb\n",
    "\n",
    "from sklearn.linear_model import LinearRegression\n",
    "from sklearn.preprocessing import scale\n",
    "\n",
    "from collections import Counter\n",
    "from sklearn.metrics import *\n",
    "import seaborn as sns; sns.set(font_scale=1.2)"
   ]
  },
  {
   "cell_type": "code",
   "execution_count": 116,
   "metadata": {},
   "outputs": [],
   "source": [
    "#Loading your dataset\n",
    "url = \"https://archive.ics.uci.edu/ml/machine-learning-databases/echocardiogram/echocardiogram.data\""
   ]
  },
  {
   "cell_type": "code",
   "execution_count": 117,
   "metadata": {},
   "outputs": [
    {
     "name": "stdout",
     "output_type": "stream",
     "text": [
      "Check first 5 rows of the table \n",
      "  survival   still-alive age-at-heart-attack  pericardial-effusion  \\\n",
      "0        11            0                  71                     0   \n",
      "1        19            0                  72                     0   \n",
      "2        16            0                  55                     0   \n",
      "3        57            0                  60                     0   \n",
      "4        19            1                  57                     0   \n",
      "\n",
      "  fractional-shortening E-point septal separation  \\\n",
      "0                 0.260                         9   \n",
      "1                 0.380                         6   \n",
      "2                 0.260                         4   \n",
      "3                 0.253                    12.062   \n",
      "4                 0.160                        22   \n",
      "\n",
      "  left ventricular end-diastolic wall-motion-score wall-motion-index   mult  \\\n",
      "0                          4.600                14                 1      1   \n",
      "1                          4.100                14             1.700  0.588   \n",
      "2                          3.420                14                 1      1   \n",
      "3                          4.603                16             1.450  0.788   \n",
      "4                          5.750                18             2.250  0.571   \n",
      "\n",
      "  name  group  alive-at-1  \n",
      "0  name      1          0  \n",
      "1  name      1          0  \n",
      "2  name      1          0  \n",
      "3  name      1          0  \n",
      "4  name      1          0  \n"
     ]
    },
    {
     "name": "stderr",
     "output_type": "stream",
     "text": [
      "b'Skipping line 50: expected 13 fields, saw 14\\n'\n"
     ]
    }
   ],
   "source": [
    "Echocardiogram_df = pd.read_csv(url, header= None, error_bad_lines=False, sep=',')\n",
    "col = [\"survival \", \"still-alive\", \"age-at-heart-attack\", \"pericardial-effusion\",\"fractional-shortening\", \"E-point septal separation\", \"left ventricular end-diastolic\", \"wall-motion-score\",\"wall-motion-index\",\"mult\",\"name \",  \"group \",  \"alive-at-1\" ]\n",
    "Echocardiogram_df.columns = col\n",
    "print ('Check first 5 rows of the table ')\n",
    "print(Echocardiogram_df.head())"
   ]
  },
  {
   "cell_type": "code",
   "execution_count": 118,
   "metadata": {},
   "outputs": [
    {
     "name": "stdout",
     "output_type": "stream",
     "text": [
      "Check Last 5 rows of the table \n",
      "    survival   still-alive age-at-heart-attack  pericardial-effusion  \\\n",
      "126       7.5            1                  64                     0   \n",
      "127        41            0                  64                     0   \n",
      "128        36            0                  69                     0   \n",
      "129        22            0                  57                     0   \n",
      "130        20            0                  62                     0   \n",
      "\n",
      "    fractional-shortening E-point septal separation  \\\n",
      "126                  0.24                      12.9   \n",
      "127                  0.28                      5.40   \n",
      "128                  0.20                      7.00   \n",
      "129                  0.14                      16.1   \n",
      "130                  0.15                         0   \n",
      "\n",
      "    left ventricular end-diastolic wall-motion-score wall-motion-index   mult  \\\n",
      "126                           4.72                12                 1  0.857   \n",
      "127                           5.47                11              1.10  0.714   \n",
      "128                           5.05              14.5              1.21  0.857   \n",
      "129                           4.36                15              1.36  0.786   \n",
      "130                           4.51              15.5             1.409  0.786   \n",
      "\n",
      "    name  group  alive-at-1  \n",
      "126  name      ?          ?  \n",
      "127  name      ?          ?  \n",
      "128  name      ?          ?  \n",
      "129  name      ?          ?  \n",
      "130  name      ?          ?  \n"
     ]
    }
   ],
   "source": [
    "# check the last 5 rows\n",
    "print ('Check Last 5 rows of the table ')\n",
    "print(Echocardiogram_df.tail())\n"
   ]
  },
  {
   "cell_type": "code",
   "execution_count": 119,
   "metadata": {},
   "outputs": [
    {
     "name": "stdout",
     "output_type": "stream",
     "text": [
      "Print total number of rows and columns \n",
      "(131, 13)\n"
     ]
    }
   ],
   "source": [
    "# check the total number of rows and column\n",
    "print ('Print total number of rows and columns ')\n",
    "print (Echocardiogram_df.shape)"
   ]
  },
  {
   "cell_type": "code",
   "execution_count": 120,
   "metadata": {},
   "outputs": [
    {
     "name": "stdout",
     "output_type": "stream",
     "text": [
      "Print name of the columns \n",
      "Index(['survival ', 'still-alive', 'age-at-heart-attack',\n",
      "       'pericardial-effusion', 'fractional-shortening',\n",
      "       'E-point septal separation', 'left ventricular end-diastolic',\n",
      "       'wall-motion-score', 'wall-motion-index', 'mult', 'name ', 'group ',\n",
      "       'alive-at-1'],\n",
      "      dtype='object')\n"
     ]
    }
   ],
   "source": [
    "print ('Print name of the columns ')\n",
    "print(Echocardiogram_df.columns)\n"
   ]
  },
  {
   "cell_type": "code",
   "execution_count": 121,
   "metadata": {},
   "outputs": [
    {
     "name": "stdout",
     "output_type": "stream",
     "text": [
      "Print name of the columns \n",
      "Index(['survival ', 'still-alive', 'age-at-heart-attack',\n",
      "       'pericardial-effusion', 'fractional-shortening',\n",
      "       'left ventricular end-diastolic', 'wall-motion-score',\n",
      "       'wall-motion-index', 'mult', 'name ', 'group ', 'alive-at-1'],\n",
      "      dtype='object')\n"
     ]
    }
   ],
   "source": [
    "Echocardiogram_df.drop(['E-point septal separation'],axis = 1, inplace= True)\n",
    "print ('Print name of the columns ')\n",
    "print(Echocardiogram_df.columns)"
   ]
  },
  {
   "cell_type": "code",
   "execution_count": 122,
   "metadata": {},
   "outputs": [
    {
     "name": "stdout",
     "output_type": "stream",
     "text": [
      "Index(['survival', 'still_alive', 'age_at_heart_attack',\n",
      "       'pericardial_effusion', 'fractional_shortening',\n",
      "       'left_ventricular_end_diastolic', 'wall_motion_score',\n",
      "       'wall_motion_index', 'mult', 'name', 'group', 'alive_at_1'],\n",
      "      dtype='object')\n"
     ]
    }
   ],
   "source": [
    "# remove the space between the words  \n",
    "# Changing the (' ') into (_) in coulumn names\n",
    "\n",
    "Echocardiogram_df.columns = Echocardiogram_df.columns.str.strip()\n",
    "Echocardiogram_df.columns = Echocardiogram_df.columns.str.replace(' ','_')\n",
    "Echocardiogram_df.columns = Echocardiogram_df.columns.str.replace('-','_')\n",
    "Echocardiogram_df.columns = Echocardiogram_df.columns.str.replace('\\n',' ')\n",
    "print(Echocardiogram_df.columns)"
   ]
  },
  {
   "cell_type": "code",
   "execution_count": 123,
   "metadata": {},
   "outputs": [
    {
     "name": "stdout",
     "output_type": "stream",
     "text": [
      "Check Type of the data \n",
      "survival                          object\n",
      "still_alive                        int64\n",
      "age_at_heart_attack               object\n",
      "pericardial_effusion               int64\n",
      "fractional_shortening             object\n",
      "left_ventricular_end_diastolic    object\n",
      "wall_motion_score                 object\n",
      "wall_motion_index                 object\n",
      "mult                              object\n",
      "name                              object\n",
      "group                             object\n",
      "alive_at_1                        object\n",
      "dtype: object\n"
     ]
    }
   ],
   "source": [
    "print ('Check Type of the data ') \n",
    "print(Echocardiogram_df.dtypes)\n"
   ]
  },
  {
   "cell_type": "code",
   "execution_count": 124,
   "metadata": {},
   "outputs": [
    {
     "name": "stdout",
     "output_type": "stream",
     "text": [
      "survival                           1\n",
      "still_alive                        0\n",
      "age_at_heart_attack                5\n",
      "pericardial_effusion               0\n",
      "fractional_shortening              7\n",
      "left_ventricular_end_diastolic    10\n",
      "wall_motion_score                  3\n",
      "wall_motion_index                  1\n",
      "mult                               3\n",
      "name                               0\n",
      "group                             22\n",
      "alive_at_1                        57\n",
      "dtype: int64\n"
     ]
    }
   ],
   "source": [
    "Echocardiogram_df = Echocardiogram_df.replace('[?]', np.NaN, regex = True)\n",
    "print(Echocardiogram_df.isnull().sum())"
   ]
  },
  {
   "cell_type": "code",
   "execution_count": 125,
   "metadata": {},
   "outputs": [
    {
     "name": "stdout",
     "output_type": "stream",
     "text": [
      "Index(['survival', 'still_alive', 'age_at_heart_attack',\n",
      "       'pericardial_effusion', 'fractional_shortening',\n",
      "       'left_ventricular_end_diastolic', 'wall_motion_score',\n",
      "       'wall_motion_index', 'mult', 'name', 'group'],\n",
      "      dtype='object')\n"
     ]
    }
   ],
   "source": [
    "Echocardiogram_df.columns.tolist()\n",
    "Echocardiogram_df.drop(['alive_at_1'],axis= 1, inplace= True)\n",
    "print(Echocardiogram_df.columns)"
   ]
  },
  {
   "cell_type": "code",
   "execution_count": 126,
   "metadata": {},
   "outputs": [
    {
     "data": {
      "text/plain": [
       "['survival',\n",
       " 'still_alive',\n",
       " 'age_at_heart_attack',\n",
       " 'pericardial_effusion',\n",
       " 'fractional_shortening',\n",
       " 'left_ventricular_end_diastolic',\n",
       " 'wall_motion_score',\n",
       " 'wall_motion_index',\n",
       " 'mult',\n",
       " 'name',\n",
       " 'group']"
      ]
     },
     "execution_count": 126,
     "metadata": {},
     "output_type": "execute_result"
    }
   ],
   "source": [
    "Echocardiogram_df.columns.tolist()"
   ]
  },
  {
   "cell_type": "code",
   "execution_count": 127,
   "metadata": {},
   "outputs": [
    {
     "name": "stdout",
     "output_type": "stream",
     "text": [
      "None\n"
     ]
    }
   ],
   "source": [
    "# Try to drop the row where 3 columns out of 6 columns have all NAN values. row 32 has 3 NAN values. we are expecting to drop this column.\n",
    "\n",
    "print(Echocardiogram_df.dropna(subset=['age_at_heart_attack','fractional_shortening','left_ventricular_end_diastolic'],how ='all',inplace =True))"
   ]
  },
  {
   "cell_type": "code",
   "execution_count": 128,
   "metadata": {},
   "outputs": [
    {
     "name": "stdout",
     "output_type": "stream",
     "text": [
      "Check Type of the data \n",
      "survival                          float64\n",
      "age_at_heart_attack               float64\n",
      "pericardial_effusion              float64\n",
      "fractional_shortening             float64\n",
      "left_ventricular_end_diastolic    float64\n",
      "wall_motion_index                 float64\n",
      "still_alive                       float64\n",
      "dtype: object\n"
     ]
    }
   ],
   "source": [
    "Echocardiogram_df =Echocardiogram_df[['survival', 'age_at_heart_attack','pericardial_effusion','fractional_shortening', 'left_ventricular_end_diastolic', 'wall_motion_index','still_alive']].astype(float)\n",
    "\n",
    "print ('Check Type of the data ') \n",
    "print(Echocardiogram_df.dtypes)"
   ]
  },
  {
   "cell_type": "code",
   "execution_count": 129,
   "metadata": {},
   "outputs": [
    {
     "name": "stdout",
     "output_type": "stream",
     "text": [
      "62.813722222222225\n"
     ]
    }
   ],
   "source": [
    "#This is a medical data of the petients. I really don't want to assume and add values for missing number. But in this case i have only 130 observation so, I am replacing the NAN and removing the outliers for the purpose of learning. \n",
    "\n",
    "Echocardiogram_df ['age_at_heart_attack'] = Echocardiogram_df ['age_at_heart_attack'].astype(float)\n",
    "Means = np.mean(Echocardiogram_df ['age_at_heart_attack'], axis=0)\n",
    "print(Means)"
   ]
  },
  {
   "cell_type": "code",
   "execution_count": 130,
   "metadata": {},
   "outputs": [],
   "source": [
    "Means_round = float(str(round(Means, 2)))\n",
    "Echocardiogram_df ['age_at_heart_attack']=Echocardiogram_df ['age_at_heart_attack'].replace(np.nan, Means_round)"
   ]
  },
  {
   "cell_type": "code",
   "execution_count": 131,
   "metadata": {},
   "outputs": [
    {
     "name": "stdout",
     "output_type": "stream",
     "text": [
      "float64\n",
      "0.20500000000000002\n"
     ]
    }
   ],
   "source": [
    "print(Echocardiogram_df ['fractional_shortening'].dtypes)\n",
    "Echocardiogram_df ['fractional_shortening'] = Echocardiogram_df ['fractional_shortening'].astype(float)\n",
    "Median = np.nanmedian(Echocardiogram_df.loc[:,\"fractional_shortening\"])\n",
    "print(Median)"
   ]
  },
  {
   "cell_type": "code",
   "execution_count": 132,
   "metadata": {},
   "outputs": [
    {
     "name": "stdout",
     "output_type": "stream",
     "text": [
      "130\n"
     ]
    }
   ],
   "source": [
    "IsNan = np.isnan(Echocardiogram_df.loc[:,\"fractional_shortening\"])\n",
    "print(IsNan.count())"
   ]
  },
  {
   "cell_type": "code",
   "execution_count": 133,
   "metadata": {},
   "outputs": [
    {
     "name": "stdout",
     "output_type": "stream",
     "text": [
      "27   NaN\n",
      "28   NaN\n",
      "34   NaN\n",
      "36   NaN\n",
      "48   NaN\n",
      "83   NaN\n",
      "Name: fractional_shortening, dtype: float64\n"
     ]
    }
   ],
   "source": [
    "print(Echocardiogram_df.loc[IsNan,\"fractional_shortening\"])"
   ]
  },
  {
   "cell_type": "code",
   "execution_count": 134,
   "metadata": {},
   "outputs": [],
   "source": [
    "Echocardiogram_df.loc[IsNan,\"fractional_shortening\"] = Median"
   ]
  },
  {
   "cell_type": "code",
   "execution_count": 135,
   "metadata": {},
   "outputs": [
    {
     "name": "stdout",
     "output_type": "stream",
     "text": [
      "4.763157024793391\n"
     ]
    }
   ],
   "source": [
    "Echocardiogram_df ['left_ventricular_end_diastolic'] = Echocardiogram_df ['left_ventricular_end_diastolic'].astype(float)\n",
    "Means = np.mean(Echocardiogram_df ['left_ventricular_end_diastolic'], axis=0)\n",
    "print(Means)\n",
    "Means_round = float(str(round(Means, 2)))\n",
    "Echocardiogram_df ['left_ventricular_end_diastolic']=Echocardiogram_df ['left_ventricular_end_diastolic'].replace(np.nan, Means_round)"
   ]
  },
  {
   "cell_type": "code",
   "execution_count": 136,
   "metadata": {},
   "outputs": [
    {
     "name": "stdout",
     "output_type": "stream",
     "text": [
      "survival                          0\n",
      "age_at_heart_attack               0\n",
      "pericardial_effusion              0\n",
      "fractional_shortening             0\n",
      "left_ventricular_end_diastolic    0\n",
      "wall_motion_index                 1\n",
      "still_alive                       0\n",
      "dtype: int64\n"
     ]
    }
   ],
   "source": [
    "Echocardiogram_df ['survival'].fillna(method ='ffill', inplace =True)\n",
    "# Check the missing value for columns now\n",
    "print(Echocardiogram_df.isnull().sum())"
   ]
  },
  {
   "cell_type": "code",
   "execution_count": 137,
   "metadata": {},
   "outputs": [],
   "source": [
    "Echocardiogram_df ['wall_motion_index'].fillna(method ='ffill', inplace =True)"
   ]
  },
  {
   "cell_type": "code",
   "execution_count": 138,
   "metadata": {},
   "outputs": [
    {
     "name": "stdout",
     "output_type": "stream",
     "text": [
      "survival                          0\n",
      "age_at_heart_attack               0\n",
      "pericardial_effusion              0\n",
      "fractional_shortening             0\n",
      "left_ventricular_end_diastolic    0\n",
      "wall_motion_index                 0\n",
      "still_alive                       0\n",
      "dtype: int64\n"
     ]
    }
   ],
   "source": [
    "print(Echocardiogram_df.isnull().sum())"
   ]
  },
  {
   "cell_type": "code",
   "execution_count": 139,
   "metadata": {},
   "outputs": [
    {
     "data": {
      "image/png": "[encoded data removed]",
      "text/plain": [
       "<Figure size 432x288 with 1 Axes>"
      ]
     },
     "metadata": {},
     "output_type": "display_data"
    }
   ],
   "source": [
    "Echocardiogram_df ['fractional_shortening'].plot(kind ='hist')\n",
    "plt.show()"
   ]
  },
  {
   "cell_type": "code",
   "execution_count": 140,
   "metadata": {},
   "outputs": [
    {
     "data": {
      "image/png": "[encoded data removed]",
      "text/plain": [
       "<Figure size 432x288 with 1 Axes>"
      ]
     },
     "metadata": {},
     "output_type": "display_data"
    }
   ],
   "source": [
    "Echocardiogram_df ['left_ventricular_end_diastolic'].plot(kind ='hist')\n",
    "plt.show()\n"
   ]
  },
  {
   "cell_type": "markdown",
   "metadata": {},
   "source": [
    "def outliers(data):\n",
    "    q1= np.percentile(data,25)\n",
    "    q3 = np.percentile(data,75)\n",
    "    lower = q1-1.5*(q3-q1)\n",
    "    upper = q1+1.5*(q3-q1)\n",
    "    flag =(data <= lower)|(data >= upper)\n",
    "    q2 = np.median  \n",
    "    \n",
    "Echocardiogram_df ['fractional_shortening'] = outliers (Echocardiogram_df ['fractional_shortening'])\n",
    "Echocardiogram_df ['left_ventricular_end_diastolic']= outliers (Echocardiogram_df ['left_ventricular_end_diastolic'])\n",
    "Echocardiogram_df.head(25)    "
   ]
  },
  {
   "cell_type": "code",
   "execution_count": 141,
   "metadata": {},
   "outputs": [],
   "source": [
    "x= np.ravel(Echocardiogram_df ['fractional_shortening'])\n",
    "X= pd.DataFrame(x)"
   ]
  },
  {
   "cell_type": "code",
   "execution_count": 142,
   "metadata": {},
   "outputs": [
    {
     "name": "stdout",
     "output_type": "stream",
     "text": [
      "0      0.416667\n",
      "1      0.616667\n",
      "2      0.416667\n",
      "3      0.405000\n",
      "4      0.250000\n",
      "         ...   \n",
      "126    0.383333\n",
      "127    0.450000\n",
      "128    0.316667\n",
      "129    0.216667\n",
      "130    0.233333\n",
      "Name: fractional_shortening, Length: 130, dtype: float64\n"
     ]
    }
   ],
   "source": [
    "data =  MinMaxScaler().fit_transform(X)\n",
    "Echocardiogram_df ['fractional_shortening']=data\n",
    "print(Echocardiogram_df ['fractional_shortening'])"
   ]
  },
  {
   "cell_type": "code",
   "execution_count": 143,
   "metadata": {},
   "outputs": [
    {
     "name": "stdout",
     "output_type": "stream",
     "text": [
      "0      0.511211\n",
      "1      0.399103\n",
      "2      0.246637\n",
      "3      0.511883\n",
      "4      0.769058\n",
      "         ...   \n",
      "126    0.538117\n",
      "127    0.706278\n",
      "128    0.612108\n",
      "129    0.457399\n",
      "130    0.491031\n",
      "Name: left_ventricular_end_diastolic, Length: 130, dtype: float64\n"
     ]
    }
   ],
   "source": [
    "x= np.ravel(Echocardiogram_df ['left_ventricular_end_diastolic'])\n",
    "X= pd.DataFrame(x)\n",
    "data =  MinMaxScaler().fit_transform(X)\n",
    "Echocardiogram_df ['left_ventricular_end_diastolic']=data\n",
    "print(Echocardiogram_df ['left_ventricular_end_diastolic'])"
   ]
  },
  {
   "cell_type": "code",
   "execution_count": 144,
   "metadata": {},
   "outputs": [
    {
     "name": "stdout",
     "output_type": "stream",
     "text": [
      "0      0.0000\n",
      "1      0.3500\n",
      "2      0.0000\n",
      "3      0.2250\n",
      "4      0.6250\n",
      "        ...  \n",
      "126    0.0000\n",
      "127    0.0500\n",
      "128    0.1050\n",
      "129    0.1800\n",
      "130    0.2045\n",
      "Name: wall_motion_index, Length: 130, dtype: float64\n"
     ]
    }
   ],
   "source": [
    "x= np.ravel(Echocardiogram_df ['wall_motion_index'])\n",
    "X= pd.DataFrame(x)\n",
    "data =  MinMaxScaler().fit_transform(X)\n",
    "Echocardiogram_df ['wall_motion_index']=data\n",
    "print(Echocardiogram_df ['wall_motion_index'])\n"
   ]
  },
  {
   "cell_type": "code",
   "execution_count": 145,
   "metadata": {},
   "outputs": [
    {
     "data": {
      "text/html": [
       "<div>\n",
       "<style scoped>\n",
       "    .dataframe tbody tr th:only-of-type {\n",
       "        vertical-align: middle;\n",
       "    }\n",
       "\n",
       "    .dataframe tbody tr th {\n",
       "        vertical-align: top;\n",
       "    }\n",
       "\n",
       "    .dataframe thead th {\n",
       "        text-align: right;\n",
       "    }\n",
       "</style>\n",
       "<table border=\"1\" class=\"dataframe\">\n",
       "  <thead>\n",
       "    <tr style=\"text-align: right;\">\n",
       "      <th></th>\n",
       "      <th>survival</th>\n",
       "      <th>age_at_heart_attack</th>\n",
       "      <th>pericardial_effusion</th>\n",
       "      <th>fractional_shortening</th>\n",
       "      <th>left_ventricular_end_diastolic</th>\n",
       "      <th>wall_motion_index</th>\n",
       "      <th>still_alive</th>\n",
       "    </tr>\n",
       "  </thead>\n",
       "  <tbody>\n",
       "    <tr>\n",
       "      <th>0</th>\n",
       "      <td>11.00</td>\n",
       "      <td>71.000</td>\n",
       "      <td>0.0</td>\n",
       "      <td>0.417</td>\n",
       "      <td>0.511</td>\n",
       "      <td>0.000</td>\n",
       "      <td>0.0</td>\n",
       "    </tr>\n",
       "    <tr>\n",
       "      <th>1</th>\n",
       "      <td>19.00</td>\n",
       "      <td>72.000</td>\n",
       "      <td>0.0</td>\n",
       "      <td>0.617</td>\n",
       "      <td>0.399</td>\n",
       "      <td>0.350</td>\n",
       "      <td>0.0</td>\n",
       "    </tr>\n",
       "    <tr>\n",
       "      <th>2</th>\n",
       "      <td>16.00</td>\n",
       "      <td>55.000</td>\n",
       "      <td>0.0</td>\n",
       "      <td>0.417</td>\n",
       "      <td>0.247</td>\n",
       "      <td>0.000</td>\n",
       "      <td>0.0</td>\n",
       "    </tr>\n",
       "    <tr>\n",
       "      <th>3</th>\n",
       "      <td>57.00</td>\n",
       "      <td>60.000</td>\n",
       "      <td>0.0</td>\n",
       "      <td>0.405</td>\n",
       "      <td>0.512</td>\n",
       "      <td>0.225</td>\n",
       "      <td>0.0</td>\n",
       "    </tr>\n",
       "    <tr>\n",
       "      <th>4</th>\n",
       "      <td>19.00</td>\n",
       "      <td>57.000</td>\n",
       "      <td>0.0</td>\n",
       "      <td>0.250</td>\n",
       "      <td>0.769</td>\n",
       "      <td>0.625</td>\n",
       "      <td>1.0</td>\n",
       "    </tr>\n",
       "    <tr>\n",
       "      <th>5</th>\n",
       "      <td>26.00</td>\n",
       "      <td>68.000</td>\n",
       "      <td>0.0</td>\n",
       "      <td>0.417</td>\n",
       "      <td>0.446</td>\n",
       "      <td>0.000</td>\n",
       "      <td>0.0</td>\n",
       "    </tr>\n",
       "    <tr>\n",
       "      <th>6</th>\n",
       "      <td>13.00</td>\n",
       "      <td>62.000</td>\n",
       "      <td>0.0</td>\n",
       "      <td>0.367</td>\n",
       "      <td>0.697</td>\n",
       "      <td>0.438</td>\n",
       "      <td>0.0</td>\n",
       "    </tr>\n",
       "    <tr>\n",
       "      <th>7</th>\n",
       "      <td>50.00</td>\n",
       "      <td>60.000</td>\n",
       "      <td>0.0</td>\n",
       "      <td>0.533</td>\n",
       "      <td>0.657</td>\n",
       "      <td>0.000</td>\n",
       "      <td>0.0</td>\n",
       "    </tr>\n",
       "    <tr>\n",
       "      <th>8</th>\n",
       "      <td>19.00</td>\n",
       "      <td>46.000</td>\n",
       "      <td>0.0</td>\n",
       "      <td>0.550</td>\n",
       "      <td>0.621</td>\n",
       "      <td>0.070</td>\n",
       "      <td>0.0</td>\n",
       "    </tr>\n",
       "    <tr>\n",
       "      <th>9</th>\n",
       "      <td>25.00</td>\n",
       "      <td>54.000</td>\n",
       "      <td>0.0</td>\n",
       "      <td>0.217</td>\n",
       "      <td>0.487</td>\n",
       "      <td>0.095</td>\n",
       "      <td>0.0</td>\n",
       "    </tr>\n",
       "    <tr>\n",
       "      <th>10</th>\n",
       "      <td>10.00</td>\n",
       "      <td>77.000</td>\n",
       "      <td>0.0</td>\n",
       "      <td>0.200</td>\n",
       "      <td>0.428</td>\n",
       "      <td>0.400</td>\n",
       "      <td>1.0</td>\n",
       "    </tr>\n",
       "    <tr>\n",
       "      <th>11</th>\n",
       "      <td>52.00</td>\n",
       "      <td>62.000</td>\n",
       "      <td>1.0</td>\n",
       "      <td>0.733</td>\n",
       "      <td>0.287</td>\n",
       "      <td>0.070</td>\n",
       "      <td>0.0</td>\n",
       "    </tr>\n",
       "    <tr>\n",
       "      <th>12</th>\n",
       "      <td>52.00</td>\n",
       "      <td>73.000</td>\n",
       "      <td>0.0</td>\n",
       "      <td>0.533</td>\n",
       "      <td>0.377</td>\n",
       "      <td>0.000</td>\n",
       "      <td>0.0</td>\n",
       "    </tr>\n",
       "    <tr>\n",
       "      <th>13</th>\n",
       "      <td>44.00</td>\n",
       "      <td>60.000</td>\n",
       "      <td>0.0</td>\n",
       "      <td>0.233</td>\n",
       "      <td>0.316</td>\n",
       "      <td>0.000</td>\n",
       "      <td>0.0</td>\n",
       "    </tr>\n",
       "    <tr>\n",
       "      <th>14</th>\n",
       "      <td>0.50</td>\n",
       "      <td>62.000</td>\n",
       "      <td>0.0</td>\n",
       "      <td>0.183</td>\n",
       "      <td>0.780</td>\n",
       "      <td>0.665</td>\n",
       "      <td>1.0</td>\n",
       "    </tr>\n",
       "    <tr>\n",
       "      <th>15</th>\n",
       "      <td>24.00</td>\n",
       "      <td>55.000</td>\n",
       "      <td>1.0</td>\n",
       "      <td>0.400</td>\n",
       "      <td>0.442</td>\n",
       "      <td>0.000</td>\n",
       "      <td>0.0</td>\n",
       "    </tr>\n",
       "    <tr>\n",
       "      <th>16</th>\n",
       "      <td>0.50</td>\n",
       "      <td>69.000</td>\n",
       "      <td>1.0</td>\n",
       "      <td>0.417</td>\n",
       "      <td>0.522</td>\n",
       "      <td>0.320</td>\n",
       "      <td>1.0</td>\n",
       "    </tr>\n",
       "    <tr>\n",
       "      <th>17</th>\n",
       "      <td>0.50</td>\n",
       "      <td>62.529</td>\n",
       "      <td>1.0</td>\n",
       "      <td>0.100</td>\n",
       "      <td>0.646</td>\n",
       "      <td>0.500</td>\n",
       "      <td>1.0</td>\n",
       "    </tr>\n",
       "    <tr>\n",
       "      <th>18</th>\n",
       "      <td>22.00</td>\n",
       "      <td>66.000</td>\n",
       "      <td>0.0</td>\n",
       "      <td>0.133</td>\n",
       "      <td>0.785</td>\n",
       "      <td>0.166</td>\n",
       "      <td>1.0</td>\n",
       "    </tr>\n",
       "    <tr>\n",
       "      <th>19</th>\n",
       "      <td>1.00</td>\n",
       "      <td>66.000</td>\n",
       "      <td>1.0</td>\n",
       "      <td>0.350</td>\n",
       "      <td>0.691</td>\n",
       "      <td>0.625</td>\n",
       "      <td>1.0</td>\n",
       "    </tr>\n",
       "    <tr>\n",
       "      <th>20</th>\n",
       "      <td>0.75</td>\n",
       "      <td>69.000</td>\n",
       "      <td>0.0</td>\n",
       "      <td>0.233</td>\n",
       "      <td>0.688</td>\n",
       "      <td>0.312</td>\n",
       "      <td>1.0</td>\n",
       "    </tr>\n",
       "    <tr>\n",
       "      <th>21</th>\n",
       "      <td>0.75</td>\n",
       "      <td>85.000</td>\n",
       "      <td>1.0</td>\n",
       "      <td>0.283</td>\n",
       "      <td>0.704</td>\n",
       "      <td>0.190</td>\n",
       "      <td>1.0</td>\n",
       "    </tr>\n",
       "    <tr>\n",
       "      <th>22</th>\n",
       "      <td>0.50</td>\n",
       "      <td>73.000</td>\n",
       "      <td>0.0</td>\n",
       "      <td>0.367</td>\n",
       "      <td>0.839</td>\n",
       "      <td>0.250</td>\n",
       "      <td>1.0</td>\n",
       "    </tr>\n",
       "    <tr>\n",
       "      <th>23</th>\n",
       "      <td>5.00</td>\n",
       "      <td>71.000</td>\n",
       "      <td>0.0</td>\n",
       "      <td>0.267</td>\n",
       "      <td>0.522</td>\n",
       "      <td>0.000</td>\n",
       "      <td>1.0</td>\n",
       "    </tr>\n",
       "    <tr>\n",
       "      <th>24</th>\n",
       "      <td>48.00</td>\n",
       "      <td>64.000</td>\n",
       "      <td>0.0</td>\n",
       "      <td>0.300</td>\n",
       "      <td>0.260</td>\n",
       "      <td>0.055</td>\n",
       "      <td>0.0</td>\n",
       "    </tr>\n",
       "  </tbody>\n",
       "</table>\n",
       "</div>"
      ],
      "text/plain": [
       "    survival  age_at_heart_attack  pericardial_effusion  \\\n",
       "0      11.00               71.000                   0.0   \n",
       "1      19.00               72.000                   0.0   \n",
       "2      16.00               55.000                   0.0   \n",
       "3      57.00               60.000                   0.0   \n",
       "4      19.00               57.000                   0.0   \n",
       "5      26.00               68.000                   0.0   \n",
       "6      13.00               62.000                   0.0   \n",
       "7      50.00               60.000                   0.0   \n",
       "8      19.00               46.000                   0.0   \n",
       "9      25.00               54.000                   0.0   \n",
       "10     10.00               77.000                   0.0   \n",
       "11     52.00               62.000                   1.0   \n",
       "12     52.00               73.000                   0.0   \n",
       "13     44.00               60.000                   0.0   \n",
       "14      0.50               62.000                   0.0   \n",
       "15     24.00               55.000                   1.0   \n",
       "16      0.50               69.000                   1.0   \n",
       "17      0.50               62.529                   1.0   \n",
       "18     22.00               66.000                   0.0   \n",
       "19      1.00               66.000                   1.0   \n",
       "20      0.75               69.000                   0.0   \n",
       "21      0.75               85.000                   1.0   \n",
       "22      0.50               73.000                   0.0   \n",
       "23      5.00               71.000                   0.0   \n",
       "24     48.00               64.000                   0.0   \n",
       "\n",
       "    fractional_shortening  left_ventricular_end_diastolic  wall_motion_index  \\\n",
       "0                   0.417                           0.511              0.000   \n",
       "1                   0.617                           0.399              0.350   \n",
       "2                   0.417                           0.247              0.000   \n",
       "3                   0.405                           0.512              0.225   \n",
       "4                   0.250                           0.769              0.625   \n",
       "5                   0.417                           0.446              0.000   \n",
       "6                   0.367                           0.697              0.438   \n",
       "7                   0.533                           0.657              0.000   \n",
       "8                   0.550                           0.621              0.070   \n",
       "9                   0.217                           0.487              0.095   \n",
       "10                  0.200                           0.428              0.400   \n",
       "11                  0.733                           0.287              0.070   \n",
       "12                  0.533                           0.377              0.000   \n",
       "13                  0.233                           0.316              0.000   \n",
       "14                  0.183                           0.780              0.665   \n",
       "15                  0.400                           0.442              0.000   \n",
       "16                  0.417                           0.522              0.320   \n",
       "17                  0.100                           0.646              0.500   \n",
       "18                  0.133                           0.785              0.166   \n",
       "19                  0.350                           0.691              0.625   \n",
       "20                  0.233                           0.688              0.312   \n",
       "21                  0.283                           0.704              0.190   \n",
       "22                  0.367                           0.839              0.250   \n",
       "23                  0.267                           0.522              0.000   \n",
       "24                  0.300                           0.260              0.055   \n",
       "\n",
       "    still_alive  \n",
       "0           0.0  \n",
       "1           0.0  \n",
       "2           0.0  \n",
       "3           0.0  \n",
       "4           1.0  \n",
       "5           0.0  \n",
       "6           0.0  \n",
       "7           0.0  \n",
       "8           0.0  \n",
       "9           0.0  \n",
       "10          1.0  \n",
       "11          0.0  \n",
       "12          0.0  \n",
       "13          0.0  \n",
       "14          1.0  \n",
       "15          0.0  \n",
       "16          1.0  \n",
       "17          1.0  \n",
       "18          1.0  \n",
       "19          1.0  \n",
       "20          1.0  \n",
       "21          1.0  \n",
       "22          1.0  \n",
       "23          1.0  \n",
       "24          0.0  "
      ]
     },
     "execution_count": 145,
     "metadata": {},
     "output_type": "execute_result"
    }
   ],
   "source": [
    "Echocardiogram_df.head(25).round(3)\n"
   ]
  },
  {
   "cell_type": "code",
   "execution_count": 146,
   "metadata": {},
   "outputs": [
    {
     "name": "stdout",
     "output_type": "stream",
     "text": [
      "[3.0000e-02 1.1424e+01 2.2818e+01 3.4212e+01 4.5606e+01 5.7000e+01]\n"
     ]
    }
   ],
   "source": [
    "# let's reduce this range appling the binning to get more accuracy on the result.\n",
    "NB =5\n",
    "bounds = np.linspace(np.min(x), np.max(x), NB + 1) \n",
    "x= np.ravel(Echocardiogram_df ['survival'])\n",
    "X= pd.DataFrame(x)\n",
    "\n",
    "bounds = np.linspace(np.min(x), np.max(x), NB + 1)\n",
    "print (bounds)\n"
   ]
  },
  {
   "cell_type": "code",
   "execution_count": 147,
   "metadata": {},
   "outputs": [
    {
     "name": "stdout",
     "output_type": "stream",
     "text": [
      "\n",
      "\n",
      "Binned variable x, for  5 bins\n",
      "\n",
      "Bin boundaries:  [3.0000e-02 1.1424e+01 2.2818e+01 3.4212e+01 4.5606e+01 5.7000e+01]\n",
      "Binned variable:  [1 2 2 5 2 3 2 5 2 3 1 5 5 4 1 3 1 1 2 1 1 1 1 1 5 3 3 3 1 4 1 1 3 4 3 2 1\n",
      " 2 3 3 2 4 5 1 4 2 2 1 1 1 1 2 1 1 4 2 5 4 3 1 3 1 2 5 1 5 5 4 1 3 3 4 3 2\n",
      " 1 1 2 3 3 3 3 1 1 3 1 2 5 2 1 4 5 3 3 3 4 3 1 1 3 3 2 3 1 3 3 3 1 1 3 2 4\n",
      " 3 3 3 4 3 3 3 2 4 3 2 4 2 2 1 4 4 2 2]\n"
     ]
    }
   ],
   "source": [
    "def bin(x, b): \n",
    "    nb = len(b)\n",
    "    N = len(x)\n",
    "    y = np.empty(N, int) \n",
    "    \n",
    "    for i in range(1, nb):\n",
    "        y[(x >= bounds[i-1])&(x < bounds[i])] = i\n",
    "    \n",
    "    y[x == bounds[-1]] = nb - 1\n",
    "    return y\n",
    "\n",
    "bx = bin(x, bounds)\n",
    "print (\"\\n\\nBinned variable x, for \", NB, \"bins\\n\")\n",
    "print (\"Bin boundaries: \", bounds)\n",
    "print (\"Binned variable: \", bx)"
   ]
  },
  {
   "cell_type": "code",
   "execution_count": 148,
   "metadata": {},
   "outputs": [],
   "source": [
    "Echocardiogram_df['survival'] = bx"
   ]
  },
  {
   "cell_type": "code",
   "execution_count": 149,
   "metadata": {},
   "outputs": [
    {
     "name": "stdout",
     "output_type": "stream",
     "text": [
      "[35.  45.2 55.4 65.6 75.8 86. ]\n",
      "\n",
      "\n",
      "Binned variable x, for  5 bins\n",
      "\n",
      "Bin boundaries:  [35.  45.2 55.4 65.6 75.8 86. ]\n",
      "Binned variable:  [4 4 2 3 3 4 3 3 2 2 5 3 4 3 3 2 4 3 4 4 4 5 4 4 3 2 1 2 4 2 3 2 2 3 3 3 3\n",
      " 4 5 2 4 5 3 4 3 5 3 3 3 3 3 3 3 4 3 3 4 4 5 4 4 3 4 2 2 4 3 5 5 3 3 3 2 2\n",
      " 4 3 3 3 3 2 3 5 3 2 4 4 2 3 4 3 3 2 3 3 4 3 3 3 2 4 4 3 3 3 3 3 5 3 3 4 3\n",
      " 3 3 3 3 2 3 3 3 3 3 3 2 3 3 3 3 4 3 3]\n"
     ]
    }
   ],
   "source": [
    "NB =5\n",
    "bounds = np.linspace(np.min(x), np.max(x), NB + 1) \n",
    "x= np.ravel(Echocardiogram_df ['age_at_heart_attack'])\n",
    "X= pd.DataFrame(x)\n",
    "\n",
    "bounds = np.linspace(np.min(x), np.max(x), NB + 1)\n",
    "print (bounds)\n",
    "\n",
    "def bin(x, b): \n",
    "    nb = len(b)\n",
    "    N = len(x)\n",
    "    y = np.empty(N, int) \n",
    "    \n",
    "    for i in range(1, nb):\n",
    "        y[(x >= bounds[i-1])&(x < bounds[i])] = i\n",
    "    \n",
    "    y[x == bounds[-1]] = nb - 1\n",
    "    return y\n",
    "\n",
    "bx = bin(x, bounds)\n",
    "print (\"\\n\\nBinned variable x, for \", NB, \"bins\\n\")\n",
    "print (\"Bin boundaries: \", bounds)\n",
    "print (\"Binned variable: \", bx)\n",
    "\n",
    "Echocardiogram_df['age_at_heart_attack'] = bx"
   ]
  },
  {
   "cell_type": "code",
   "execution_count": 150,
   "metadata": {},
   "outputs": [
    {
     "data": {
      "text/html": [
       "<div>\n",
       "<style scoped>\n",
       "    .dataframe tbody tr th:only-of-type {\n",
       "        vertical-align: middle;\n",
       "    }\n",
       "\n",
       "    .dataframe tbody tr th {\n",
       "        vertical-align: top;\n",
       "    }\n",
       "\n",
       "    .dataframe thead th {\n",
       "        text-align: right;\n",
       "    }\n",
       "</style>\n",
       "<table border=\"1\" class=\"dataframe\">\n",
       "  <thead>\n",
       "    <tr style=\"text-align: right;\">\n",
       "      <th></th>\n",
       "      <th>survival</th>\n",
       "      <th>age_at_heart_attack</th>\n",
       "      <th>pericardial_effusion</th>\n",
       "      <th>fractional_shortening</th>\n",
       "      <th>left_ventricular_end_diastolic</th>\n",
       "      <th>wall_motion_index</th>\n",
       "      <th>still_alive</th>\n",
       "    </tr>\n",
       "  </thead>\n",
       "  <tbody>\n",
       "    <tr>\n",
       "      <th>0</th>\n",
       "      <td>1</td>\n",
       "      <td>4</td>\n",
       "      <td>0.0</td>\n",
       "      <td>0.417</td>\n",
       "      <td>0.511</td>\n",
       "      <td>0.000</td>\n",
       "      <td>0.0</td>\n",
       "    </tr>\n",
       "    <tr>\n",
       "      <th>1</th>\n",
       "      <td>2</td>\n",
       "      <td>4</td>\n",
       "      <td>0.0</td>\n",
       "      <td>0.617</td>\n",
       "      <td>0.399</td>\n",
       "      <td>0.350</td>\n",
       "      <td>0.0</td>\n",
       "    </tr>\n",
       "    <tr>\n",
       "      <th>2</th>\n",
       "      <td>2</td>\n",
       "      <td>2</td>\n",
       "      <td>0.0</td>\n",
       "      <td>0.417</td>\n",
       "      <td>0.247</td>\n",
       "      <td>0.000</td>\n",
       "      <td>0.0</td>\n",
       "    </tr>\n",
       "    <tr>\n",
       "      <th>3</th>\n",
       "      <td>5</td>\n",
       "      <td>3</td>\n",
       "      <td>0.0</td>\n",
       "      <td>0.405</td>\n",
       "      <td>0.512</td>\n",
       "      <td>0.225</td>\n",
       "      <td>0.0</td>\n",
       "    </tr>\n",
       "    <tr>\n",
       "      <th>4</th>\n",
       "      <td>2</td>\n",
       "      <td>3</td>\n",
       "      <td>0.0</td>\n",
       "      <td>0.250</td>\n",
       "      <td>0.769</td>\n",
       "      <td>0.625</td>\n",
       "      <td>1.0</td>\n",
       "    </tr>\n",
       "    <tr>\n",
       "      <th>...</th>\n",
       "      <td>...</td>\n",
       "      <td>...</td>\n",
       "      <td>...</td>\n",
       "      <td>...</td>\n",
       "      <td>...</td>\n",
       "      <td>...</td>\n",
       "      <td>...</td>\n",
       "    </tr>\n",
       "    <tr>\n",
       "      <th>126</th>\n",
       "      <td>1</td>\n",
       "      <td>3</td>\n",
       "      <td>0.0</td>\n",
       "      <td>0.383</td>\n",
       "      <td>0.538</td>\n",
       "      <td>0.000</td>\n",
       "      <td>1.0</td>\n",
       "    </tr>\n",
       "    <tr>\n",
       "      <th>127</th>\n",
       "      <td>4</td>\n",
       "      <td>3</td>\n",
       "      <td>0.0</td>\n",
       "      <td>0.450</td>\n",
       "      <td>0.706</td>\n",
       "      <td>0.050</td>\n",
       "      <td>0.0</td>\n",
       "    </tr>\n",
       "    <tr>\n",
       "      <th>128</th>\n",
       "      <td>4</td>\n",
       "      <td>4</td>\n",
       "      <td>0.0</td>\n",
       "      <td>0.317</td>\n",
       "      <td>0.612</td>\n",
       "      <td>0.105</td>\n",
       "      <td>0.0</td>\n",
       "    </tr>\n",
       "    <tr>\n",
       "      <th>129</th>\n",
       "      <td>2</td>\n",
       "      <td>3</td>\n",
       "      <td>0.0</td>\n",
       "      <td>0.217</td>\n",
       "      <td>0.457</td>\n",
       "      <td>0.180</td>\n",
       "      <td>0.0</td>\n",
       "    </tr>\n",
       "    <tr>\n",
       "      <th>130</th>\n",
       "      <td>2</td>\n",
       "      <td>3</td>\n",
       "      <td>0.0</td>\n",
       "      <td>0.233</td>\n",
       "      <td>0.491</td>\n",
       "      <td>0.205</td>\n",
       "      <td>0.0</td>\n",
       "    </tr>\n",
       "  </tbody>\n",
       "</table>\n",
       "<p>130 rows × 7 columns</p>\n",
       "</div>"
      ],
      "text/plain": [
       "     survival  age_at_heart_attack  pericardial_effusion  \\\n",
       "0           1                    4                   0.0   \n",
       "1           2                    4                   0.0   \n",
       "2           2                    2                   0.0   \n",
       "3           5                    3                   0.0   \n",
       "4           2                    3                   0.0   \n",
       "..        ...                  ...                   ...   \n",
       "126         1                    3                   0.0   \n",
       "127         4                    3                   0.0   \n",
       "128         4                    4                   0.0   \n",
       "129         2                    3                   0.0   \n",
       "130         2                    3                   0.0   \n",
       "\n",
       "     fractional_shortening  left_ventricular_end_diastolic  wall_motion_index  \\\n",
       "0                    0.417                           0.511              0.000   \n",
       "1                    0.617                           0.399              0.350   \n",
       "2                    0.417                           0.247              0.000   \n",
       "3                    0.405                           0.512              0.225   \n",
       "4                    0.250                           0.769              0.625   \n",
       "..                     ...                             ...                ...   \n",
       "126                  0.383                           0.538              0.000   \n",
       "127                  0.450                           0.706              0.050   \n",
       "128                  0.317                           0.612              0.105   \n",
       "129                  0.217                           0.457              0.180   \n",
       "130                  0.233                           0.491              0.205   \n",
       "\n",
       "     still_alive  \n",
       "0            0.0  \n",
       "1            0.0  \n",
       "2            0.0  \n",
       "3            0.0  \n",
       "4            1.0  \n",
       "..           ...  \n",
       "126          1.0  \n",
       "127          0.0  \n",
       "128          0.0  \n",
       "129          0.0  \n",
       "130          0.0  \n",
       "\n",
       "[130 rows x 7 columns]"
      ]
     },
     "execution_count": 150,
     "metadata": {},
     "output_type": "execute_result"
    }
   ],
   "source": [
    "#Now we can see from the graph, outliers has been removed from columns \n",
    "Echocardiogram_df.head(25).head(3)\n",
    "Echocardiogram_df.round(3)"
   ]
  },
  {
   "cell_type": "code",
   "execution_count": 151,
   "metadata": {},
   "outputs": [
    {
     "data": {
      "text/plain": [
       "'\\nIn below graph, i can clearly see most the points are collected to the one part of the graph. This is another way to indicate that these columns are playing important role in the model.\\n'"
      ]
     },
     "execution_count": 151,
     "metadata": {},
     "output_type": "execute_result"
    },
    {
     "data": {
      "image/png": "[encoded data removed]",
      "text/plain": [
       "<Figure size 425.895x360 with 1 Axes>"
      ]
     },
     "metadata": {},
     "output_type": "display_data"
    }
   ],
   "source": [
    "# I found my data.Next step is apply data science model.Now In order to **build a model**, the features must be **numeric**, and every observation must have the **same features in the same order**. Let's visualize the data first.to get the more ideas about columns.\n",
    "\n",
    "# In the below graph I can clearly see that still_alive patients have less fractional_shortening number and high LVED\n",
    "\n",
    "\n",
    "sns.lmplot('fractional_shortening','left_ventricular_end_diastolic',  data=Echocardiogram_df, hue='still_alive',\n",
    "           palette='Set1', fit_reg=False, scatter_kws={\"s\": 30});\n",
    "\n",
    "'''\n",
    "In below graph, i can clearly see most the points are collected to the one part of the graph. This is another way to indicate that these columns are playing important role in the model.\n",
    "'''"
   ]
  },
  {
   "cell_type": "code",
   "execution_count": 158,
   "metadata": {
    "scrolled": true
   },
   "outputs": [
    {
     "data": {
      "image/png": "[encoded data removed]",
      "text/plain": [
       "<Figure size 432x288 with 1 Axes>"
      ]
     },
     "metadata": {},
     "output_type": "display_data"
    }
   ],
   "source": [
    "#from mpl_toolkits.mplot3d import Axes3D\n",
    "import matplotlib.pyplot as plt\n",
    "from mpl_toolkits.mplot3d import Axes3D\n",
    "\n",
    "fig = plt.figure()\n",
    "ax = fig.add_subplot(111, projection='3d')\n",
    "\n",
    "x =(Echocardiogram_df ['fractional_shortening'])\n",
    "y =(Echocardiogram_df ['left_ventricular_end_diastolic'])\n",
    "z =(Echocardiogram_df ['wall_motion_index'])\n",
    "\n",
    "ax.scatter(x, y, z, c='r', marker='o')\n",
    "\n",
    "ax.set_xlabel('X Label')\n",
    "ax.set_ylabel('Y Label')\n",
    "ax.set_zlabel('Z Label')\n",
    "\n",
    "plt.show()"
   ]
  },
  {
   "cell_type": "code",
   "execution_count": null,
   "metadata": {},
   "outputs": [],
   "source": [
    "sns.lmplot('fractional_shortening','left_ventricular_end_diastolic',  data=Echocardiogram_df, hue='still_alive',\n",
    "           palette='Set1', fit_reg=False, scatter_kws={\"s\": 30});\n",
    "\n"
   ]
  },
  {
   "cell_type": "markdown",
   "metadata": {},
   "source": [
    "'''\n",
    " Now 2 part - Apply a data science model\n",
    " \n",
    " I know that I need to use Supervised learning\n",
    " My main Question was \"How do I choose which below model to use for my supervised learning task?\"\n",
    " \n",
    " Support Vector Machines\n",
    " linear regression\n",
    " logistic regression\n",
    " naive Bayes\n",
    " decision trees\n",
    " k-nearest neighbor algorithm\n",
    " \n",
    " Solution: Model evaluation procedures - It helps to find the best model that represents our data and how well the chosen model will work in the future.\n",
    " \n",
    " Let's start:\n",
    " \n",
    " Stage 1: The first Requirement is \"Features and response are separate objects\" \n",
    " So let's Define the input features and target column\n",
    " \n",
    "'''"
   ]
  },
  {
   "cell_type": "code",
   "execution_count": 161,
   "metadata": {},
   "outputs": [],
   "source": [
    "\n",
    "#define X and y\n",
    "X= Echocardiogram_df[['survival','age_at_heart_attack','pericardial_effusion','fractional_shortening','left_ventricular_end_diastolic', 'wall_motion_index']].values\n",
    "y= Echocardiogram_df['still_alive']"
   ]
  },
  {
   "cell_type": "code",
   "execution_count": 163,
   "metadata": {},
   "outputs": [
    {
     "name": "stdout",
     "output_type": "stream",
     "text": [
      "(91, 6)\n",
      "(39, 6)\n",
      "(91,)\n",
      "(39,)\n"
     ]
    }
   ],
   "source": [
    "#Split the dataset into two pieces: a training set and a testing set.\n",
    "# Train the model on the training set.\n",
    "# Test the model on the testing set, and evaluate how well we did.\n",
    "# split X and y into training and testing sets\n",
    "\n",
    "from sklearn.model_selection import train_test_split\n",
    "\n",
    "X_train, X_test, y_train, y_test = train_test_split(X, y, random_state=1, test_size =.3)\n",
    "print(X_train.shape)\n",
    "print(X_test.shape)\n",
    "print(y_train.shape)\n",
    "print(y_test.shape)\n"
   ]
  },
  {
   "cell_type": "markdown",
   "metadata": {},
   "source": [
    "'''\n",
    " How to apply Model?\n",
    " \n",
    " Step 1. Import the model you want to use\n",
    " \n",
    " Step 2. Make an instance of the Model\n",
    " \n",
    " Step 3. Training the model on the data, storing the information learned from the data\n",
    " \n",
    " Step 4. Predict labels for new data (new images)\n",
    "\n",
    " Appling Model -KNN\n",
    " Make an instance of Estimator\n",
    "'''"
   ]
  },
  {
   "cell_type": "code",
   "execution_count": 164,
   "metadata": {},
   "outputs": [
    {
     "name": "stdout",
     "output_type": "stream",
     "text": [
      "KNeighborsClassifier(algorithm='auto', leaf_size=30, metric='minkowski',\n",
      "                     metric_params=None, n_jobs=None, n_neighbors=5, p=2,\n",
      "                     weights='uniform')\n",
      "0.8205128205128205\n"
     ]
    }
   ],
   "source": [
    "\n",
    "from sklearn.neighbors import KNeighborsClassifier\n",
    "knn = KNeighborsClassifier(n_neighbors=5)\n",
    "print(knn)\n",
    "knn.fit(X_train,y_train)\n",
    "\n",
    "y_pred = knn.predict(X_test)\n",
    "print(accuracy_score(y_test, y_pred))"
   ]
  },
  {
   "cell_type": "code",
   "execution_count": 165,
   "metadata": {},
   "outputs": [
    {
     "name": "stdout",
     "output_type": "stream",
     "text": [
      "KNeighborsClassifier(algorithm='auto', leaf_size=30, metric='minkowski',\n",
      "                     metric_params=None, n_jobs=None, n_neighbors=1, p=2,\n",
      "                     weights='uniform')\n"
     ]
    },
    {
     "data": {
      "text/plain": [
       "KNeighborsClassifier(algorithm='auto', leaf_size=30, metric='minkowski',\n",
       "                     metric_params=None, n_jobs=None, n_neighbors=1, p=2,\n",
       "                     weights='uniform')"
      ]
     },
     "execution_count": 165,
     "metadata": {},
     "output_type": "execute_result"
    }
   ],
   "source": [
    "#Repeat for KNN with K=1:\n",
    "from sklearn.neighbors import KNeighborsClassifier\n",
    "knn = KNeighborsClassifier(n_neighbors=1)\n",
    "print(knn)\n",
    "knn.fit(X_train,y_train)"
   ]
  },
  {
   "cell_type": "code",
   "execution_count": 166,
   "metadata": {},
   "outputs": [
    {
     "name": "stdout",
     "output_type": "stream",
     "text": [
      "0.7948717948717948\n"
     ]
    }
   ],
   "source": [
    "y_pred = knn.predict(X_test)\n",
    "print(accuracy_score(y_test, y_pred))"
   ]
  },
  {
   "cell_type": "code",
   "execution_count": 167,
   "metadata": {},
   "outputs": [
    {
     "name": "stdout",
     "output_type": "stream",
     "text": [
      "KNeighborsClassifier(algorithm='auto', leaf_size=30, metric='minkowski',\n",
      "                     metric_params=None, n_jobs=None, n_neighbors=2, p=2,\n",
      "                     weights='uniform')\n",
      "0.8461538461538461\n"
     ]
    }
   ],
   "source": [
    "#Repeat for KNN with K=2:\n",
    "from sklearn.neighbors import KNeighborsClassifier\n",
    "knn = KNeighborsClassifier(n_neighbors=2)\n",
    "print(knn)\n",
    "knn.fit(X_train,y_train)\n",
    "y_pred = knn.predict(X_test)\n",
    "print(accuracy_score(y_test, y_pred))"
   ]
  },
  {
   "cell_type": "markdown",
   "metadata": {},
   "source": [
    "'''\n",
    "Accuracy is better with K = 2 so we can use K=2 to predict the target in our dataset. But what if you have big data? For KNN models, complexity is determined by the value of K (lower value = more complex). Let's see if we can use other function to determine the value of K\n",
    "See if we can locate value for K using function?\n",
    "'''"
   ]
  },
  {
   "cell_type": "code",
   "execution_count": 168,
   "metadata": {},
   "outputs": [],
   "source": [
    "# try K=1 through K=25 and record testing accuracy\n",
    "k_range = list(range(1, 26))\n",
    "scores = []\n",
    "for k in k_range:\n",
    "    knn = KNeighborsClassifier(n_neighbors=k)\n",
    "    knn.fit(X_train, y_train)\n",
    "    y_pred = knn.predict(X_test)\n",
    "    scores.append(accuracy_score(y_test, y_pred))"
   ]
  },
  {
   "cell_type": "code",
   "execution_count": 169,
   "metadata": {},
   "outputs": [
    {
     "data": {
      "text/plain": [
       "Text(0, 0.5, 'Testing Accuracy')"
      ]
     },
     "execution_count": 169,
     "metadata": {},
     "output_type": "execute_result"
    },
    {
     "data": {
      "image/png": "[encoded data removed]",
      "text/plain": [
       "<Figure size 432x288 with 1 Axes>"
      ]
     },
     "metadata": {},
     "output_type": "display_data"
    }
   ],
   "source": [
    "\n",
    "# plot the relationship between K and testing accuracy\n",
    "plt.plot(k_range, scores)\n",
    "plt.xlabel('Value of K for KNN')\n",
    "plt.ylabel('Testing Accuracy')"
   ]
  },
  {
   "cell_type": "code",
   "execution_count": 170,
   "metadata": {},
   "outputs": [
    {
     "name": "stdout",
     "output_type": "stream",
     "text": [
      "KNeighborsClassifier(algorithm='auto', leaf_size=30, metric='minkowski',\n",
      "                     metric_params=None, n_jobs=None, n_neighbors=15, p=2,\n",
      "                     weights='uniform')\n",
      "0.8717948717948718\n"
     ]
    }
   ],
   "source": [
    "# Graph shows that I can pick any number between 13 to 23. let's take K = 15\n",
    "#Repeat for KNN with K=15:\n",
    "from sklearn.neighbors import KNeighborsClassifier\n",
    "knn = KNeighborsClassifier(n_neighbors=15)\n",
    "print(knn)\n",
    "knn.fit(X_train,y_train)\n",
    "y_pred = knn.predict(X_test)\n",
    "print(accuracy_score(y_test, y_pred))"
   ]
  },
  {
   "cell_type": "code",
   "execution_count": 171,
   "metadata": {},
   "outputs": [],
   "source": [
    "# Create a function to guess when a patient is alive or dead\n",
    "def Alive_or_Dead(survival,age_at_heart_attack,pericardial_effusion,fractional_shortening,\n",
    "left_ventricular_end_diastolic,wall_motion_index):\n",
    "    \n",
    "    if(knn.predict([[survival,age_at_heart_attack,pericardial_effusion,fractional_shortening,\n",
    "left_ventricular_end_diastolic,wall_motion_index]]))==0:\n",
    "        print('You\\'re looking at a Alive person!')\n",
    "    else:\n",
    "        print('You\\'re looking at a Dead person!')"
   ]
  },
  {
   "cell_type": "code",
   "execution_count": 172,
   "metadata": {},
   "outputs": [
    {
     "name": "stdout",
     "output_type": "stream",
     "text": [
      "You're looking at a Alive person!\n"
     ]
    }
   ],
   "source": [
    "# Predict if person is alive or not\n",
    "Alive_or_Dead(3,1,.1,.448,.22,.135)"
   ]
  },
  {
   "cell_type": "code",
   "execution_count": 173,
   "metadata": {},
   "outputs": [
    {
     "name": "stdout",
     "output_type": "stream",
     "text": [
      "0.8717948717948718\n",
      "[[28  2]\n",
      " [ 3  6]]\n"
     ]
    }
   ],
   "source": [
    "# compare actual response values (y_test) with predicted response values (y_pred)\n",
    "AR =accuracy_score(y_test, y_pred)\n",
    "print(AR)\n",
    "\n",
    "\n",
    "print(confusion_matrix(y_test, y_pred))"
   ]
  },
  {
   "cell_type": "code",
   "execution_count": 174,
   "metadata": {},
   "outputs": [
    {
     "name": "stdout",
     "output_type": "stream",
     "text": [
      "28 2 3 6\n"
     ]
    }
   ],
   "source": [
    "CM_log = confusion_matrix(y_test, y_pred)\n",
    "\n",
    "TN, FP, FN, TP = CM_log.ravel()\n",
    "print(TN, FP, FN, TP )"
   ]
  },
  {
   "cell_type": "code",
   "execution_count": 175,
   "metadata": {},
   "outputs": [
    {
     "name": "stdout",
     "output_type": "stream",
     "text": [
      "0.8717948717948718\n",
      "0.8717948717948718\n"
     ]
    }
   ],
   "source": [
    "#Classification Accuracy: Overall, how often is the classifier correct?\n",
    "print((TP + TN) / float(TP + TN + FP + FN))\n",
    "print(accuracy_score(y_test, y_pred))\n"
   ]
  },
  {
   "cell_type": "code",
   "execution_count": 176,
   "metadata": {},
   "outputs": [
    {
     "name": "stdout",
     "output_type": "stream",
     "text": [
      "0.1282051282051282\n",
      "0.1282051282051282\n"
     ]
    }
   ],
   "source": [
    "#Classification Error: Overall, how often is the classifier incorrect?\n",
    "\n",
    "print((FP + FN) / float(TP + TN + FP + FN))\n",
    "print(1 - accuracy_score(y_test, y_pred))"
   ]
  },
  {
   "cell_type": "code",
   "execution_count": 177,
   "metadata": {},
   "outputs": [
    {
     "name": "stdout",
     "output_type": "stream",
     "text": [
      "0.6666666666666666\n",
      "0.6666666666666666\n"
     ]
    }
   ],
   "source": [
    "#Sensitivity: When the actual value is positive, how often is the prediction correct?\n",
    "#How \"sensitive\" is the classifier to detecting positive instances?\n",
    "print(TP / float(TP + FN))\n",
    "print(recall_score(y_test, y_pred))"
   ]
  },
  {
   "cell_type": "code",
   "execution_count": 178,
   "metadata": {},
   "outputs": [
    {
     "name": "stdout",
     "output_type": "stream",
     "text": [
      "0.75\n",
      "0.75\n"
     ]
    }
   ],
   "source": [
    "#Precision: When a positive value is predicted, how often is the prediction correct?\n",
    "print(TP / float(TP + FP))\n",
    "print(precision_score(y_test, y_pred))"
   ]
  },
  {
   "cell_type": "code",
   "execution_count": 179,
   "metadata": {},
   "outputs": [
    {
     "name": "stdout",
     "output_type": "stream",
     "text": [
      "0.7999999999999999\n",
      "0.7058823529411765\n"
     ]
    }
   ],
   "source": [
    "# ROC curve can help you to choose a threshold that balances sensitivity and specificity in a way that makes sense for your particular context\n",
    "print(roc_auc_score(y_test, y_pred))\n",
    "#f1_score\n",
    "print(f1_score(y_test, y_pred))"
   ]
  },
  {
   "cell_type": "code",
   "execution_count": 180,
   "metadata": {},
   "outputs": [
    {
     "name": "stdout",
     "output_type": "stream",
     "text": [
      "[0.06666667 0.06666667 0.46666667 0.33333333 0.8        0.06666667\n",
      " 0.06666667 0.33333333 0.13333333 0.4        0.8        0.06666667\n",
      " 0.06666667 0.86666667 0.06666667 0.33333333 0.93333333 0.13333333\n",
      " 0.4        0.13333333 0.26666667 0.13333333 0.33333333 0.13333333\n",
      " 0.         0.06666667 0.86666667 0.06666667 0.06666667 0.46666667\n",
      " 0.06666667 0.06666667 0.06666667 0.06666667 0.13333333 0.86666667\n",
      " 0.53333333 0.06666667 0.6       ]\n"
     ]
    }
   ],
   "source": [
    "# Store the predicted probabilities for class 1\n",
    "y_pred_prob = knn.predict_proba(X_test)[:, 1]\n",
    "print(y_pred_prob)\n"
   ]
  },
  {
   "cell_type": "code",
   "execution_count": 181,
   "metadata": {},
   "outputs": [
    {
     "name": "stdout",
     "output_type": "stream",
     "text": [
      "\n",
      "TP rates: [0.   0.11 0.33 0.44 0.67 0.67 0.78 0.89 0.89 0.89 1.   1.  ]\n",
      "\n",
      "FP rates: [0.   0.   0.03 0.07 0.07 0.13 0.17 0.27 0.3  0.5  0.97 1.  ]\n",
      "\n",
      "Probability thresholds: [1.93 0.93 0.87 0.8  0.53 0.47 0.4  0.33 0.27 0.13 0.07 0.  ]\n"
     ]
    }
   ],
   "source": [
    "#ROC curve can help you to choose a threshold that balances sensitivity and specificity in a way that makes sense for your particular context\n",
    "LW = 1.5 # line width for plots\n",
    "LL = \"lower right\" # legend location\n",
    "LC = 'darkgreen' # Line Color\n",
    "\n",
    "fpr, tpr, th = roc_curve(y_test, y_pred_prob) # False Positive Rate, True Posisive Rate, probability thresholds\n",
    "AUC = auc(fpr, tpr)\n",
    "print (\"\\nTP rates:\", np.round(tpr, 2))\n",
    "print (\"\\nFP rates:\", np.round(fpr, 2))\n",
    "print (\"\\nProbability thresholds:\", np.round(th, 2))"
   ]
  },
  {
   "cell_type": "code",
   "execution_count": 182,
   "metadata": {},
   "outputs": [
    {
     "data": {
      "image/png": "[encoded data removed]",
      "text/plain": [
       "<Figure size 432x288 with 1 Axes>"
      ]
     },
     "metadata": {},
     "output_type": "display_data"
    }
   ],
   "source": [
    "plt.figure()\n",
    "plt.title('ROC curve for Still Alive classifier')\n",
    "plt.xlim([0.0, 1.0])\n",
    "plt.ylim([0.0, 1.05])\n",
    "plt.xlabel('FALSE Positive Rate (1 - Specificity)')\n",
    "plt.ylabel('TRUE Positive Rate (Sensitivity)')\n",
    "plt.plot(fpr, tpr, color=LC,lw=LW, label='ROC curve (area = %0.2f)' % AUC)\n",
    "plt.plot([0, 1], [0, 1], color='navy', lw=LW, linestyle='--') # reference line for random classifier\n",
    "plt.legend(loc=LL)\n",
    "plt.show()"
   ]
  },
  {
   "cell_type": "code",
   "execution_count": 183,
   "metadata": {},
   "outputs": [
    {
     "name": "stdout",
     "output_type": "stream",
     "text": [
      "\n",
      "AUC score (using auc function): 0.85\n",
      "\n",
      "AUC score (using roc_auc_score function): 0.85 \n",
      "\n"
     ]
    }
   ],
   "source": [
    "print (\"\\nAUC score (using auc function):\", np.round(AUC, 2))\n",
    "print (\"\\nAUC score (using roc_auc_score function):\", np.round(roc_auc_score(y_test, y_pred_prob), 2), \"\\n\")"
   ]
  },
  {
   "cell_type": "code",
   "execution_count": 184,
   "metadata": {},
   "outputs": [
    {
     "name": "stdout",
     "output_type": "stream",
     "text": [
      "[0. 0. 0. 0. 1. 0. 0. 0. 0. 0. 1. 0. 0. 1. 0. 0. 1. 0. 0. 0. 0. 0. 0. 0.\n",
      " 0. 0. 1. 0. 0. 1. 0. 0. 0. 0. 0. 1. 1. 0. 1.]\n"
     ]
    }
   ],
   "source": [
    "# Using a different classification model --Linear regression \n",
    "\n",
    "# Linear regression is a simple machine learning method that you can use to predict an observation's value based on the relationship between the target variable and independent, linearily related numeric predictive features.\n",
    "# import the class\n",
    "from sklearn.linear_model import LogisticRegression\n",
    "# instantiate the model (using the default parameters)\n",
    "# train a logistic regression model on the training set\n",
    "logreg = LogisticRegression()\n",
    "# fit the model with data --Model is learning the relationship between X and y\n",
    "logreg.fit(X_train,y_train)\n",
    "\n",
    "#  make predictions on the testing set\n",
    "y_pred = logreg.predict(X_test)\n",
    "print(y_pred)\n"
   ]
  },
  {
   "cell_type": "code",
   "execution_count": 185,
   "metadata": {},
   "outputs": [
    {
     "name": "stdout",
     "output_type": "stream",
     "text": [
      "0.8461538461538461\n",
      "Coefficients:\n",
      "[[-1.90211253  0.51470374  0.34267436 -0.92233659  0.35073447  0.27813933]]\n",
      "Intercept:\n",
      "[1.65487549]\n",
      "True: 109    0.0\n",
      "106    0.0\n",
      "36     0.0\n",
      "125    0.0\n",
      "54     0.0\n",
      "70     0.0\n",
      "94     0.0\n",
      "47     1.0\n",
      "55     0.0\n",
      "122    0.0\n",
      "31     1.0\n",
      "43     0.0\n",
      "78     0.0\n",
      "89     1.0\n",
      "112    0.0\n",
      "Name: still_alive, dtype: float64\n",
      "Pred: [0. 0. 0. 0. 1. 0. 0. 0. 0. 0. 1. 0. 0. 1. 0.]\n"
     ]
    }
   ],
   "source": [
    "# Classification accuracy: percentage of correct predictions\n",
    "# compare actual response values (y_test) with predicted response values (y_pred)\n",
    "AR =accuracy_score(y_test, y_pred)\n",
    "print(AR)\n",
    "\n",
    "# each row of this matrix corresponds to each one of the classes of the dataset\n",
    "print (\"Coefficients:\")\n",
    "print (logreg.coef_)\n",
    "\n",
    "# each element of this vector corresponds to each one of the classes of the dataset\n",
    "print (\"Intercept:\")\n",
    "print (logreg.intercept_)\n",
    "\n",
    "\n",
    "# print the first 15 true and predicted responses\n",
    "print('True:', y_test[0:15])\n",
    "print('Pred:', y_pred[0:15])"
   ]
  },
  {
   "cell_type": "code",
   "execution_count": 186,
   "metadata": {},
   "outputs": [
    {
     "name": "stdout",
     "output_type": "stream",
     "text": [
      "[[27  3]\n",
      " [ 3  6]]\n"
     ]
    }
   ],
   "source": [
    "# Classification accuracy is the easiest classification metric to understand\n",
    "# but it does not tell you what \"types\" of errors your classifier is making.\n",
    "# so we are using the Table that describes the performance of a classification model called as Confusion matrix.\n",
    "\n",
    "# IMPORTANT: first argument is true values, second argument is predicted values\n",
    "# this produces a 2x2 numpy array (matrix)\n",
    "print(confusion_matrix(y_test, y_pred))\n"
   ]
  },
  {
   "cell_type": "code",
   "execution_count": 187,
   "metadata": {},
   "outputs": [
    {
     "name": "stdout",
     "output_type": "stream",
     "text": [
      "27 3 3 6\n"
     ]
    }
   ],
   "source": [
    "CM_log = confusion_matrix(y_test, y_pred)\n",
    "\n",
    "TN, FP, FN, TP = CM_log.ravel()\n",
    "print(TN, FP, FN, TP)"
   ]
  },
  {
   "cell_type": "code",
   "execution_count": 188,
   "metadata": {},
   "outputs": [
    {
     "name": "stdout",
     "output_type": "stream",
     "text": [
      "0.8461538461538461\n",
      "0.8461538461538461\n",
      "0.15384615384615385\n",
      "0.15384615384615385\n",
      "0.6666666666666666\n",
      "0.6666666666666666\n"
     ]
    }
   ],
   "source": [
    "#Classification Accuracy: Overall, how often is the classifier correct?\n",
    "print((TP + TN) / float(TP + TN + FP + FN))\n",
    "print(accuracy_score(y_test, y_pred))\n",
    "\n",
    "#Classification Error: Overall, how often is the classifier incorrect?\n",
    "print((FP + FN) / float(TP + TN + FP + FN))\n",
    "print(1 - accuracy_score(y_test, y_pred))\n",
    "\n",
    "#Sensitivity: When the actual value is positive, how often is the prediction correct?\n",
    "#How \"sensitive\" is the classifier to detecting positive instances?\n",
    "print(TP / float(TP + FN))\n",
    "print(recall_score(y_test, y_pred))"
   ]
  },
  {
   "cell_type": "code",
   "execution_count": 189,
   "metadata": {},
   "outputs": [
    {
     "name": "stdout",
     "output_type": "stream",
     "text": [
      "0.6666666666666666\n",
      "0.6666666666666666\n"
     ]
    }
   ],
   "source": [
    "#Precision: When a positive value is predicted, how often is the prediction correct?\n",
    "print(TP / float(TP + FP))\n",
    "print(precision_score(y_test, y_pred))"
   ]
  },
  {
   "cell_type": "code",
   "execution_count": 190,
   "metadata": {},
   "outputs": [
    {
     "name": "stdout",
     "output_type": "stream",
     "text": [
      "0.6666666666666666\n"
     ]
    }
   ],
   "source": [
    "#f1_score\n",
    "print(f1_score(y_test, y_pred))\n"
   ]
  },
  {
   "cell_type": "code",
   "execution_count": 191,
   "metadata": {},
   "outputs": [],
   "source": [
    "# Store the predicted probabilities for class 1\n",
    "y_pred_prob = logreg.predict_proba(X_test)[:, 1]\n"
   ]
  },
  {
   "cell_type": "code",
   "execution_count": 192,
   "metadata": {},
   "outputs": [
    {
     "name": "stdout",
     "output_type": "stream",
     "text": [
      "0.8814814814814815\n"
     ]
    }
   ],
   "source": [
    "# ROC curve can help you to choose a threshold that balances sensitivity and specificity in a way that makes sense for your particular context\n",
    "\n",
    "# IMPORTANT: first argument is true values,second argument is predicted probabilities\n",
    "\n",
    "print(roc_auc_score(y_test, y_pred_prob))"
   ]
  },
  {
   "cell_type": "code",
   "execution_count": 193,
   "metadata": {},
   "outputs": [
    {
     "name": "stdout",
     "output_type": "stream",
     "text": [
      "\n",
      "TP rates: [0.   0.   0.22 0.22 0.56 0.56 0.67 0.67 0.78 0.78 0.89 0.89 1.   1.  ]\n",
      "\n",
      "FP rates: [0.   0.03 0.03 0.07 0.07 0.1  0.1  0.13 0.13 0.17 0.17 0.4  0.4  1.  ]\n",
      "\n",
      "Probability thresholds: [1.89 0.89 0.86 0.84 0.62 0.57 0.56 0.44 0.43 0.42 0.4  0.12 0.11 0.  ]\n"
     ]
    }
   ],
   "source": [
    "# ROC analysis\n",
    "LW = 1.5 # line width for plots\n",
    "LL = \"lower right\" # legend location\n",
    "LC = 'darkgreen' # Line Color\n",
    "\n",
    "fpr, tpr, th = roc_curve(y_test, y_pred_prob) # False Positive Rate, True Posisive Rate, probability thresholds\n",
    "AUC = auc(fpr, tpr)\n",
    "print (\"\\nTP rates:\", np.round(tpr, 2))\n",
    "print (\"\\nFP rates:\", np.round(fpr, 2))\n",
    "print (\"\\nProbability thresholds:\", np.round(th, 2))\n",
    "#####################"
   ]
  },
  {
   "cell_type": "code",
   "execution_count": 194,
   "metadata": {},
   "outputs": [
    {
     "data": {
      "image/png": "[encoded data removed]",
      "text/plain": [
       "<Figure size 432x288 with 1 Axes>"
      ]
     },
     "metadata": {},
     "output_type": "display_data"
    }
   ],
   "source": [
    "plt.figure()\n",
    "plt.title('ROC curve for Still Alive classifier')\n",
    "plt.xlim([0.0, 1.0])\n",
    "plt.ylim([0.0, 1.05])\n",
    "plt.xlabel('FALSE Positive Rate (1 - Specificity)')\n",
    "plt.ylabel('TRUE Positive Rate (Sensitivity)')\n",
    "plt.plot(fpr, tpr, color=LC,lw=LW, label='ROC curve (area = %0.2f)' % AUC)\n",
    "plt.plot([0, 1], [0, 1], color='navy', lw=LW, linestyle='--') # reference line for random classifier\n",
    "plt.legend(loc=LL)\n",
    "plt.show()\n"
   ]
  },
  {
   "cell_type": "code",
   "execution_count": 195,
   "metadata": {},
   "outputs": [
    {
     "name": "stdout",
     "output_type": "stream",
     "text": [
      "\n",
      "AUC score (using auc function): 0.88\n",
      "\n",
      "AUC score (using roc_auc_score function): 0.88 \n",
      "\n"
     ]
    }
   ],
   "source": [
    "print (\"\\nAUC score (using auc function):\", np.round(AUC, 2))\n",
    "print (\"\\nAUC score (using roc_auc_score function):\", np.round(roc_auc_score(y_test, y_pred_prob), 2), \"\\n\")"
   ]
  },
  {
   "cell_type": "code",
   "execution_count": 196,
   "metadata": {},
   "outputs": [
    {
     "name": "stdout",
     "output_type": "stream",
     "text": [
      "You're looking at a Alive person!\n"
     ]
    }
   ],
   "source": [
    "# Create a function to guess when a patient is alive or dead\n",
    "def Alive_or_Dead(survival,age_at_heart_attack,pericardial_effusion,fractional_shortening,\n",
    "left_ventricular_end_diastolic,wall_motion_index):\n",
    "    \n",
    "    if(logreg.predict([[survival,age_at_heart_attack,pericardial_effusion,fractional_shortening,\n",
    "left_ventricular_end_diastolic,wall_motion_index]]))==0:\n",
    "        print('You\\'re looking at a Alive person!')\n",
    "    else:\n",
    "        print('You\\'re looking at a Dead person!')\n",
    "# Predict if person is alive or not\n",
    "Alive_or_Dead(3,1,.1,.448,.22,.135)"
   ]
  },
  {
   "cell_type": "code",
   "execution_count": 197,
   "metadata": {},
   "outputs": [],
   "source": [
    "#define a function that accepts a threshold and prints sensitivity and specificity\n",
    "\n",
    "def evaluate_threshold(threshold):\n",
    "    print('Sensitivity:', tpr[thresholds > threshold][1])\n",
    "    print('Specificity:', 1 - fpr[thresholds > threshold][1])\n",
    "   "
   ]
  },
  {
   "cell_type": "code",
   "execution_count": 198,
   "metadata": {},
   "outputs": [
    {
     "name": "stdout",
     "output_type": "stream",
     "text": [
      "SVC(C=1.0, break_ties=False, cache_size=200, class_weight=None, coef0=0.0,\n",
      "    decision_function_shape='ovr', degree=3, gamma='scale', kernel='linear',\n",
      "    max_iter=-1, probability=True, random_state=None, shrinking=True, tol=0.001,\n",
      "    verbose=False)\n"
     ]
    }
   ],
   "source": [
    "from sklearn.svm import SVC, LinearSVC\n",
    "from sklearn import svm\n",
    "# Choice of classifier with parameters\n",
    "t = 0.001 # tolerance parameter\n",
    "kp = 'rbf' # kernel parameter\n",
    "clf = svm.SVC(kernel='linear', probability=True)\n",
    "#clf = SVC(kernel='linear', tol=t, probability=True,C=1.0, cache_size=200, class_weight=None, coef0=0.0, degree=3)\n",
    "Still_alive = clf.fit(X_train, y_train)\n",
    "print(Still_alive)\n"
   ]
  },
  {
   "cell_type": "code",
   "execution_count": 199,
   "metadata": {},
   "outputs": [
    {
     "name": "stdout",
     "output_type": "stream",
     "text": [
      "You're looking at a Alive person!\n"
     ]
    }
   ],
   "source": [
    "# Create a function to guess when a patient is alive or dead\n",
    "def Alive_or_Dead(survival,age_at_heart_attack,pericardial_effusion,fractional_shortening,\n",
    "left_ventricular_end_diastolic,wall_motion_index):\n",
    "    \n",
    "    if(clf .predict([[survival,age_at_heart_attack,pericardial_effusion,fractional_shortening,\n",
    "left_ventricular_end_diastolic,wall_motion_index]]))==0:\n",
    "        print('You\\'re looking at a Alive person!')\n",
    "    else:\n",
    "        print('You\\'re looking at a Dead person!')\n",
    "# Predict if person is alive or not\n",
    "Alive_or_Dead(3,1,.1,.448,.22,.135)"
   ]
  },
  {
   "cell_type": "code",
   "execution_count": 200,
   "metadata": {},
   "outputs": [
    {
     "name": "stdout",
     "output_type": "stream",
     "text": [
      "predictions for test set:\n",
      "[0. 0. 0. 0. 1. 0. 0. 0. 0. 0. 1. 0. 0. 1. 0. 0. 1. 0. 0. 0. 0. 0. 0. 0.\n",
      " 0. 0. 1. 0. 0. 0. 0. 0. 0. 0. 0. 1. 0. 0. 0.]\n",
      "actual class values:\n",
      "109    0.0\n",
      "106    0.0\n",
      "36     0.0\n",
      "125    0.0\n",
      "54     0.0\n",
      "70     0.0\n",
      "94     0.0\n",
      "47     1.0\n",
      "55     0.0\n",
      "122    0.0\n",
      "31     1.0\n",
      "43     0.0\n",
      "78     0.0\n",
      "89     1.0\n",
      "112    0.0\n",
      "124    0.0\n",
      "17     1.0\n",
      "59     0.0\n",
      "4      1.0\n",
      "68     0.0\n",
      "56     0.0\n",
      "45     0.0\n",
      "52     0.0\n",
      "34     0.0\n",
      "84     0.0\n",
      "118    0.0\n",
      "83     1.0\n",
      "12     0.0\n",
      "2      0.0\n",
      "63     0.0\n",
      "79     0.0\n",
      "114    0.0\n",
      "117    1.0\n",
      "57     0.0\n",
      "90     0.0\n",
      "60     0.0\n",
      "86     1.0\n",
      "91     0.0\n",
      "46     1.0\n",
      "Name: still_alive, dtype: float64\n"
     ]
    }
   ],
   "source": [
    "# make class predictions for X_test_dtm\n",
    "print (\"predictions for test set:\")\n",
    "y_pred = clf.predict(X_test)\n",
    "print(y_pred)\n",
    "print ('actual class values:')\n",
    "print (y_test)\n"
   ]
  },
  {
   "cell_type": "code",
   "execution_count": 201,
   "metadata": {},
   "outputs": [
    {
     "name": "stdout",
     "output_type": "stream",
     "text": [
      "0.8205128205128205\n"
     ]
    }
   ],
   "source": [
    "#calculate accuracy of class predictions\n",
    "AR = accuracy_score(y_test, y_pred)\n",
    "print(AR)"
   ]
  },
  {
   "cell_type": "code",
   "execution_count": 202,
   "metadata": {},
   "outputs": [
    {
     "name": "stdout",
     "output_type": "stream",
     "text": [
      "Coefficients:\n",
      "[[-1.99928891e+00  6.47649515e-05  8.87543913e-04 -2.82933072e-03\n",
      "   2.15305614e-04 -7.96079748e-04]]\n"
     ]
    }
   ],
   "source": [
    "# each row of this matrix corresponds to each one of the classes of the dataset\n",
    "print (\"Coefficients:\")\n",
    "print (clf.coef_)"
   ]
  },
  {
   "cell_type": "code",
   "execution_count": 203,
   "metadata": {},
   "outputs": [
    {
     "name": "stdout",
     "output_type": "stream",
     "text": [
      "Intercept:\n",
      "[2.99992577]\n"
     ]
    }
   ],
   "source": [
    "# each element of this vector corresponds to each one of the classes of the dataset\n",
    "print (\"Intercept:\")\n",
    "print (clf.intercept_)"
   ]
  },
  {
   "cell_type": "code",
   "execution_count": 204,
   "metadata": {},
   "outputs": [
    {
     "name": "stdout",
     "output_type": "stream",
     "text": [
      "True: 109    0.0\n",
      "106    0.0\n",
      "36     0.0\n",
      "125    0.0\n",
      "54     0.0\n",
      "70     0.0\n",
      "94     0.0\n",
      "47     1.0\n",
      "55     0.0\n",
      "122    0.0\n",
      "31     1.0\n",
      "43     0.0\n",
      "78     0.0\n",
      "89     1.0\n",
      "112    0.0\n",
      "Name: still_alive, dtype: float64\n",
      "Pred: [0. 0. 0. 0. 1. 0. 0. 0. 0. 0. 1. 0. 0. 1. 0.]\n"
     ]
    }
   ],
   "source": [
    "# print the first 15 true and predicted responses\n",
    "print('True:', y_test[0:15])\n",
    "print('Pred:', y_pred[0:15])\n"
   ]
  },
  {
   "cell_type": "code",
   "execution_count": 205,
   "metadata": {},
   "outputs": [
    {
     "data": {
      "text/plain": [
       "array([[28,  2],\n",
       "       [ 5,  4]], dtype=int64)"
      ]
     },
     "execution_count": 205,
     "metadata": {},
     "output_type": "execute_result"
    }
   ],
   "source": [
    "# print the confusion matrix\n",
    "confusion_matrix(y_test, y_pred)"
   ]
  },
  {
   "cell_type": "code",
   "execution_count": 206,
   "metadata": {},
   "outputs": [
    {
     "name": "stdout",
     "output_type": "stream",
     "text": [
      "[[2.         3.         0.         0.03333333 0.89013453 0.155     ]\n",
      " [2.         3.         0.         0.25       0.7690583  0.625     ]\n",
      " [3.         3.         1.         0.38333333 0.79372197 0.475     ]\n",
      " [2.         4.         1.         0.25       0.65695067 0.        ]\n",
      " [2.         5.         0.         0.18333333 0.5470852  0.125     ]]\n"
     ]
    }
   ],
   "source": [
    "# print message text for the false negatives (spam incorrectly classified as ham)\n",
    "print(X_test[y_pred < y_test])\n"
   ]
  },
  {
   "cell_type": "code",
   "execution_count": 207,
   "metadata": {},
   "outputs": [
    {
     "data": {
      "text/plain": [
       "array([3.94900659e-02, 3.95250765e-02, 2.81530702e-01, 2.81369791e-01,\n",
       "       7.93859559e-01, 3.94854857e-02, 3.94747971e-02, 2.81498687e-01,\n",
       "       4.04375472e-03, 2.81476838e-01, 7.94087312e-01, 4.10595724e-04,\n",
       "       3.94970188e-02, 7.93969851e-01, 3.94948878e-02, 2.81439572e-01,\n",
       "       7.94124778e-01, 3.95080976e-02, 2.81264379e-01, 4.04602274e-03,\n",
       "       2.81362672e-01, 4.04341215e-03, 2.81201563e-01, 4.04243251e-03,\n",
       "       3.95062503e-02, 3.94877958e-02, 7.93810761e-01, 4.10635431e-04,\n",
       "       2.81229413e-01, 2.81642288e-01, 3.95281537e-02, 3.95248951e-02,\n",
       "       3.95127302e-02, 4.10931335e-04, 4.04008930e-03, 7.93986333e-01,\n",
       "       2.81594104e-01, 4.10574926e-04, 2.81418930e-01])"
      ]
     },
     "execution_count": 207,
     "metadata": {},
     "output_type": "execute_result"
    }
   ],
   "source": [
    "# calculate predicted probabilities for X_test_dtm (poorly calibrated)\n",
    "y_pred_prob = clf.predict_proba(X_test)[:, 1]\n",
    "y_pred_prob"
   ]
  },
  {
   "cell_type": "code",
   "execution_count": 208,
   "metadata": {},
   "outputs": [
    {
     "name": "stdout",
     "output_type": "stream",
     "text": [
      "0.4444444444444444\n"
     ]
    }
   ],
   "source": [
    "#calculate AUC\n",
    "roc_auc_score(y_test, y_pred_prob)\n",
    "\n",
    "#Sensitivity: When the actual value is positive, how often is the prediction correct?\n",
    "#How \"sensitive\" is the classifier to detecting positive instances?\n",
    "print(recall_score(y_test, y_pred))"
   ]
  },
  {
   "cell_type": "code",
   "execution_count": 209,
   "metadata": {},
   "outputs": [
    {
     "name": "stdout",
     "output_type": "stream",
     "text": [
      "\n",
      "TP rates: [0.   0.11 0.22 0.22 0.33 0.33 0.44 0.44 0.56 0.56 0.67 0.67 0.78 0.78\n",
      " 0.89 0.89 1.   1.  ]\n",
      "\n",
      "FP rates: [0.   0.   0.   0.03 0.03 0.07 0.07 0.1  0.1  0.13 0.13 0.2  0.2  0.27\n",
      " 0.27 0.43 0.43 1.  ]\n",
      "\n",
      "Probability thresholds: [1.79 0.79 0.79 0.79 0.79 0.79 0.79 0.28 0.28 0.28 0.28 0.28 0.28 0.28\n",
      " 0.28 0.04 0.04 0.  ]\n"
     ]
    }
   ],
   "source": [
    "# ROC analysis\n",
    "LW = 1.5 # line width for plots\n",
    "LL = \"lower right\" # legend location\n",
    "LC = 'darkgreen' # Line Color\n",
    "\n",
    "fpr, tpr, th = roc_curve(y_test, y_pred_prob) # False Positive Rate, True Posisive Rate, probability thresholds\n",
    "AUC = auc(fpr, tpr)\n",
    "print (\"\\nTP rates:\", np.round(tpr, 2))\n",
    "print (\"\\nFP rates:\", np.round(fpr, 2))\n",
    "print (\"\\nProbability thresholds:\", np.round(th, 2))"
   ]
  },
  {
   "cell_type": "code",
   "execution_count": 210,
   "metadata": {},
   "outputs": [
    {
     "data": {
      "image/png": "[encoded data removed]",
      "text/plain": [
       "<Figure size 432x288 with 1 Axes>"
      ]
     },
     "metadata": {},
     "output_type": "display_data"
    }
   ],
   "source": [
    "plt.figure()\n",
    "plt.title('ROC curve for Still Alive classifier')\n",
    "plt.xlim([0.0, 1.0])\n",
    "plt.ylim([0.0, 1.05])\n",
    "plt.xlabel('FALSE Positive Rate (1 - Specificity)')\n",
    "plt.ylabel('TRUE Positive Rate (Sensitivity)')\n",
    "plt.plot(fpr, tpr, color=LC,lw=LW, label='ROC curve (area = %0.2f)' % AUC)\n",
    "plt.plot([0, 1], [0, 1], color='navy', lw=LW, linestyle='--') # reference line for random classifier\n",
    "plt.legend(loc=LL)\n",
    "plt.show()"
   ]
  },
  {
   "cell_type": "code",
   "execution_count": 211,
   "metadata": {},
   "outputs": [
    {
     "name": "stdout",
     "output_type": "stream",
     "text": [
      "\n",
      "AUC score (using auc function): 0.86\n",
      "\n",
      "AUC score (using roc_auc_score function): 0.86 \n",
      "\n"
     ]
    }
   ],
   "source": [
    "print (\"\\nAUC score (using auc function):\", np.round(AUC, 2))\n",
    "print (\"\\nAUC score (using roc_auc_score function):\", np.round(roc_auc_score(y_test, y_pred_prob), 2), \"\\n\")"
   ]
  },
  {
   "cell_type": "markdown",
   "metadata": {},
   "source": [
    "'''\n",
    " Let's collect the data and compare their results now. \n",
    "  \n",
    " True positive: Still alive people correctly identified as Still alive \n",
    "  False positive: Dead people incorrectly identified as Alive \n",
    "  True negative: Dead people correctly identified as dead\n",
    "  IMP : False negative: Alive people incorrectly identified as Dead\n",
    "  In medical field,\n",
    " Still alive people incorrectly identified as dead is not acceptable. False Negative value for KNN and LR is 3 and for SVC is 5\n",
    "  Because false positives ( Dead people incorrectly identified as Alive) are more acceptable than false negatives ( Alive people incorrectly identified as Dead)\n",
    "  sensitivity is important in this case.\n",
    " \n",
    " sensitivity for KNN is .66\n",
    " sensitivity for LR is .66\n",
    " Asensitivity for SVC is .44\n",
    " \n",
    " Now I will check the accuracy.\n",
    " \n",
    " I will choose the KNN model in this case.\n",
    "'''"
   ]
  }
 ],
 "metadata": {
  "kernelspec": {
   "display_name": "Python 3",
   "language": "python",
   "name": "python3"
  },
  "language_info": {
   "codemirror_mode": {
    "name": "ipython",
    "version": 3
   },
   "file_extension": ".py",
   "mimetype": "text/x-python",
   "name": "python",
   "nbconvert_exporter": "python",
   "pygments_lexer": "ipython3",
   "version": "3.7.6"
  }
 },
 "nbformat": 4,
 "nbformat_minor": 4
}
