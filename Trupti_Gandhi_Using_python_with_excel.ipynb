{
 "cells": [
  {
   "cell_type": "code",
   "execution_count": 6,
   "metadata": {},
   "outputs": [],
   "source": [
    "import pandas as pd\n",
    "import numpy as np"
   ]
  },
  {
   "cell_type": "code",
   "execution_count": 2,
   "metadata": {},
   "outputs": [],
   "source": [
    "from openpyxl.workbook import Workbook"
   ]
  },
  {
   "cell_type": "code",
   "execution_count": 13,
   "metadata": {},
   "outputs": [],
   "source": [
    "df = pd.read_excel(r\"C:\\Users\\v-trugan\\OneDrive - Microsoft\\Desktop\\TruptiFolder2020\\Ex_Files_Python_Data_Visualization\\Exercise_Files\\3 Pandas\\data\\car_financing.xlsx\")"
   ]
  },
  {
   "cell_type": "code",
   "execution_count": 14,
   "metadata": {},
   "outputs": [
    {
     "name": "stdout",
     "output_type": "stream",
     "text": [
      "<bound method NDFrame.head of      Month  Starting Balance  Repayment  Interest Paid  Principal Paid  \\\n",
      "0        1          34689.96     687.23         202.93          484.30   \n",
      "1        2          34205.66     687.23         200.10          487.13   \n",
      "2        3          33718.53     687.23         197.25          489.98   \n",
      "3        4          33228.55     687.23         194.38          492.85   \n",
      "4        5          32735.70     687.23         191.50          495.73   \n",
      "..     ...               ...        ...            ...             ...   \n",
      "403     56           3951.11     796.01           9.54          786.47   \n",
      "404     57           3164.64     796.01           7.64          788.37   \n",
      "405     58           2376.27     796.01           5.74          790.27   \n",
      "406     59           1586.00     796.01           3.83          792.18   \n",
      "407     60            793.82     796.01           1.91          794.10   \n",
      "\n",
      "     New Balance  term  interest_rate       car_type  \n",
      "0       34205.66    60         0.0702  Toyota Sienna  \n",
      "1       33718.53    60         0.0702  Toyota Sienna  \n",
      "2       33228.55    60         0.0702  Toyota Sienna  \n",
      "3       32735.70    60         0.0702  Toyota Sienna  \n",
      "4       32239.97    60         0.0702  Toyota Sienna  \n",
      "..           ...   ...            ...            ...  \n",
      "403      3164.64    60         0.0290      VW Golf R  \n",
      "404      2376.27    60         0.0290      VW Golf R  \n",
      "405      1586.00    60         0.0290      VW Golf R  \n",
      "406       793.82    60         0.0290      VW Golf R  \n",
      "407        -0.28    60         0.0290      VW Golf R  \n",
      "\n",
      "[408 rows x 9 columns]>\n"
     ]
    }
   ],
   "source": [
    "print(df.head)"
   ]
  },
  {
   "cell_type": "code",
   "execution_count": 15,
   "metadata": {},
   "outputs": [
    {
     "data": {
      "text/plain": [
       "Index(['Month', 'Starting Balance', 'Repayment', 'Interest Paid',\n",
       "       'Principal Paid', 'New Balance', 'term', 'interest_rate', 'car_type'],\n",
       "      dtype='object')"
      ]
     },
     "execution_count": 15,
     "metadata": {},
     "output_type": "execute_result"
    }
   ],
   "source": [
    "df.columns"
   ]
  },
  {
   "cell_type": "code",
   "execution_count": 17,
   "metadata": {},
   "outputs": [
    {
     "data": {
      "text/html": [
       "<div>\n",
       "<style scoped>\n",
       "    .dataframe tbody tr th:only-of-type {\n",
       "        vertical-align: middle;\n",
       "    }\n",
       "\n",
       "    .dataframe tbody tr th {\n",
       "        vertical-align: top;\n",
       "    }\n",
       "\n",
       "    .dataframe thead th {\n",
       "        text-align: right;\n",
       "    }\n",
       "</style>\n",
       "<table border=\"1\" class=\"dataframe\">\n",
       "  <thead>\n",
       "    <tr style=\"text-align: right;\">\n",
       "      <th></th>\n",
       "      <th>Month</th>\n",
       "      <th>Starting Balance</th>\n",
       "    </tr>\n",
       "  </thead>\n",
       "  <tbody>\n",
       "    <tr>\n",
       "      <th>0</th>\n",
       "      <td>1</td>\n",
       "      <td>34689.96</td>\n",
       "    </tr>\n",
       "    <tr>\n",
       "      <th>1</th>\n",
       "      <td>2</td>\n",
       "      <td>34205.66</td>\n",
       "    </tr>\n",
       "    <tr>\n",
       "      <th>2</th>\n",
       "      <td>3</td>\n",
       "      <td>33718.53</td>\n",
       "    </tr>\n",
       "    <tr>\n",
       "      <th>3</th>\n",
       "      <td>4</td>\n",
       "      <td>33228.55</td>\n",
       "    </tr>\n",
       "    <tr>\n",
       "      <th>4</th>\n",
       "      <td>5</td>\n",
       "      <td>32735.70</td>\n",
       "    </tr>\n",
       "  </tbody>\n",
       "</table>\n",
       "</div>"
      ],
      "text/plain": [
       "   Month  Starting Balance\n",
       "0      1          34689.96\n",
       "1      2          34205.66\n",
       "2      3          33718.53\n",
       "3      4          33228.55\n",
       "4      5          32735.70"
      ]
     },
     "execution_count": 17,
     "metadata": {},
     "output_type": "execute_result"
    }
   ],
   "source": [
    "df[['Month', 'Starting Balance']][0:5]"
   ]
  },
  {
   "cell_type": "code",
   "execution_count": null,
   "metadata": {},
   "outputs": [],
   "source": [
    "#save into excel\n",
    "wanted = df[['Interest Paid','Principal Paid', 'New Balance']]\n",
    "stored = wanted.to_excel(\"new_excel\", index = None)"
   ]
  },
  {
   "cell_type": "code",
   "execution_count": 19,
   "metadata": {},
   "outputs": [
    {
     "name": "stdout",
     "output_type": "stream",
     "text": [
      "     Month  Starting Balance  Repayment  Interest Paid  Principal Paid  \\\n",
      "0        1          34689.96     687.23         202.93          484.30   \n",
      "1        2          34205.66     687.23         200.10          487.13   \n",
      "2        3          33718.53     687.23         197.25          489.98   \n",
      "3        4          33228.55     687.23         194.38          492.85   \n",
      "4        5          32735.70     687.23         191.50          495.73   \n",
      "..     ...               ...        ...            ...             ...   \n",
      "115     56           3133.83     632.47           9.37          623.10   \n",
      "116     57           2510.73     632.47           7.51          624.96   \n",
      "117     58           1885.77     632.47           5.64          626.83   \n",
      "118     59           1258.94     632.47           3.76          628.71   \n",
      "119     60            630.23     632.47           1.88          630.59   \n",
      "\n",
      "     New Balance  term  interest_rate       car_type  \n",
      "0       34205.66    60         0.0702  Toyota Sienna  \n",
      "1       33718.53    60         0.0702  Toyota Sienna  \n",
      "2       33228.55    60         0.0702  Toyota Sienna  \n",
      "3       32735.70    60         0.0702  Toyota Sienna  \n",
      "4       32239.97    60         0.0702  Toyota Sienna  \n",
      "..           ...   ...            ...            ...  \n",
      "115      2510.73    60         0.0359  Toyota Sienna  \n",
      "116      1885.77    60         0.0359  Toyota Sienna  \n",
      "117      1258.94    60         0.0359  Toyota Sienna  \n",
      "118       630.23    60         0.0359  Toyota Sienna  \n",
      "119        -0.36    60         0.0359  Toyota Sienna  \n",
      "\n",
      "[120 rows x 9 columns]\n"
     ]
    }
   ],
   "source": [
    "print(df.loc[df['car_type'] == 'Toyota Sienna'])"
   ]
  },
  {
   "cell_type": "code",
   "execution_count": 28,
   "metadata": {},
   "outputs": [
    {
     "data": {
      "text/plain": [
       "Month                 int64\n",
       "Starting Balance    float64\n",
       "Repayment           float64\n",
       "Interest Paid       float64\n",
       "Principal Paid      float64\n",
       "New Balance         float64\n",
       "term                  int64\n",
       "interest_rate       float64\n",
       "car_type             object\n",
       "dtype: object"
      ]
     },
     "execution_count": 28,
     "metadata": {},
     "output_type": "execute_result"
    }
   ],
   "source": [
    "df.dtypes"
   ]
  },
  {
   "cell_type": "code",
   "execution_count": 30,
   "metadata": {},
   "outputs": [],
   "source": [
    "df[\"tax%\"] = df[\"Starting Balance\"].apply (lambda x: .15 if 1 < x < 2000 else .25 if 2000 < x <30000 else .30)"
   ]
  },
  {
   "cell_type": "code",
   "execution_count": 31,
   "metadata": {},
   "outputs": [
    {
     "name": "stdout",
     "output_type": "stream",
     "text": [
      "     Month  Starting Balance  Repayment  Interest Paid  Principal Paid  \\\n",
      "0        1          34689.96     687.23         202.93          484.30   \n",
      "1        2          34205.66     687.23         200.10          487.13   \n",
      "2        3          33718.53     687.23         197.25          489.98   \n",
      "3        4          33228.55     687.23         194.38          492.85   \n",
      "4        5          32735.70     687.23         191.50          495.73   \n",
      "..     ...               ...        ...            ...             ...   \n",
      "403     56           3951.11     796.01           9.54          786.47   \n",
      "404     57           3164.64     796.01           7.64          788.37   \n",
      "405     58           2376.27     796.01           5.74          790.27   \n",
      "406     59           1586.00     796.01           3.83          792.18   \n",
      "407     60            793.82     796.01           1.91          794.10   \n",
      "\n",
      "     New Balance  term  interest_rate       car_type  tax%  \n",
      "0       34205.66    60         0.0702  Toyota Sienna  0.30  \n",
      "1       33718.53    60         0.0702  Toyota Sienna  0.30  \n",
      "2       33228.55    60         0.0702  Toyota Sienna  0.30  \n",
      "3       32735.70    60         0.0702  Toyota Sienna  0.30  \n",
      "4       32239.97    60         0.0702  Toyota Sienna  0.30  \n",
      "..           ...   ...            ...            ...   ...  \n",
      "403      3164.64    60         0.0290      VW Golf R  0.25  \n",
      "404      2376.27    60         0.0290      VW Golf R  0.25  \n",
      "405      1586.00    60         0.0290      VW Golf R  0.25  \n",
      "406       793.82    60         0.0290      VW Golf R  0.15  \n",
      "407        -0.28    60         0.0290      VW Golf R  0.15  \n",
      "\n",
      "[408 rows x 10 columns]\n"
     ]
    }
   ],
   "source": [
    "print(df)"
   ]
  },
  {
   "cell_type": "code",
   "execution_count": 34,
   "metadata": {},
   "outputs": [],
   "source": [
    "to_drop = ['Repayment', 'term']\n",
    "df.drop(columns = to_drop, inplace = True)"
   ]
  },
  {
   "cell_type": "code",
   "execution_count": 35,
   "metadata": {},
   "outputs": [
    {
     "data": {
      "text/html": [
       "<div>\n",
       "<style scoped>\n",
       "    .dataframe tbody tr th:only-of-type {\n",
       "        vertical-align: middle;\n",
       "    }\n",
       "\n",
       "    .dataframe tbody tr th {\n",
       "        vertical-align: top;\n",
       "    }\n",
       "\n",
       "    .dataframe thead th {\n",
       "        text-align: right;\n",
       "    }\n",
       "</style>\n",
       "<table border=\"1\" class=\"dataframe\">\n",
       "  <thead>\n",
       "    <tr style=\"text-align: right;\">\n",
       "      <th></th>\n",
       "      <th>Month</th>\n",
       "      <th>Starting Balance</th>\n",
       "      <th>Interest Paid</th>\n",
       "      <th>Principal Paid</th>\n",
       "      <th>New Balance</th>\n",
       "      <th>interest_rate</th>\n",
       "      <th>car_type</th>\n",
       "      <th>tax%</th>\n",
       "    </tr>\n",
       "  </thead>\n",
       "  <tbody>\n",
       "    <tr>\n",
       "      <th>0</th>\n",
       "      <td>1</td>\n",
       "      <td>34689.96</td>\n",
       "      <td>202.93</td>\n",
       "      <td>484.30</td>\n",
       "      <td>34205.66</td>\n",
       "      <td>0.0702</td>\n",
       "      <td>Toyota Sienna</td>\n",
       "      <td>0.3</td>\n",
       "    </tr>\n",
       "    <tr>\n",
       "      <th>1</th>\n",
       "      <td>2</td>\n",
       "      <td>34205.66</td>\n",
       "      <td>200.10</td>\n",
       "      <td>487.13</td>\n",
       "      <td>33718.53</td>\n",
       "      <td>0.0702</td>\n",
       "      <td>Toyota Sienna</td>\n",
       "      <td>0.3</td>\n",
       "    </tr>\n",
       "    <tr>\n",
       "      <th>2</th>\n",
       "      <td>3</td>\n",
       "      <td>33718.53</td>\n",
       "      <td>197.25</td>\n",
       "      <td>489.98</td>\n",
       "      <td>33228.55</td>\n",
       "      <td>0.0702</td>\n",
       "      <td>Toyota Sienna</td>\n",
       "      <td>0.3</td>\n",
       "    </tr>\n",
       "    <tr>\n",
       "      <th>3</th>\n",
       "      <td>4</td>\n",
       "      <td>33228.55</td>\n",
       "      <td>194.38</td>\n",
       "      <td>492.85</td>\n",
       "      <td>32735.70</td>\n",
       "      <td>0.0702</td>\n",
       "      <td>Toyota Sienna</td>\n",
       "      <td>0.3</td>\n",
       "    </tr>\n",
       "    <tr>\n",
       "      <th>4</th>\n",
       "      <td>5</td>\n",
       "      <td>32735.70</td>\n",
       "      <td>191.50</td>\n",
       "      <td>495.73</td>\n",
       "      <td>32239.97</td>\n",
       "      <td>0.0702</td>\n",
       "      <td>Toyota Sienna</td>\n",
       "      <td>0.3</td>\n",
       "    </tr>\n",
       "  </tbody>\n",
       "</table>\n",
       "</div>"
      ],
      "text/plain": [
       "   Month  Starting Balance  Interest Paid  Principal Paid  New Balance  \\\n",
       "0      1          34689.96         202.93          484.30     34205.66   \n",
       "1      2          34205.66         200.10          487.13     33718.53   \n",
       "2      3          33718.53         197.25          489.98     33228.55   \n",
       "3      4          33228.55         194.38          492.85     32735.70   \n",
       "4      5          32735.70         191.50          495.73     32239.97   \n",
       "\n",
       "   interest_rate       car_type  tax%  \n",
       "0         0.0702  Toyota Sienna   0.3  \n",
       "1         0.0702  Toyota Sienna   0.3  \n",
       "2         0.0702  Toyota Sienna   0.3  \n",
       "3         0.0702  Toyota Sienna   0.3  \n",
       "4         0.0702  Toyota Sienna   0.3  "
      ]
     },
     "execution_count": 35,
     "metadata": {},
     "output_type": "execute_result"
    }
   ],
   "source": [
    "df.head(5)"
   ]
  },
  {
   "cell_type": "code",
   "execution_count": 36,
   "metadata": {},
   "outputs": [
    {
     "name": "stdout",
     "output_type": "stream",
     "text": [
      "     Month  Starting Balance  Interest Paid  Principal Paid  New Balance  \\\n",
      "0        1          34689.96         202.93          484.30     34205.66   \n",
      "1        2          34205.66         200.10          487.13     33718.53   \n",
      "2        3          33718.53         197.25          489.98     33228.55   \n",
      "3        4          33228.55         194.38          492.85     32735.70   \n",
      "4        5          32735.70         191.50          495.73     32239.97   \n",
      "..     ...               ...            ...             ...          ...   \n",
      "403     56           3951.11           9.54          786.47      3164.64   \n",
      "404     57           3164.64           7.64          788.37      2376.27   \n",
      "405     58           2376.27           5.74          790.27      1586.00   \n",
      "406     59           1586.00           3.83          792.18       793.82   \n",
      "407     60            793.82           1.91          794.10        -0.28   \n",
      "\n",
      "     interest_rate       car_type  tax%  test_col  \n",
      "0           0.0702  Toyota Sienna  0.30      True  \n",
      "1           0.0702  Toyota Sienna  0.30      True  \n",
      "2           0.0702  Toyota Sienna  0.30      True  \n",
      "3           0.0702  Toyota Sienna  0.30      True  \n",
      "4           0.0702  Toyota Sienna  0.30      True  \n",
      "..             ...            ...   ...       ...  \n",
      "403         0.0290      VW Golf R  0.25     False  \n",
      "404         0.0290      VW Golf R  0.25     False  \n",
      "405         0.0290      VW Golf R  0.25     False  \n",
      "406         0.0290      VW Golf R  0.15     False  \n",
      "407         0.0290      VW Golf R  0.15     False  \n",
      "\n",
      "[408 rows x 9 columns]\n"
     ]
    }
   ],
   "source": [
    "df[\"test_col\"] = False\n",
    "df.loc[df['New Balance'] > 20000, 'test_col'] = True\n",
    "print(df)"
   ]
  },
  {
   "cell_type": "code",
   "execution_count": 37,
   "metadata": {},
   "outputs": [
    {
     "name": "stdout",
     "output_type": "stream",
     "text": [
      "              Month  Starting Balance  Interest Paid  Principal Paid  \\\n",
      "test_col                                                               \n",
      "False     34.261364      10646.414091      35.258935      613.008409   \n",
      "True      13.604167      30243.040139      95.648819      733.171736   \n",
      "\n",
      "           New Balance  interest_rate      tax%  \n",
      "test_col                                         \n",
      "False     10033.405682       0.039996  0.241667  \n",
      "True      29509.868403       0.038882  0.274306  \n"
     ]
    }
   ],
   "source": [
    "print (df.groupby(df[\"test_col\"]).mean())"
   ]
  },
  {
   "cell_type": "code",
   "execution_count": 38,
   "metadata": {},
   "outputs": [
    {
     "name": "stdout",
     "output_type": "stream",
     "text": [
      "       Starting Balance  Interest Paid  Principal Paid  New Balance  \\\n",
      "Month                                                                 \n",
      "60               682.91           3.99          683.24        -0.33   \n",
      "60               630.23           1.88          630.59        -0.36   \n",
      "60               395.41           1.28          395.54        -0.13   \n",
      "60               793.82           1.91          794.10        -0.28   \n",
      "\n",
      "       interest_rate        car_type  tax%  test_col  \n",
      "Month                                                 \n",
      "60            0.0702   Toyota Sienna  0.15     False  \n",
      "60            0.0359   Toyota Sienna  0.15     False  \n",
      "60            0.0390  Toyota Carolla  0.15     False  \n",
      "60            0.0290       VW Golf R  0.15     False  \n"
     ]
    }
   ],
   "source": [
    "df = df.set_index('Month')\n",
    "print(df.loc[60])"
   ]
  },
  {
   "cell_type": "code",
   "execution_count": 39,
   "metadata": {},
   "outputs": [
    {
     "name": "stdout",
     "output_type": "stream",
     "text": [
      "Month\n",
      "60     Toyota Sienna\n",
      "60     Toyota Sienna\n",
      "60    Toyota Carolla\n",
      "60         VW Golf R\n",
      "Name: car_type, dtype: object\n"
     ]
    }
   ],
   "source": [
    "print(df.loc[60, 'car_type'])"
   ]
  },
  {
   "cell_type": "code",
   "execution_count": 41,
   "metadata": {},
   "outputs": [],
   "source": [
    "df[\"Company\"]=df['car_type'].str.split(expand = True)[0]"
   ]
  },
  {
   "cell_type": "code",
   "execution_count": 42,
   "metadata": {},
   "outputs": [
    {
     "name": "stdout",
     "output_type": "stream",
     "text": [
      "Month\n",
      "1     Toyota\n",
      "2     Toyota\n",
      "3     Toyota\n",
      "4     Toyota\n",
      "5     Toyota\n",
      "       ...  \n",
      "56        VW\n",
      "57        VW\n",
      "58        VW\n",
      "59        VW\n",
      "60        VW\n",
      "Name: Company, Length: 408, dtype: object\n"
     ]
    }
   ],
   "source": [
    "print(df[\"Company\"])"
   ]
  },
  {
   "cell_type": "code",
   "execution_count": 43,
   "metadata": {},
   "outputs": [
    {
     "data": {
      "text/plain": [
       "Starting Balance    False\n",
       "Interest Paid        True\n",
       "Principal Paid      False\n",
       "New Balance         False\n",
       "interest_rate       False\n",
       "car_type            False\n",
       "tax%                False\n",
       "test_col            False\n",
       "Company             False\n",
       "dtype: bool"
      ]
     },
     "execution_count": 43,
     "metadata": {},
     "output_type": "execute_result"
    }
   ],
   "source": [
    "df.isnull().any()"
   ]
  },
  {
   "cell_type": "code",
   "execution_count": 44,
   "metadata": {},
   "outputs": [],
   "source": [
    "df = df.replace(np.nan,\"N/A\", regex = True)"
   ]
  },
  {
   "cell_type": "code",
   "execution_count": 45,
   "metadata": {},
   "outputs": [
    {
     "data": {
      "text/html": [
       "<div>\n",
       "<style scoped>\n",
       "    .dataframe tbody tr th:only-of-type {\n",
       "        vertical-align: middle;\n",
       "    }\n",
       "\n",
       "    .dataframe tbody tr th {\n",
       "        vertical-align: top;\n",
       "    }\n",
       "\n",
       "    .dataframe thead th {\n",
       "        text-align: right;\n",
       "    }\n",
       "</style>\n",
       "<table border=\"1\" class=\"dataframe\">\n",
       "  <thead>\n",
       "    <tr style=\"text-align: right;\">\n",
       "      <th></th>\n",
       "      <th>Starting Balance</th>\n",
       "      <th>Interest Paid</th>\n",
       "      <th>Principal Paid</th>\n",
       "      <th>New Balance</th>\n",
       "      <th>interest_rate</th>\n",
       "      <th>car_type</th>\n",
       "      <th>tax%</th>\n",
       "      <th>test_col</th>\n",
       "      <th>Company</th>\n",
       "    </tr>\n",
       "    <tr>\n",
       "      <th>Month</th>\n",
       "      <th></th>\n",
       "      <th></th>\n",
       "      <th></th>\n",
       "      <th></th>\n",
       "      <th></th>\n",
       "      <th></th>\n",
       "      <th></th>\n",
       "      <th></th>\n",
       "      <th></th>\n",
       "    </tr>\n",
       "  </thead>\n",
       "  <tbody>\n",
       "    <tr>\n",
       "      <th>1</th>\n",
       "      <td>34689.96</td>\n",
       "      <td>202.93</td>\n",
       "      <td>484.30</td>\n",
       "      <td>34205.66</td>\n",
       "      <td>0.0702</td>\n",
       "      <td>Toyota Sienna</td>\n",
       "      <td>0.3</td>\n",
       "      <td>True</td>\n",
       "      <td>Toyota</td>\n",
       "    </tr>\n",
       "    <tr>\n",
       "      <th>2</th>\n",
       "      <td>34205.66</td>\n",
       "      <td>200.1</td>\n",
       "      <td>487.13</td>\n",
       "      <td>33718.53</td>\n",
       "      <td>0.0702</td>\n",
       "      <td>Toyota Sienna</td>\n",
       "      <td>0.3</td>\n",
       "      <td>True</td>\n",
       "      <td>Toyota</td>\n",
       "    </tr>\n",
       "    <tr>\n",
       "      <th>3</th>\n",
       "      <td>33718.53</td>\n",
       "      <td>197.25</td>\n",
       "      <td>489.98</td>\n",
       "      <td>33228.55</td>\n",
       "      <td>0.0702</td>\n",
       "      <td>Toyota Sienna</td>\n",
       "      <td>0.3</td>\n",
       "      <td>True</td>\n",
       "      <td>Toyota</td>\n",
       "    </tr>\n",
       "    <tr>\n",
       "      <th>4</th>\n",
       "      <td>33228.55</td>\n",
       "      <td>194.38</td>\n",
       "      <td>492.85</td>\n",
       "      <td>32735.70</td>\n",
       "      <td>0.0702</td>\n",
       "      <td>Toyota Sienna</td>\n",
       "      <td>0.3</td>\n",
       "      <td>True</td>\n",
       "      <td>Toyota</td>\n",
       "    </tr>\n",
       "    <tr>\n",
       "      <th>5</th>\n",
       "      <td>32735.70</td>\n",
       "      <td>191.5</td>\n",
       "      <td>495.73</td>\n",
       "      <td>32239.97</td>\n",
       "      <td>0.0702</td>\n",
       "      <td>Toyota Sienna</td>\n",
       "      <td>0.3</td>\n",
       "      <td>True</td>\n",
       "      <td>Toyota</td>\n",
       "    </tr>\n",
       "  </tbody>\n",
       "</table>\n",
       "</div>"
      ],
      "text/plain": [
       "       Starting Balance Interest Paid  Principal Paid  New Balance  \\\n",
       "Month                                                                \n",
       "1              34689.96        202.93          484.30     34205.66   \n",
       "2              34205.66         200.1          487.13     33718.53   \n",
       "3              33718.53        197.25          489.98     33228.55   \n",
       "4              33228.55        194.38          492.85     32735.70   \n",
       "5              32735.70         191.5          495.73     32239.97   \n",
       "\n",
       "       interest_rate       car_type  tax%  test_col Company  \n",
       "Month                                                        \n",
       "1             0.0702  Toyota Sienna   0.3      True  Toyota  \n",
       "2             0.0702  Toyota Sienna   0.3      True  Toyota  \n",
       "3             0.0702  Toyota Sienna   0.3      True  Toyota  \n",
       "4             0.0702  Toyota Sienna   0.3      True  Toyota  \n",
       "5             0.0702  Toyota Sienna   0.3      True  Toyota  "
      ]
     },
     "execution_count": 45,
     "metadata": {},
     "output_type": "execute_result"
    }
   ],
   "source": [
    "df.head()"
   ]
  },
  {
   "cell_type": "code",
   "execution_count": 46,
   "metadata": {},
   "outputs": [],
   "source": [
    "from openpyxl import load_workbook"
   ]
  },
  {
   "cell_type": "code",
   "execution_count": 48,
   "metadata": {},
   "outputs": [],
   "source": [
    "wb = Workbook()\n",
    "ws = wb.active"
   ]
  },
  {
   "cell_type": "code",
   "execution_count": 49,
   "metadata": {},
   "outputs": [],
   "source": [
    "ws1 = wb.create_sheet('Newsheet')\n",
    "ws2 = wb.create_sheet(\"Another_sheet\",0)"
   ]
  },
  {
   "cell_type": "code",
   "execution_count": 51,
   "metadata": {},
   "outputs": [
    {
     "name": "stdout",
     "output_type": "stream",
     "text": [
      "['Another_sheet', 'mysheet', 'Newsheet']\n"
     ]
    }
   ],
   "source": [
    "ws.title = \"mysheet\"\n",
    "print (wb.sheetnames)"
   ]
  },
  {
   "cell_type": "code",
   "execution_count": 53,
   "metadata": {},
   "outputs": [
    {
     "name": "stdout",
     "output_type": "stream",
     "text": [
      "<Cell 'Sheet1'.A1>\n"
     ]
    }
   ],
   "source": [
    "wb2 = load_workbook(r\"C:\\Users\\v-trugan\\OneDrive - Microsoft\\Desktop\\TruptiFolder2020\\Ex_Files_Python_Data_Visualization\\Exercise_Files\\3 Pandas\\data\\car_financing.xlsx\")\n",
    "new_sheet = wb2.create_sheet('Newsheet')\n",
    "active_sheet = wb2.active\n",
    "cell = active_sheet [\"A1\"]\n",
    "print(cell)"
   ]
  },
  {
   "cell_type": "code",
   "execution_count": 54,
   "metadata": {},
   "outputs": [
    {
     "name": "stdout",
     "output_type": "stream",
     "text": [
      "Month\n"
     ]
    }
   ],
   "source": [
    "print(cell.value)"
   ]
  },
  {
   "cell_type": "code",
   "execution_count": null,
   "metadata": {},
   "outputs": [],
   "source": []
  }
 ],
 "metadata": {
  "kernelspec": {
   "display_name": "Python 3",
   "language": "python",
   "name": "python3"
  },
  "language_info": {
   "codemirror_mode": {
    "name": "ipython",
    "version": 3
   },
   "file_extension": ".py",
   "mimetype": "text/x-python",
   "name": "python",
   "nbconvert_exporter": "python",
   "pygments_lexer": "ipython3",
   "version": "3.7.6"
  }
 },
 "nbformat": 4,
 "nbformat_minor": 4
}
