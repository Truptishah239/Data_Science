{
 "cells": [
  {
   "cell_type": "code",
   "execution_count": 185,
   "metadata": {},
   "outputs": [],
   "source": [
    "# Import libraries\n",
    "import pandas as pd\n",
    "import numpy as np"
   ]
  },
  {
   "cell_type": "code",
   "execution_count": 186,
   "metadata": {},
   "outputs": [
    {
     "data": {
      "text/html": [
       "<div>\n",
       "<style scoped>\n",
       "    .dataframe tbody tr th:only-of-type {\n",
       "        vertical-align: middle;\n",
       "    }\n",
       "\n",
       "    .dataframe tbody tr th {\n",
       "        vertical-align: top;\n",
       "    }\n",
       "\n",
       "    .dataframe thead th {\n",
       "        text-align: right;\n",
       "    }\n",
       "</style>\n",
       "<table border=\"1\" class=\"dataframe\">\n",
       "  <thead>\n",
       "    <tr style=\"text-align: right;\">\n",
       "      <th></th>\n",
       "      <th>Month</th>\n",
       "      <th>Starting Balance</th>\n",
       "      <th>Repayment</th>\n",
       "      <th>Interest Paid</th>\n",
       "      <th>Principal Paid</th>\n",
       "      <th>New Balance</th>\n",
       "      <th>term</th>\n",
       "      <th>interest_rate</th>\n",
       "      <th>car_type</th>\n",
       "    </tr>\n",
       "  </thead>\n",
       "  <tbody>\n",
       "    <tr>\n",
       "      <th>0</th>\n",
       "      <td>1</td>\n",
       "      <td>34689.96</td>\n",
       "      <td>687.23</td>\n",
       "      <td>202.93</td>\n",
       "      <td>484.30</td>\n",
       "      <td>34205.66</td>\n",
       "      <td>60</td>\n",
       "      <td>0.0702</td>\n",
       "      <td>Toyota Sienna</td>\n",
       "    </tr>\n",
       "    <tr>\n",
       "      <th>1</th>\n",
       "      <td>2</td>\n",
       "      <td>34205.66</td>\n",
       "      <td>687.23</td>\n",
       "      <td>200.10</td>\n",
       "      <td>487.13</td>\n",
       "      <td>33718.53</td>\n",
       "      <td>60</td>\n",
       "      <td>0.0702</td>\n",
       "      <td>Toyota Sienna</td>\n",
       "    </tr>\n",
       "    <tr>\n",
       "      <th>2</th>\n",
       "      <td>3</td>\n",
       "      <td>33718.53</td>\n",
       "      <td>687.23</td>\n",
       "      <td>197.25</td>\n",
       "      <td>489.98</td>\n",
       "      <td>33228.55</td>\n",
       "      <td>60</td>\n",
       "      <td>0.0702</td>\n",
       "      <td>Toyota Sienna</td>\n",
       "    </tr>\n",
       "    <tr>\n",
       "      <th>3</th>\n",
       "      <td>4</td>\n",
       "      <td>33228.55</td>\n",
       "      <td>687.23</td>\n",
       "      <td>194.38</td>\n",
       "      <td>492.85</td>\n",
       "      <td>32735.70</td>\n",
       "      <td>60</td>\n",
       "      <td>0.0702</td>\n",
       "      <td>Toyota Sienna</td>\n",
       "    </tr>\n",
       "    <tr>\n",
       "      <th>4</th>\n",
       "      <td>5</td>\n",
       "      <td>32735.70</td>\n",
       "      <td>687.23</td>\n",
       "      <td>191.50</td>\n",
       "      <td>495.73</td>\n",
       "      <td>32239.97</td>\n",
       "      <td>60</td>\n",
       "      <td>0.0702</td>\n",
       "      <td>Toyota Sienna</td>\n",
       "    </tr>\n",
       "  </tbody>\n",
       "</table>\n",
       "</div>"
      ],
      "text/plain": [
       "   Month  Starting Balance  Repayment  Interest Paid  Principal Paid  \\\n",
       "0      1          34689.96     687.23         202.93          484.30   \n",
       "1      2          34205.66     687.23         200.10          487.13   \n",
       "2      3          33718.53     687.23         197.25          489.98   \n",
       "3      4          33228.55     687.23         194.38          492.85   \n",
       "4      5          32735.70     687.23         191.50          495.73   \n",
       "\n",
       "   New Balance  term  interest_rate       car_type  \n",
       "0     34205.66    60         0.0702  Toyota Sienna  \n",
       "1     33718.53    60         0.0702  Toyota Sienna  \n",
       "2     33228.55    60         0.0702  Toyota Sienna  \n",
       "3     32735.70    60         0.0702  Toyota Sienna  \n",
       "4     32239.97    60         0.0702  Toyota Sienna  "
      ]
     },
     "execution_count": 186,
     "metadata": {},
     "output_type": "execute_result"
    }
   ],
   "source": [
    "# Load Excel File\n",
    "filename = 'data/car_financing.xlsx'\n",
    "df = pd.read_excel(filename)\n",
    "df.head()"
   ]
  },
  {
   "cell_type": "code",
   "execution_count": 187,
   "metadata": {},
   "outputs": [
    {
     "data": {
      "text/html": [
       "<div>\n",
       "<style scoped>\n",
       "    .dataframe tbody tr th:only-of-type {\n",
       "        vertical-align: middle;\n",
       "    }\n",
       "\n",
       "    .dataframe tbody tr th {\n",
       "        vertical-align: top;\n",
       "    }\n",
       "\n",
       "    .dataframe thead th {\n",
       "        text-align: right;\n",
       "    }\n",
       "</style>\n",
       "<table border=\"1\" class=\"dataframe\">\n",
       "  <thead>\n",
       "    <tr style=\"text-align: right;\">\n",
       "      <th></th>\n",
       "      <th>Month</th>\n",
       "      <th>Starting Balance</th>\n",
       "      <th>Repayment</th>\n",
       "      <th>Interest Paid</th>\n",
       "      <th>Principal Paid</th>\n",
       "      <th>New Balance</th>\n",
       "      <th>term</th>\n",
       "      <th>interest_rate</th>\n",
       "      <th>car_type</th>\n",
       "    </tr>\n",
       "  </thead>\n",
       "  <tbody>\n",
       "    <tr>\n",
       "      <th>0</th>\n",
       "      <td>1</td>\n",
       "      <td>34689.96</td>\n",
       "      <td>687.23</td>\n",
       "      <td>202.93</td>\n",
       "      <td>484.30</td>\n",
       "      <td>34205.66</td>\n",
       "      <td>60</td>\n",
       "      <td>0.0702</td>\n",
       "      <td>Toyota Sienna</td>\n",
       "    </tr>\n",
       "    <tr>\n",
       "      <th>1</th>\n",
       "      <td>2</td>\n",
       "      <td>34205.66</td>\n",
       "      <td>687.23</td>\n",
       "      <td>200.10</td>\n",
       "      <td>487.13</td>\n",
       "      <td>33718.53</td>\n",
       "      <td>60</td>\n",
       "      <td>0.0702</td>\n",
       "      <td>Toyota Sienna</td>\n",
       "    </tr>\n",
       "    <tr>\n",
       "      <th>2</th>\n",
       "      <td>3</td>\n",
       "      <td>33718.53</td>\n",
       "      <td>687.23</td>\n",
       "      <td>197.25</td>\n",
       "      <td>489.98</td>\n",
       "      <td>33228.55</td>\n",
       "      <td>60</td>\n",
       "      <td>0.0702</td>\n",
       "      <td>Toyota Sienna</td>\n",
       "    </tr>\n",
       "    <tr>\n",
       "      <th>3</th>\n",
       "      <td>4</td>\n",
       "      <td>33228.55</td>\n",
       "      <td>687.23</td>\n",
       "      <td>194.38</td>\n",
       "      <td>492.85</td>\n",
       "      <td>32735.70</td>\n",
       "      <td>60</td>\n",
       "      <td>0.0702</td>\n",
       "      <td>Toyota Sienna</td>\n",
       "    </tr>\n",
       "    <tr>\n",
       "      <th>4</th>\n",
       "      <td>5</td>\n",
       "      <td>32735.70</td>\n",
       "      <td>687.23</td>\n",
       "      <td>191.50</td>\n",
       "      <td>495.73</td>\n",
       "      <td>32239.97</td>\n",
       "      <td>60</td>\n",
       "      <td>0.0702</td>\n",
       "      <td>Toyota Sienna</td>\n",
       "    </tr>\n",
       "  </tbody>\n",
       "</table>\n",
       "</div>"
      ],
      "text/plain": [
       "   Month  Starting Balance  Repayment  Interest Paid  Principal Paid  \\\n",
       "0      1          34689.96     687.23         202.93          484.30   \n",
       "1      2          34205.66     687.23         200.10          487.13   \n",
       "2      3          33718.53     687.23         197.25          489.98   \n",
       "3      4          33228.55     687.23         194.38          492.85   \n",
       "4      5          32735.70     687.23         191.50          495.73   \n",
       "\n",
       "   New Balance  term  interest_rate       car_type  \n",
       "0     34205.66    60         0.0702  Toyota Sienna  \n",
       "1     33718.53    60         0.0702  Toyota Sienna  \n",
       "2     33228.55    60         0.0702  Toyota Sienna  \n",
       "3     32735.70    60         0.0702  Toyota Sienna  \n",
       "4     32239.97    60         0.0702  Toyota Sienna  "
      ]
     },
     "execution_count": 187,
     "metadata": {},
     "output_type": "execute_result"
    }
   ],
   "source": [
    "# Load car loan data from a csv file\n",
    "filename2 =  'data/car_financing.csv'\n",
    "df2 = pd.read_csv(filename2)\n",
    "df2.head()"
   ]
  },
  {
   "cell_type": "code",
   "execution_count": 188,
   "metadata": {},
   "outputs": [
    {
     "data": {
      "text/plain": [
       "Month                 int64\n",
       "Starting Balance    float64\n",
       "Repayment           float64\n",
       "Interest Paid       float64\n",
       "Principal Paid      float64\n",
       "New Balance         float64\n",
       "term                  int64\n",
       "interest_rate       float64\n",
       "car_type             object\n",
       "dtype: object"
      ]
     },
     "execution_count": 188,
     "metadata": {},
     "output_type": "execute_result"
    }
   ],
   "source": [
    "# Check the column data types using the dtypes attribute\n",
    "# For example, you can wrongly assume the values in one of your columns is \n",
    "# a int64 instead of a string. \n",
    "df.dtypes"
   ]
  },
  {
   "cell_type": "code",
   "execution_count": 189,
   "metadata": {},
   "outputs": [
    {
     "name": "stdout",
     "output_type": "stream",
     "text": [
      "<class 'pandas.core.frame.DataFrame'>\n",
      "RangeIndex: 408 entries, 0 to 407\n",
      "Data columns (total 9 columns):\n",
      " #   Column            Non-Null Count  Dtype  \n",
      "---  ------            --------------  -----  \n",
      " 0   Month             408 non-null    int64  \n",
      " 1   Starting Balance  408 non-null    float64\n",
      " 2   Repayment         408 non-null    float64\n",
      " 3   Interest Paid     407 non-null    float64\n",
      " 4   Principal Paid    408 non-null    float64\n",
      " 5   New Balance       408 non-null    float64\n",
      " 6   term              408 non-null    int64  \n",
      " 7   interest_rate     408 non-null    float64\n",
      " 8   car_type          408 non-null    object \n",
      "dtypes: float64(6), int64(2), object(1)\n",
      "memory usage: 28.8+ KB\n"
     ]
    }
   ],
   "source": [
    "# The info method gives the column datatypes + number of non-null values\n",
    "# Notice that we seem to have 408 non-null values for all but the Interest Paid column. \n",
    "df.info()"
   ]
  },
  {
   "cell_type": "code",
   "execution_count": 190,
   "metadata": {},
   "outputs": [
    {
     "data": {
      "text/plain": [
       "Month                                                           11004\n",
       "Starting Balance                                          7.16565e+06\n",
       "Repayment                                                      290551\n",
       "Interest Paid                                                 23046.5\n",
       "Principal Paid                                                 267411\n",
       "New Balance                                               6.89824e+06\n",
       "term                                                            21600\n",
       "interest_rate                                                  16.158\n",
       "car_type            Toyota SiennaToyota SiennaToyota SiennaToyota ...\n",
       "dtype: object"
      ]
     },
     "execution_count": 190,
     "metadata": {},
     "output_type": "execute_result"
    }
   ],
   "source": [
    "df.sum()"
   ]
  },
  {
   "cell_type": "code",
   "execution_count": 191,
   "metadata": {},
   "outputs": [],
   "source": [
    "# Approach 1 dictionary substitution using rename method\n",
    "df = df.rename(columns={'Starting Balance': 'starting_balance',\n",
    "                        'Interest Paid': 'interest_paid', \n",
    "                        'Principal Paid': 'principal_paid',\n",
    "                        'New Balance': 'new_balance'})"
   ]
  },
  {
   "cell_type": "code",
   "execution_count": 192,
   "metadata": {},
   "outputs": [
    {
     "data": {
      "text/html": [
       "<div>\n",
       "<style scoped>\n",
       "    .dataframe tbody tr th:only-of-type {\n",
       "        vertical-align: middle;\n",
       "    }\n",
       "\n",
       "    .dataframe tbody tr th {\n",
       "        vertical-align: top;\n",
       "    }\n",
       "\n",
       "    .dataframe thead th {\n",
       "        text-align: right;\n",
       "    }\n",
       "</style>\n",
       "<table border=\"1\" class=\"dataframe\">\n",
       "  <thead>\n",
       "    <tr style=\"text-align: right;\">\n",
       "      <th></th>\n",
       "      <th>month</th>\n",
       "      <th>starting_balance</th>\n",
       "      <th>Repayment</th>\n",
       "      <th>interest_paid</th>\n",
       "      <th>principal_paid</th>\n",
       "      <th>new_balance</th>\n",
       "      <th>term</th>\n",
       "      <th>interest_rate</th>\n",
       "      <th>car_type</th>\n",
       "    </tr>\n",
       "  </thead>\n",
       "  <tbody>\n",
       "    <tr>\n",
       "      <th>0</th>\n",
       "      <td>1</td>\n",
       "      <td>34689.96</td>\n",
       "      <td>687.23</td>\n",
       "      <td>202.93</td>\n",
       "      <td>484.30</td>\n",
       "      <td>34205.66</td>\n",
       "      <td>60</td>\n",
       "      <td>0.0702</td>\n",
       "      <td>Toyota Sienna</td>\n",
       "    </tr>\n",
       "    <tr>\n",
       "      <th>1</th>\n",
       "      <td>2</td>\n",
       "      <td>34205.66</td>\n",
       "      <td>687.23</td>\n",
       "      <td>200.10</td>\n",
       "      <td>487.13</td>\n",
       "      <td>33718.53</td>\n",
       "      <td>60</td>\n",
       "      <td>0.0702</td>\n",
       "      <td>Toyota Sienna</td>\n",
       "    </tr>\n",
       "    <tr>\n",
       "      <th>2</th>\n",
       "      <td>3</td>\n",
       "      <td>33718.53</td>\n",
       "      <td>687.23</td>\n",
       "      <td>197.25</td>\n",
       "      <td>489.98</td>\n",
       "      <td>33228.55</td>\n",
       "      <td>60</td>\n",
       "      <td>0.0702</td>\n",
       "      <td>Toyota Sienna</td>\n",
       "    </tr>\n",
       "    <tr>\n",
       "      <th>3</th>\n",
       "      <td>4</td>\n",
       "      <td>33228.55</td>\n",
       "      <td>687.23</td>\n",
       "      <td>194.38</td>\n",
       "      <td>492.85</td>\n",
       "      <td>32735.70</td>\n",
       "      <td>60</td>\n",
       "      <td>0.0702</td>\n",
       "      <td>Toyota Sienna</td>\n",
       "    </tr>\n",
       "    <tr>\n",
       "      <th>4</th>\n",
       "      <td>5</td>\n",
       "      <td>32735.70</td>\n",
       "      <td>687.23</td>\n",
       "      <td>191.50</td>\n",
       "      <td>495.73</td>\n",
       "      <td>32239.97</td>\n",
       "      <td>60</td>\n",
       "      <td>0.0702</td>\n",
       "      <td>Toyota Sienna</td>\n",
       "    </tr>\n",
       "  </tbody>\n",
       "</table>\n",
       "</div>"
      ],
      "text/plain": [
       "   month  starting_balance  Repayment  interest_paid  principal_paid  \\\n",
       "0      1          34689.96     687.23         202.93          484.30   \n",
       "1      2          34205.66     687.23         200.10          487.13   \n",
       "2      3          33718.53     687.23         197.25          489.98   \n",
       "3      4          33228.55     687.23         194.38          492.85   \n",
       "4      5          32735.70     687.23         191.50          495.73   \n",
       "\n",
       "   new_balance  term  interest_rate       car_type  \n",
       "0     34205.66    60         0.0702  Toyota Sienna  \n",
       "1     33718.53    60         0.0702  Toyota Sienna  \n",
       "2     33228.55    60         0.0702  Toyota Sienna  \n",
       "3     32735.70    60         0.0702  Toyota Sienna  \n",
       "4     32239.97    60         0.0702  Toyota Sienna  "
      ]
     },
     "execution_count": 192,
     "metadata": {},
     "output_type": "execute_result"
    }
   ],
   "source": [
    "# Approach 2 list replacement\n",
    "# Only changing Month -> month, but we need to list the rest of the columns\n",
    "df.columns = ['month',\n",
    "              'starting_balance',\n",
    "              'Repayment',\n",
    "              'interest_paid',\n",
    "              'principal_paid',\n",
    "              'new_balance',\n",
    "              'term',\n",
    "              'interest_rate',\n",
    "              'car_type']\n",
    "df.head()"
   ]
  },
  {
   "cell_type": "code",
   "execution_count": 193,
   "metadata": {},
   "outputs": [
    {
     "data": {
      "text/plain": [
       "23046.53"
      ]
     },
     "execution_count": 193,
     "metadata": {},
     "output_type": "execute_result"
    }
   ],
   "source": [
    "# sum the values in a column\n",
    "# total amount of interest paid over the course of the loan\n",
    "df['interest_paid'].sum()"
   ]
  },
  {
   "cell_type": "code",
   "execution_count": 194,
   "metadata": {},
   "outputs": [
    {
     "data": {
      "text/html": [
       "<div>\n",
       "<style scoped>\n",
       "    .dataframe tbody tr th:only-of-type {\n",
       "        vertical-align: middle;\n",
       "    }\n",
       "\n",
       "    .dataframe tbody tr th {\n",
       "        vertical-align: top;\n",
       "    }\n",
       "\n",
       "    .dataframe thead th {\n",
       "        text-align: right;\n",
       "    }\n",
       "</style>\n",
       "<table border=\"1\" class=\"dataframe\">\n",
       "  <thead>\n",
       "    <tr style=\"text-align: right;\">\n",
       "      <th></th>\n",
       "      <th>month</th>\n",
       "      <th>starting_balance</th>\n",
       "      <th>Repayment</th>\n",
       "      <th>interest_paid</th>\n",
       "      <th>principal_paid</th>\n",
       "      <th>new_balance</th>\n",
       "      <th>interest_rate</th>\n",
       "      <th>car_type</th>\n",
       "    </tr>\n",
       "  </thead>\n",
       "  <tbody>\n",
       "    <tr>\n",
       "      <th>0</th>\n",
       "      <td>1</td>\n",
       "      <td>34689.96</td>\n",
       "      <td>687.23</td>\n",
       "      <td>202.93</td>\n",
       "      <td>484.30</td>\n",
       "      <td>34205.66</td>\n",
       "      <td>0.0702</td>\n",
       "      <td>Toyota Sienna</td>\n",
       "    </tr>\n",
       "    <tr>\n",
       "      <th>1</th>\n",
       "      <td>2</td>\n",
       "      <td>34205.66</td>\n",
       "      <td>687.23</td>\n",
       "      <td>200.10</td>\n",
       "      <td>487.13</td>\n",
       "      <td>33718.53</td>\n",
       "      <td>0.0702</td>\n",
       "      <td>Toyota Sienna</td>\n",
       "    </tr>\n",
       "    <tr>\n",
       "      <th>2</th>\n",
       "      <td>3</td>\n",
       "      <td>33718.53</td>\n",
       "      <td>687.23</td>\n",
       "      <td>197.25</td>\n",
       "      <td>489.98</td>\n",
       "      <td>33228.55</td>\n",
       "      <td>0.0702</td>\n",
       "      <td>Toyota Sienna</td>\n",
       "    </tr>\n",
       "    <tr>\n",
       "      <th>3</th>\n",
       "      <td>4</td>\n",
       "      <td>33228.55</td>\n",
       "      <td>687.23</td>\n",
       "      <td>194.38</td>\n",
       "      <td>492.85</td>\n",
       "      <td>32735.70</td>\n",
       "      <td>0.0702</td>\n",
       "      <td>Toyota Sienna</td>\n",
       "    </tr>\n",
       "    <tr>\n",
       "      <th>4</th>\n",
       "      <td>5</td>\n",
       "      <td>32735.70</td>\n",
       "      <td>687.23</td>\n",
       "      <td>191.50</td>\n",
       "      <td>495.73</td>\n",
       "      <td>32239.97</td>\n",
       "      <td>0.0702</td>\n",
       "      <td>Toyota Sienna</td>\n",
       "    </tr>\n",
       "  </tbody>\n",
       "</table>\n",
       "</div>"
      ],
      "text/plain": [
       "   month  starting_balance  Repayment  interest_paid  principal_paid  \\\n",
       "0      1          34689.96     687.23         202.93          484.30   \n",
       "1      2          34205.66     687.23         200.10          487.13   \n",
       "2      3          33718.53     687.23         197.25          489.98   \n",
       "3      4          33228.55     687.23         194.38          492.85   \n",
       "4      5          32735.70     687.23         191.50          495.73   \n",
       "\n",
       "   new_balance  interest_rate       car_type  \n",
       "0     34205.66         0.0702  Toyota Sienna  \n",
       "1     33718.53         0.0702  Toyota Sienna  \n",
       "2     33228.55         0.0702  Toyota Sienna  \n",
       "3     32735.70         0.0702  Toyota Sienna  \n",
       "4     32239.97         0.0702  Toyota Sienna  "
      ]
     },
     "execution_count": 194,
     "metadata": {},
     "output_type": "execute_result"
    }
   ],
   "source": [
    "# Approach 1\n",
    "# This approach allows you to drop multiple columns at a time \n",
    "df = df.drop(columns=['term'])\n",
    "df.head()"
   ]
  },
  {
   "cell_type": "code",
   "execution_count": 195,
   "metadata": {},
   "outputs": [],
   "source": [
    "# Approach 2 use the del command\n",
    "del df['Repayment']"
   ]
  },
  {
   "cell_type": "code",
   "execution_count": 196,
   "metadata": {},
   "outputs": [
    {
     "data": {
      "text/plain": [
       "(408, 7)"
      ]
     },
     "execution_count": 196,
     "metadata": {},
     "output_type": "execute_result"
    }
   ],
   "source": [
    "df.shape"
   ]
  },
  {
   "cell_type": "code",
   "execution_count": 197,
   "metadata": {},
   "outputs": [
    {
     "data": {
      "text/html": [
       "<div>\n",
       "<style scoped>\n",
       "    .dataframe tbody tr th:only-of-type {\n",
       "        vertical-align: middle;\n",
       "    }\n",
       "\n",
       "    .dataframe tbody tr th {\n",
       "        vertical-align: top;\n",
       "    }\n",
       "\n",
       "    .dataframe thead th {\n",
       "        text-align: right;\n",
       "    }\n",
       "</style>\n",
       "<table border=\"1\" class=\"dataframe\">\n",
       "  <thead>\n",
       "    <tr style=\"text-align: right;\">\n",
       "      <th></th>\n",
       "      <th>car_type</th>\n",
       "      <th>principal_paid</th>\n",
       "    </tr>\n",
       "  </thead>\n",
       "  <tbody>\n",
       "    <tr>\n",
       "      <th>0</th>\n",
       "      <td>Toyota Sienna</td>\n",
       "      <td>484.30</td>\n",
       "    </tr>\n",
       "    <tr>\n",
       "      <th>1</th>\n",
       "      <td>Toyota Sienna</td>\n",
       "      <td>487.13</td>\n",
       "    </tr>\n",
       "    <tr>\n",
       "      <th>2</th>\n",
       "      <td>Toyota Sienna</td>\n",
       "      <td>489.98</td>\n",
       "    </tr>\n",
       "    <tr>\n",
       "      <th>3</th>\n",
       "      <td>Toyota Sienna</td>\n",
       "      <td>492.85</td>\n",
       "    </tr>\n",
       "    <tr>\n",
       "      <th>4</th>\n",
       "      <td>Toyota Sienna</td>\n",
       "      <td>495.73</td>\n",
       "    </tr>\n",
       "  </tbody>\n",
       "</table>\n",
       "</div>"
      ],
      "text/plain": [
       "        car_type  principal_paid\n",
       "0  Toyota Sienna          484.30\n",
       "1  Toyota Sienna          487.13\n",
       "2  Toyota Sienna          489.98\n",
       "3  Toyota Sienna          492.85\n",
       "4  Toyota Sienna          495.73"
      ]
     },
     "execution_count": 197,
     "metadata": {},
     "output_type": "execute_result"
    }
   ],
   "source": [
    "# Select multiple columns using double brackets\n",
    "df[['car_type', 'principal_paid']].head()"
   ]
  },
  {
   "cell_type": "code",
   "execution_count": 198,
   "metadata": {},
   "outputs": [
    {
     "data": {
      "text/html": [
       "<div>\n",
       "<style scoped>\n",
       "    .dataframe tbody tr th:only-of-type {\n",
       "        vertical-align: middle;\n",
       "    }\n",
       "\n",
       "    .dataframe tbody tr th {\n",
       "        vertical-align: top;\n",
       "    }\n",
       "\n",
       "    .dataframe thead th {\n",
       "        text-align: right;\n",
       "    }\n",
       "</style>\n",
       "<table border=\"1\" class=\"dataframe\">\n",
       "  <thead>\n",
       "    <tr style=\"text-align: right;\">\n",
       "      <th></th>\n",
       "      <th>car_type</th>\n",
       "    </tr>\n",
       "  </thead>\n",
       "  <tbody>\n",
       "    <tr>\n",
       "      <th>0</th>\n",
       "      <td>Toyota Sienna</td>\n",
       "    </tr>\n",
       "    <tr>\n",
       "      <th>1</th>\n",
       "      <td>Toyota Sienna</td>\n",
       "    </tr>\n",
       "    <tr>\n",
       "      <th>2</th>\n",
       "      <td>Toyota Sienna</td>\n",
       "    </tr>\n",
       "    <tr>\n",
       "      <th>3</th>\n",
       "      <td>Toyota Sienna</td>\n",
       "    </tr>\n",
       "    <tr>\n",
       "      <th>4</th>\n",
       "      <td>Toyota Sienna</td>\n",
       "    </tr>\n",
       "  </tbody>\n",
       "</table>\n",
       "</div>"
      ],
      "text/plain": [
       "        car_type\n",
       "0  Toyota Sienna\n",
       "1  Toyota Sienna\n",
       "2  Toyota Sienna\n",
       "3  Toyota Sienna\n",
       "4  Toyota Sienna"
      ]
     },
     "execution_count": 198,
     "metadata": {},
     "output_type": "execute_result"
    }
   ],
   "source": [
    "# pandas dataframe\n",
    "df.loc[:, ['car_type']].head()"
   ]
  },
  {
   "cell_type": "code",
   "execution_count": 199,
   "metadata": {},
   "outputs": [
    {
     "data": {
      "text/plain": [
       "0    Toyota Sienna\n",
       "1    Toyota Sienna\n",
       "2    Toyota Sienna\n",
       "3    Toyota Sienna\n",
       "4    Toyota Sienna\n",
       "Name: car_type, dtype: object"
      ]
     },
     "execution_count": 199,
     "metadata": {},
     "output_type": "execute_result"
    }
   ],
   "source": [
    "# pandas series\n",
    "df.loc[:, 'car_type'].head()"
   ]
  },
  {
   "cell_type": "code",
   "execution_count": 200,
   "metadata": {},
   "outputs": [
    {
     "data": {
      "text/plain": [
       "0    Toyota Sienna\n",
       "1    Toyota Sienna\n",
       "2    Toyota Sienna\n",
       "3    Toyota Sienna\n",
       "4    Toyota Sienna\n",
       "Name: car_type, dtype: object"
      ]
     },
     "execution_count": 200,
     "metadata": {},
     "output_type": "execute_result"
    }
   ],
   "source": [
    "# Select one column using single brackets\n",
    "# This produces a pandas series which is a one-dimensional array which can be labeled\n",
    "df['car_type'].head()"
   ]
  },
  {
   "cell_type": "code",
   "execution_count": 201,
   "metadata": {},
   "outputs": [
    {
     "data": {
      "text/html": [
       "<div>\n",
       "<style scoped>\n",
       "    .dataframe tbody tr th:only-of-type {\n",
       "        vertical-align: middle;\n",
       "    }\n",
       "\n",
       "    .dataframe tbody tr th {\n",
       "        vertical-align: top;\n",
       "    }\n",
       "\n",
       "    .dataframe thead th {\n",
       "        text-align: right;\n",
       "    }\n",
       "</style>\n",
       "<table border=\"1\" class=\"dataframe\">\n",
       "  <thead>\n",
       "    <tr style=\"text-align: right;\">\n",
       "      <th></th>\n",
       "      <th>month</th>\n",
       "      <th>starting_balance</th>\n",
       "      <th>interest_paid</th>\n",
       "      <th>principal_paid</th>\n",
       "      <th>new_balance</th>\n",
       "      <th>interest_rate</th>\n",
       "      <th>car_type</th>\n",
       "    </tr>\n",
       "  </thead>\n",
       "  <tbody>\n",
       "    <tr>\n",
       "      <th>0</th>\n",
       "      <td>1</td>\n",
       "      <td>34689.96</td>\n",
       "      <td>202.93</td>\n",
       "      <td>484.30</td>\n",
       "      <td>34205.66</td>\n",
       "      <td>0.0702</td>\n",
       "      <td>Toyota Sienna</td>\n",
       "    </tr>\n",
       "    <tr>\n",
       "      <th>1</th>\n",
       "      <td>2</td>\n",
       "      <td>34205.66</td>\n",
       "      <td>200.10</td>\n",
       "      <td>487.13</td>\n",
       "      <td>33718.53</td>\n",
       "      <td>0.0702</td>\n",
       "      <td>Toyota Sienna</td>\n",
       "    </tr>\n",
       "    <tr>\n",
       "      <th>2</th>\n",
       "      <td>3</td>\n",
       "      <td>33718.53</td>\n",
       "      <td>197.25</td>\n",
       "      <td>489.98</td>\n",
       "      <td>33228.55</td>\n",
       "      <td>0.0702</td>\n",
       "      <td>Toyota Sienna</td>\n",
       "    </tr>\n",
       "    <tr>\n",
       "      <th>3</th>\n",
       "      <td>4</td>\n",
       "      <td>33228.55</td>\n",
       "      <td>194.38</td>\n",
       "      <td>492.85</td>\n",
       "      <td>32735.70</td>\n",
       "      <td>0.0702</td>\n",
       "      <td>Toyota Sienna</td>\n",
       "    </tr>\n",
       "    <tr>\n",
       "      <th>4</th>\n",
       "      <td>5</td>\n",
       "      <td>32735.70</td>\n",
       "      <td>191.50</td>\n",
       "      <td>495.73</td>\n",
       "      <td>32239.97</td>\n",
       "      <td>0.0702</td>\n",
       "      <td>Toyota Sienna</td>\n",
       "    </tr>\n",
       "  </tbody>\n",
       "</table>\n",
       "</div>"
      ],
      "text/plain": [
       "   month  starting_balance  interest_paid  principal_paid  new_balance  \\\n",
       "0      1          34689.96         202.93          484.30     34205.66   \n",
       "1      2          34205.66         200.10          487.13     33718.53   \n",
       "2      3          33718.53         197.25          489.98     33228.55   \n",
       "3      4          33228.55         194.38          492.85     32735.70   \n",
       "4      5          32735.70         191.50          495.73     32239.97   \n",
       "\n",
       "   interest_rate       car_type  \n",
       "0         0.0702  Toyota Sienna  \n",
       "1         0.0702  Toyota Sienna  \n",
       "2         0.0702  Toyota Sienna  \n",
       "3         0.0702  Toyota Sienna  \n",
       "4         0.0702  Toyota Sienna  "
      ]
     },
     "execution_count": 201,
     "metadata": {},
     "output_type": "execute_result"
    }
   ],
   "source": [
    "## Filtering \n",
    "car_filter = df['car_type']=='Toyota Sienna'\n",
    "interest_filter = df['interest_rate']==0.0702\n",
    "df = df.loc[car_filter & interest_filter, :]\n",
    "df.head()"
   ]
  },
  {
   "cell_type": "code",
   "execution_count": 202,
   "metadata": {},
   "outputs": [
    {
     "data": {
      "text/html": [
       "<div>\n",
       "<style scoped>\n",
       "    .dataframe tbody tr th:only-of-type {\n",
       "        vertical-align: middle;\n",
       "    }\n",
       "\n",
       "    .dataframe tbody tr th {\n",
       "        vertical-align: top;\n",
       "    }\n",
       "\n",
       "    .dataframe thead th {\n",
       "        text-align: right;\n",
       "    }\n",
       "</style>\n",
       "<table border=\"1\" class=\"dataframe\">\n",
       "  <thead>\n",
       "    <tr style=\"text-align: right;\">\n",
       "      <th></th>\n",
       "      <th>month</th>\n",
       "      <th>starting_balance</th>\n",
       "      <th>interest_paid</th>\n",
       "      <th>principal_paid</th>\n",
       "      <th>new_balance</th>\n",
       "      <th>interest_rate</th>\n",
       "      <th>car_type</th>\n",
       "    </tr>\n",
       "  </thead>\n",
       "  <tbody>\n",
       "    <tr>\n",
       "      <th>35</th>\n",
       "      <td>36</td>\n",
       "      <td>15940.06</td>\n",
       "      <td>NaN</td>\n",
       "      <td>593.99</td>\n",
       "      <td>15346.07</td>\n",
       "      <td>0.0702</td>\n",
       "      <td>Toyota Sienna</td>\n",
       "    </tr>\n",
       "  </tbody>\n",
       "</table>\n",
       "</div>"
      ],
      "text/plain": [
       "    month  starting_balance  interest_paid  principal_paid  new_balance  \\\n",
       "35     36          15940.06            NaN          593.99     15346.07   \n",
       "\n",
       "    interest_rate       car_type  \n",
       "35         0.0702  Toyota Sienna  "
      ]
     },
     "execution_count": 202,
     "metadata": {},
     "output_type": "execute_result"
    }
   ],
   "source": [
    "# missing values can be excluded in calculations by default. \n",
    "# excludes missing values in the calculation \n",
    "interest_missing = df['interest_paid'].isna()\n",
    "# Looks at the row that contains the NaN for interest_paid\n",
    "df.loc[interest_missing,:]"
   ]
  },
  {
   "cell_type": "code",
   "execution_count": 203,
   "metadata": {},
   "outputs": [
    {
     "data": {
      "text/plain": [
       "30    110.32\n",
       "31    106.94\n",
       "32    103.55\n",
       "33    100.13\n",
       "34     96.70\n",
       "35       NaN\n",
       "36     89.77\n",
       "37     86.27\n",
       "38     82.76\n",
       "39     79.22\n",
       "Name: interest_paid, dtype: float64"
      ]
     },
     "execution_count": 203,
     "metadata": {},
     "output_type": "execute_result"
    }
   ],
   "source": [
    "# Another way to look at where missing data is located\n",
    "df['interest_paid'][30:40]"
   ]
  },
  {
   "cell_type": "code",
   "execution_count": 204,
   "metadata": {},
   "outputs": [],
   "source": [
    "# Filling in the nan with a zero is probably a bad idea. \n",
    "#df['interest_paid'][30:40].fillna(0)"
   ]
  },
  {
   "cell_type": "code",
   "execution_count": 205,
   "metadata": {},
   "outputs": [
    {
     "data": {
      "text/plain": [
       "30    110.32\n",
       "31    106.94\n",
       "32    103.55\n",
       "33    100.13\n",
       "34     96.70\n",
       "35     89.77\n",
       "36     89.77\n",
       "37     86.27\n",
       "38     82.76\n",
       "39     79.22\n",
       "Name: interest_paid, dtype: float64"
      ]
     },
     "execution_count": 205,
     "metadata": {},
     "output_type": "execute_result"
    }
   ],
   "source": [
    "## back fill in value\n",
    "df['interest_paid'][30:40].fillna(method = 'bfill')"
   ]
  },
  {
   "cell_type": "code",
   "execution_count": 206,
   "metadata": {},
   "outputs": [],
   "source": [
    "# Another forward fill in value\n",
    "#df['interest_paid'][30:40].fillna(method='ffill'\n",
    "\n",
    "# linear interpolation (filling in of values)\n",
    "#df['interest_paid'][30:40].interpolate(method = 'linear')\n",
    "\n",
    "# Fill in with the actual value manually \n",
    "#interest_missing = df['interest_paid'].isna()\n",
    "#df.loc[interest_missing,'interest_paid'] = 93.24"
   ]
  },
  {
   "cell_type": "code",
   "execution_count": 207,
   "metadata": {},
   "outputs": [
    {
     "data": {
      "text/plain": [
       "1"
      ]
     },
     "execution_count": 207,
     "metadata": {},
     "output_type": "execute_result"
    }
   ],
   "source": [
    "# The code counts the number of missing values\n",
    "# sum() works because Booleans are a subtype of integers. \n",
    "df['interest_paid'].isna().sum()"
   ]
  },
  {
   "cell_type": "code",
   "execution_count": 208,
   "metadata": {},
   "outputs": [],
   "source": [
    "# Fill in with the actual value\n",
    "df.loc[interest_missing,'interest_paid'] = 93.24"
   ]
  },
  {
   "cell_type": "code",
   "execution_count": 209,
   "metadata": {},
   "outputs": [
    {
     "data": {
      "text/plain": [
       "Toyota Sienna    60\n",
       "Name: car_type, dtype: int64"
      ]
     },
     "execution_count": 209,
     "metadata": {},
     "output_type": "execute_result"
    }
   ],
   "source": [
    "# Let's first start by looking at the car_type column. \n",
    "df['car_type'].value_counts()"
   ]
  },
  {
   "cell_type": "code",
   "execution_count": 210,
   "metadata": {},
   "outputs": [],
   "source": [
    "# Notice that the filter produces a pandas series of True and False values\n",
    "car_filter = df['car_type']=='Toyota Sienna'"
   ]
  },
  {
   "cell_type": "code",
   "execution_count": 211,
   "metadata": {},
   "outputs": [
    {
     "data": {
      "text/plain": [
       "0    True\n",
       "1    True\n",
       "2    True\n",
       "3    True\n",
       "4    True\n",
       "Name: car_type, dtype: bool"
      ]
     },
     "execution_count": 211,
     "metadata": {},
     "output_type": "execute_result"
    }
   ],
   "source": [
    "car_filter.head()"
   ]
  },
  {
   "cell_type": "code",
   "execution_count": 212,
   "metadata": {},
   "outputs": [
    {
     "data": {
      "text/html": [
       "<div>\n",
       "<style scoped>\n",
       "    .dataframe tbody tr th:only-of-type {\n",
       "        vertical-align: middle;\n",
       "    }\n",
       "\n",
       "    .dataframe tbody tr th {\n",
       "        vertical-align: top;\n",
       "    }\n",
       "\n",
       "    .dataframe thead th {\n",
       "        text-align: right;\n",
       "    }\n",
       "</style>\n",
       "<table border=\"1\" class=\"dataframe\">\n",
       "  <thead>\n",
       "    <tr style=\"text-align: right;\">\n",
       "      <th></th>\n",
       "      <th>month</th>\n",
       "      <th>starting_balance</th>\n",
       "      <th>interest_paid</th>\n",
       "      <th>principal_paid</th>\n",
       "      <th>new_balance</th>\n",
       "      <th>interest_rate</th>\n",
       "      <th>car_type</th>\n",
       "    </tr>\n",
       "  </thead>\n",
       "  <tbody>\n",
       "    <tr>\n",
       "      <th>0</th>\n",
       "      <td>1</td>\n",
       "      <td>34689.96</td>\n",
       "      <td>202.93</td>\n",
       "      <td>484.30</td>\n",
       "      <td>34205.66</td>\n",
       "      <td>0.0702</td>\n",
       "      <td>Toyota Sienna</td>\n",
       "    </tr>\n",
       "    <tr>\n",
       "      <th>1</th>\n",
       "      <td>2</td>\n",
       "      <td>34205.66</td>\n",
       "      <td>200.10</td>\n",
       "      <td>487.13</td>\n",
       "      <td>33718.53</td>\n",
       "      <td>0.0702</td>\n",
       "      <td>Toyota Sienna</td>\n",
       "    </tr>\n",
       "    <tr>\n",
       "      <th>2</th>\n",
       "      <td>3</td>\n",
       "      <td>33718.53</td>\n",
       "      <td>197.25</td>\n",
       "      <td>489.98</td>\n",
       "      <td>33228.55</td>\n",
       "      <td>0.0702</td>\n",
       "      <td>Toyota Sienna</td>\n",
       "    </tr>\n",
       "    <tr>\n",
       "      <th>3</th>\n",
       "      <td>4</td>\n",
       "      <td>33228.55</td>\n",
       "      <td>194.38</td>\n",
       "      <td>492.85</td>\n",
       "      <td>32735.70</td>\n",
       "      <td>0.0702</td>\n",
       "      <td>Toyota Sienna</td>\n",
       "    </tr>\n",
       "    <tr>\n",
       "      <th>4</th>\n",
       "      <td>5</td>\n",
       "      <td>32735.70</td>\n",
       "      <td>191.50</td>\n",
       "      <td>495.73</td>\n",
       "      <td>32239.97</td>\n",
       "      <td>0.0702</td>\n",
       "      <td>Toyota Sienna</td>\n",
       "    </tr>\n",
       "  </tbody>\n",
       "</table>\n",
       "</div>"
      ],
      "text/plain": [
       "   month  starting_balance  interest_paid  principal_paid  new_balance  \\\n",
       "0      1          34689.96         202.93          484.30     34205.66   \n",
       "1      2          34205.66         200.10          487.13     33718.53   \n",
       "2      3          33718.53         197.25          489.98     33228.55   \n",
       "3      4          33228.55         194.38          492.85     32735.70   \n",
       "4      5          32735.70         191.50          495.73     32239.97   \n",
       "\n",
       "   interest_rate       car_type  \n",
       "0         0.0702  Toyota Sienna  \n",
       "1         0.0702  Toyota Sienna  \n",
       "2         0.0702  Toyota Sienna  \n",
       "3         0.0702  Toyota Sienna  \n",
       "4         0.0702  Toyota Sienna  "
      ]
     },
     "execution_count": 212,
     "metadata": {},
     "output_type": "execute_result"
    }
   ],
   "source": [
    "# Approach 1 using square brackets\n",
    "# Filter dataframe to get a DataFrame of only 'Toyota Sienna'\n",
    "df[car_filter].head()"
   ]
  },
  {
   "cell_type": "code",
   "execution_count": 213,
   "metadata": {},
   "outputs": [
    {
     "data": {
      "text/html": [
       "<div>\n",
       "<style scoped>\n",
       "    .dataframe tbody tr th:only-of-type {\n",
       "        vertical-align: middle;\n",
       "    }\n",
       "\n",
       "    .dataframe tbody tr th {\n",
       "        vertical-align: top;\n",
       "    }\n",
       "\n",
       "    .dataframe thead th {\n",
       "        text-align: right;\n",
       "    }\n",
       "</style>\n",
       "<table border=\"1\" class=\"dataframe\">\n",
       "  <thead>\n",
       "    <tr style=\"text-align: right;\">\n",
       "      <th></th>\n",
       "      <th>month</th>\n",
       "      <th>starting_balance</th>\n",
       "      <th>interest_paid</th>\n",
       "      <th>principal_paid</th>\n",
       "      <th>new_balance</th>\n",
       "      <th>interest_rate</th>\n",
       "      <th>car_type</th>\n",
       "    </tr>\n",
       "  </thead>\n",
       "  <tbody>\n",
       "    <tr>\n",
       "      <th>0</th>\n",
       "      <td>1</td>\n",
       "      <td>34689.96</td>\n",
       "      <td>202.93</td>\n",
       "      <td>484.30</td>\n",
       "      <td>34205.66</td>\n",
       "      <td>0.0702</td>\n",
       "      <td>Toyota Sienna</td>\n",
       "    </tr>\n",
       "    <tr>\n",
       "      <th>1</th>\n",
       "      <td>2</td>\n",
       "      <td>34205.66</td>\n",
       "      <td>200.10</td>\n",
       "      <td>487.13</td>\n",
       "      <td>33718.53</td>\n",
       "      <td>0.0702</td>\n",
       "      <td>Toyota Sienna</td>\n",
       "    </tr>\n",
       "    <tr>\n",
       "      <th>2</th>\n",
       "      <td>3</td>\n",
       "      <td>33718.53</td>\n",
       "      <td>197.25</td>\n",
       "      <td>489.98</td>\n",
       "      <td>33228.55</td>\n",
       "      <td>0.0702</td>\n",
       "      <td>Toyota Sienna</td>\n",
       "    </tr>\n",
       "    <tr>\n",
       "      <th>3</th>\n",
       "      <td>4</td>\n",
       "      <td>33228.55</td>\n",
       "      <td>194.38</td>\n",
       "      <td>492.85</td>\n",
       "      <td>32735.70</td>\n",
       "      <td>0.0702</td>\n",
       "      <td>Toyota Sienna</td>\n",
       "    </tr>\n",
       "    <tr>\n",
       "      <th>4</th>\n",
       "      <td>5</td>\n",
       "      <td>32735.70</td>\n",
       "      <td>191.50</td>\n",
       "      <td>495.73</td>\n",
       "      <td>32239.97</td>\n",
       "      <td>0.0702</td>\n",
       "      <td>Toyota Sienna</td>\n",
       "    </tr>\n",
       "    <tr>\n",
       "      <th>5</th>\n",
       "      <td>6</td>\n",
       "      <td>32239.97</td>\n",
       "      <td>188.60</td>\n",
       "      <td>498.63</td>\n",
       "      <td>31741.34</td>\n",
       "      <td>0.0702</td>\n",
       "      <td>Toyota Sienna</td>\n",
       "    </tr>\n",
       "    <tr>\n",
       "      <th>6</th>\n",
       "      <td>7</td>\n",
       "      <td>31741.34</td>\n",
       "      <td>185.68</td>\n",
       "      <td>501.55</td>\n",
       "      <td>31239.79</td>\n",
       "      <td>0.0702</td>\n",
       "      <td>Toyota Sienna</td>\n",
       "    </tr>\n",
       "    <tr>\n",
       "      <th>7</th>\n",
       "      <td>8</td>\n",
       "      <td>31239.79</td>\n",
       "      <td>182.75</td>\n",
       "      <td>504.48</td>\n",
       "      <td>30735.31</td>\n",
       "      <td>0.0702</td>\n",
       "      <td>Toyota Sienna</td>\n",
       "    </tr>\n",
       "    <tr>\n",
       "      <th>8</th>\n",
       "      <td>9</td>\n",
       "      <td>30735.31</td>\n",
       "      <td>179.80</td>\n",
       "      <td>507.43</td>\n",
       "      <td>30227.88</td>\n",
       "      <td>0.0702</td>\n",
       "      <td>Toyota Sienna</td>\n",
       "    </tr>\n",
       "    <tr>\n",
       "      <th>9</th>\n",
       "      <td>10</td>\n",
       "      <td>30227.88</td>\n",
       "      <td>176.83</td>\n",
       "      <td>510.40</td>\n",
       "      <td>29717.48</td>\n",
       "      <td>0.0702</td>\n",
       "      <td>Toyota Sienna</td>\n",
       "    </tr>\n",
       "    <tr>\n",
       "      <th>10</th>\n",
       "      <td>11</td>\n",
       "      <td>29717.48</td>\n",
       "      <td>173.84</td>\n",
       "      <td>513.39</td>\n",
       "      <td>29204.09</td>\n",
       "      <td>0.0702</td>\n",
       "      <td>Toyota Sienna</td>\n",
       "    </tr>\n",
       "    <tr>\n",
       "      <th>11</th>\n",
       "      <td>12</td>\n",
       "      <td>29204.09</td>\n",
       "      <td>170.84</td>\n",
       "      <td>516.39</td>\n",
       "      <td>28687.70</td>\n",
       "      <td>0.0702</td>\n",
       "      <td>Toyota Sienna</td>\n",
       "    </tr>\n",
       "    <tr>\n",
       "      <th>12</th>\n",
       "      <td>13</td>\n",
       "      <td>28687.70</td>\n",
       "      <td>167.82</td>\n",
       "      <td>519.41</td>\n",
       "      <td>28168.29</td>\n",
       "      <td>0.0702</td>\n",
       "      <td>Toyota Sienna</td>\n",
       "    </tr>\n",
       "    <tr>\n",
       "      <th>13</th>\n",
       "      <td>14</td>\n",
       "      <td>28168.29</td>\n",
       "      <td>164.78</td>\n",
       "      <td>522.45</td>\n",
       "      <td>27645.84</td>\n",
       "      <td>0.0702</td>\n",
       "      <td>Toyota Sienna</td>\n",
       "    </tr>\n",
       "    <tr>\n",
       "      <th>14</th>\n",
       "      <td>15</td>\n",
       "      <td>27645.84</td>\n",
       "      <td>161.72</td>\n",
       "      <td>525.51</td>\n",
       "      <td>27120.33</td>\n",
       "      <td>0.0702</td>\n",
       "      <td>Toyota Sienna</td>\n",
       "    </tr>\n",
       "    <tr>\n",
       "      <th>15</th>\n",
       "      <td>16</td>\n",
       "      <td>27120.33</td>\n",
       "      <td>158.65</td>\n",
       "      <td>528.58</td>\n",
       "      <td>26591.75</td>\n",
       "      <td>0.0702</td>\n",
       "      <td>Toyota Sienna</td>\n",
       "    </tr>\n",
       "    <tr>\n",
       "      <th>16</th>\n",
       "      <td>17</td>\n",
       "      <td>26591.75</td>\n",
       "      <td>155.56</td>\n",
       "      <td>531.67</td>\n",
       "      <td>26060.08</td>\n",
       "      <td>0.0702</td>\n",
       "      <td>Toyota Sienna</td>\n",
       "    </tr>\n",
       "    <tr>\n",
       "      <th>17</th>\n",
       "      <td>18</td>\n",
       "      <td>26060.08</td>\n",
       "      <td>152.45</td>\n",
       "      <td>534.78</td>\n",
       "      <td>25525.30</td>\n",
       "      <td>0.0702</td>\n",
       "      <td>Toyota Sienna</td>\n",
       "    </tr>\n",
       "    <tr>\n",
       "      <th>18</th>\n",
       "      <td>19</td>\n",
       "      <td>25525.30</td>\n",
       "      <td>149.32</td>\n",
       "      <td>537.91</td>\n",
       "      <td>24987.39</td>\n",
       "      <td>0.0702</td>\n",
       "      <td>Toyota Sienna</td>\n",
       "    </tr>\n",
       "    <tr>\n",
       "      <th>19</th>\n",
       "      <td>20</td>\n",
       "      <td>24987.39</td>\n",
       "      <td>146.17</td>\n",
       "      <td>541.06</td>\n",
       "      <td>24446.33</td>\n",
       "      <td>0.0702</td>\n",
       "      <td>Toyota Sienna</td>\n",
       "    </tr>\n",
       "    <tr>\n",
       "      <th>20</th>\n",
       "      <td>21</td>\n",
       "      <td>24446.33</td>\n",
       "      <td>143.01</td>\n",
       "      <td>544.22</td>\n",
       "      <td>23902.11</td>\n",
       "      <td>0.0702</td>\n",
       "      <td>Toyota Sienna</td>\n",
       "    </tr>\n",
       "    <tr>\n",
       "      <th>21</th>\n",
       "      <td>22</td>\n",
       "      <td>23902.11</td>\n",
       "      <td>139.82</td>\n",
       "      <td>547.41</td>\n",
       "      <td>23354.70</td>\n",
       "      <td>0.0702</td>\n",
       "      <td>Toyota Sienna</td>\n",
       "    </tr>\n",
       "    <tr>\n",
       "      <th>22</th>\n",
       "      <td>23</td>\n",
       "      <td>23354.70</td>\n",
       "      <td>136.62</td>\n",
       "      <td>550.61</td>\n",
       "      <td>22804.09</td>\n",
       "      <td>0.0702</td>\n",
       "      <td>Toyota Sienna</td>\n",
       "    </tr>\n",
       "    <tr>\n",
       "      <th>23</th>\n",
       "      <td>24</td>\n",
       "      <td>22804.09</td>\n",
       "      <td>133.40</td>\n",
       "      <td>553.83</td>\n",
       "      <td>22250.26</td>\n",
       "      <td>0.0702</td>\n",
       "      <td>Toyota Sienna</td>\n",
       "    </tr>\n",
       "    <tr>\n",
       "      <th>24</th>\n",
       "      <td>25</td>\n",
       "      <td>22250.26</td>\n",
       "      <td>130.16</td>\n",
       "      <td>557.07</td>\n",
       "      <td>21693.19</td>\n",
       "      <td>0.0702</td>\n",
       "      <td>Toyota Sienna</td>\n",
       "    </tr>\n",
       "    <tr>\n",
       "      <th>25</th>\n",
       "      <td>26</td>\n",
       "      <td>21693.19</td>\n",
       "      <td>126.90</td>\n",
       "      <td>560.33</td>\n",
       "      <td>21132.86</td>\n",
       "      <td>0.0702</td>\n",
       "      <td>Toyota Sienna</td>\n",
       "    </tr>\n",
       "    <tr>\n",
       "      <th>26</th>\n",
       "      <td>27</td>\n",
       "      <td>21132.86</td>\n",
       "      <td>123.62</td>\n",
       "      <td>563.61</td>\n",
       "      <td>20569.25</td>\n",
       "      <td>0.0702</td>\n",
       "      <td>Toyota Sienna</td>\n",
       "    </tr>\n",
       "    <tr>\n",
       "      <th>27</th>\n",
       "      <td>28</td>\n",
       "      <td>20569.25</td>\n",
       "      <td>120.33</td>\n",
       "      <td>566.90</td>\n",
       "      <td>20002.35</td>\n",
       "      <td>0.0702</td>\n",
       "      <td>Toyota Sienna</td>\n",
       "    </tr>\n",
       "    <tr>\n",
       "      <th>28</th>\n",
       "      <td>29</td>\n",
       "      <td>20002.35</td>\n",
       "      <td>117.01</td>\n",
       "      <td>570.22</td>\n",
       "      <td>19432.13</td>\n",
       "      <td>0.0702</td>\n",
       "      <td>Toyota Sienna</td>\n",
       "    </tr>\n",
       "    <tr>\n",
       "      <th>29</th>\n",
       "      <td>30</td>\n",
       "      <td>19432.13</td>\n",
       "      <td>113.67</td>\n",
       "      <td>573.56</td>\n",
       "      <td>18858.57</td>\n",
       "      <td>0.0702</td>\n",
       "      <td>Toyota Sienna</td>\n",
       "    </tr>\n",
       "    <tr>\n",
       "      <th>30</th>\n",
       "      <td>31</td>\n",
       "      <td>18858.57</td>\n",
       "      <td>110.32</td>\n",
       "      <td>576.91</td>\n",
       "      <td>18281.66</td>\n",
       "      <td>0.0702</td>\n",
       "      <td>Toyota Sienna</td>\n",
       "    </tr>\n",
       "    <tr>\n",
       "      <th>31</th>\n",
       "      <td>32</td>\n",
       "      <td>18281.66</td>\n",
       "      <td>106.94</td>\n",
       "      <td>580.29</td>\n",
       "      <td>17701.37</td>\n",
       "      <td>0.0702</td>\n",
       "      <td>Toyota Sienna</td>\n",
       "    </tr>\n",
       "    <tr>\n",
       "      <th>32</th>\n",
       "      <td>33</td>\n",
       "      <td>17701.37</td>\n",
       "      <td>103.55</td>\n",
       "      <td>583.68</td>\n",
       "      <td>17117.69</td>\n",
       "      <td>0.0702</td>\n",
       "      <td>Toyota Sienna</td>\n",
       "    </tr>\n",
       "    <tr>\n",
       "      <th>33</th>\n",
       "      <td>34</td>\n",
       "      <td>17117.69</td>\n",
       "      <td>100.13</td>\n",
       "      <td>587.10</td>\n",
       "      <td>16530.59</td>\n",
       "      <td>0.0702</td>\n",
       "      <td>Toyota Sienna</td>\n",
       "    </tr>\n",
       "    <tr>\n",
       "      <th>34</th>\n",
       "      <td>35</td>\n",
       "      <td>16530.59</td>\n",
       "      <td>96.70</td>\n",
       "      <td>590.53</td>\n",
       "      <td>15940.06</td>\n",
       "      <td>0.0702</td>\n",
       "      <td>Toyota Sienna</td>\n",
       "    </tr>\n",
       "    <tr>\n",
       "      <th>35</th>\n",
       "      <td>36</td>\n",
       "      <td>15940.06</td>\n",
       "      <td>93.24</td>\n",
       "      <td>593.99</td>\n",
       "      <td>15346.07</td>\n",
       "      <td>0.0702</td>\n",
       "      <td>Toyota Sienna</td>\n",
       "    </tr>\n",
       "    <tr>\n",
       "      <th>36</th>\n",
       "      <td>37</td>\n",
       "      <td>15346.07</td>\n",
       "      <td>89.77</td>\n",
       "      <td>597.46</td>\n",
       "      <td>14748.61</td>\n",
       "      <td>0.0702</td>\n",
       "      <td>Toyota Sienna</td>\n",
       "    </tr>\n",
       "    <tr>\n",
       "      <th>37</th>\n",
       "      <td>38</td>\n",
       "      <td>14748.61</td>\n",
       "      <td>86.27</td>\n",
       "      <td>600.96</td>\n",
       "      <td>14147.65</td>\n",
       "      <td>0.0702</td>\n",
       "      <td>Toyota Sienna</td>\n",
       "    </tr>\n",
       "    <tr>\n",
       "      <th>38</th>\n",
       "      <td>39</td>\n",
       "      <td>14147.65</td>\n",
       "      <td>82.76</td>\n",
       "      <td>604.47</td>\n",
       "      <td>13543.18</td>\n",
       "      <td>0.0702</td>\n",
       "      <td>Toyota Sienna</td>\n",
       "    </tr>\n",
       "    <tr>\n",
       "      <th>39</th>\n",
       "      <td>40</td>\n",
       "      <td>13543.18</td>\n",
       "      <td>79.22</td>\n",
       "      <td>608.01</td>\n",
       "      <td>12935.17</td>\n",
       "      <td>0.0702</td>\n",
       "      <td>Toyota Sienna</td>\n",
       "    </tr>\n",
       "    <tr>\n",
       "      <th>40</th>\n",
       "      <td>41</td>\n",
       "      <td>12935.17</td>\n",
       "      <td>75.67</td>\n",
       "      <td>611.56</td>\n",
       "      <td>12323.61</td>\n",
       "      <td>0.0702</td>\n",
       "      <td>Toyota Sienna</td>\n",
       "    </tr>\n",
       "    <tr>\n",
       "      <th>41</th>\n",
       "      <td>42</td>\n",
       "      <td>12323.61</td>\n",
       "      <td>72.09</td>\n",
       "      <td>615.14</td>\n",
       "      <td>11708.47</td>\n",
       "      <td>0.0702</td>\n",
       "      <td>Toyota Sienna</td>\n",
       "    </tr>\n",
       "    <tr>\n",
       "      <th>42</th>\n",
       "      <td>43</td>\n",
       "      <td>11708.47</td>\n",
       "      <td>68.49</td>\n",
       "      <td>618.74</td>\n",
       "      <td>11089.73</td>\n",
       "      <td>0.0702</td>\n",
       "      <td>Toyota Sienna</td>\n",
       "    </tr>\n",
       "    <tr>\n",
       "      <th>43</th>\n",
       "      <td>44</td>\n",
       "      <td>11089.73</td>\n",
       "      <td>64.87</td>\n",
       "      <td>622.36</td>\n",
       "      <td>10467.37</td>\n",
       "      <td>0.0702</td>\n",
       "      <td>Toyota Sienna</td>\n",
       "    </tr>\n",
       "    <tr>\n",
       "      <th>44</th>\n",
       "      <td>45</td>\n",
       "      <td>10467.37</td>\n",
       "      <td>61.23</td>\n",
       "      <td>626.00</td>\n",
       "      <td>9841.37</td>\n",
       "      <td>0.0702</td>\n",
       "      <td>Toyota Sienna</td>\n",
       "    </tr>\n",
       "    <tr>\n",
       "      <th>45</th>\n",
       "      <td>46</td>\n",
       "      <td>9841.37</td>\n",
       "      <td>57.57</td>\n",
       "      <td>629.66</td>\n",
       "      <td>9211.71</td>\n",
       "      <td>0.0702</td>\n",
       "      <td>Toyota Sienna</td>\n",
       "    </tr>\n",
       "    <tr>\n",
       "      <th>46</th>\n",
       "      <td>47</td>\n",
       "      <td>9211.71</td>\n",
       "      <td>53.88</td>\n",
       "      <td>633.35</td>\n",
       "      <td>8578.36</td>\n",
       "      <td>0.0702</td>\n",
       "      <td>Toyota Sienna</td>\n",
       "    </tr>\n",
       "    <tr>\n",
       "      <th>47</th>\n",
       "      <td>48</td>\n",
       "      <td>8578.36</td>\n",
       "      <td>50.18</td>\n",
       "      <td>637.05</td>\n",
       "      <td>7941.31</td>\n",
       "      <td>0.0702</td>\n",
       "      <td>Toyota Sienna</td>\n",
       "    </tr>\n",
       "    <tr>\n",
       "      <th>48</th>\n",
       "      <td>49</td>\n",
       "      <td>7941.31</td>\n",
       "      <td>46.45</td>\n",
       "      <td>640.78</td>\n",
       "      <td>7300.53</td>\n",
       "      <td>0.0702</td>\n",
       "      <td>Toyota Sienna</td>\n",
       "    </tr>\n",
       "    <tr>\n",
       "      <th>49</th>\n",
       "      <td>50</td>\n",
       "      <td>7300.53</td>\n",
       "      <td>42.70</td>\n",
       "      <td>644.53</td>\n",
       "      <td>6656.00</td>\n",
       "      <td>0.0702</td>\n",
       "      <td>Toyota Sienna</td>\n",
       "    </tr>\n",
       "    <tr>\n",
       "      <th>50</th>\n",
       "      <td>51</td>\n",
       "      <td>6656.00</td>\n",
       "      <td>38.93</td>\n",
       "      <td>648.30</td>\n",
       "      <td>6007.70</td>\n",
       "      <td>0.0702</td>\n",
       "      <td>Toyota Sienna</td>\n",
       "    </tr>\n",
       "    <tr>\n",
       "      <th>51</th>\n",
       "      <td>52</td>\n",
       "      <td>6007.70</td>\n",
       "      <td>35.14</td>\n",
       "      <td>652.09</td>\n",
       "      <td>5355.61</td>\n",
       "      <td>0.0702</td>\n",
       "      <td>Toyota Sienna</td>\n",
       "    </tr>\n",
       "    <tr>\n",
       "      <th>52</th>\n",
       "      <td>53</td>\n",
       "      <td>5355.61</td>\n",
       "      <td>31.33</td>\n",
       "      <td>655.90</td>\n",
       "      <td>4699.71</td>\n",
       "      <td>0.0702</td>\n",
       "      <td>Toyota Sienna</td>\n",
       "    </tr>\n",
       "    <tr>\n",
       "      <th>53</th>\n",
       "      <td>54</td>\n",
       "      <td>4699.71</td>\n",
       "      <td>27.49</td>\n",
       "      <td>659.74</td>\n",
       "      <td>4039.97</td>\n",
       "      <td>0.0702</td>\n",
       "      <td>Toyota Sienna</td>\n",
       "    </tr>\n",
       "    <tr>\n",
       "      <th>54</th>\n",
       "      <td>55</td>\n",
       "      <td>4039.97</td>\n",
       "      <td>23.63</td>\n",
       "      <td>663.60</td>\n",
       "      <td>3376.37</td>\n",
       "      <td>0.0702</td>\n",
       "      <td>Toyota Sienna</td>\n",
       "    </tr>\n",
       "    <tr>\n",
       "      <th>55</th>\n",
       "      <td>56</td>\n",
       "      <td>3376.37</td>\n",
       "      <td>19.75</td>\n",
       "      <td>667.48</td>\n",
       "      <td>2708.89</td>\n",
       "      <td>0.0702</td>\n",
       "      <td>Toyota Sienna</td>\n",
       "    </tr>\n",
       "    <tr>\n",
       "      <th>56</th>\n",
       "      <td>57</td>\n",
       "      <td>2708.89</td>\n",
       "      <td>15.84</td>\n",
       "      <td>671.39</td>\n",
       "      <td>2037.50</td>\n",
       "      <td>0.0702</td>\n",
       "      <td>Toyota Sienna</td>\n",
       "    </tr>\n",
       "    <tr>\n",
       "      <th>57</th>\n",
       "      <td>58</td>\n",
       "      <td>2037.50</td>\n",
       "      <td>11.91</td>\n",
       "      <td>675.32</td>\n",
       "      <td>1362.18</td>\n",
       "      <td>0.0702</td>\n",
       "      <td>Toyota Sienna</td>\n",
       "    </tr>\n",
       "    <tr>\n",
       "      <th>58</th>\n",
       "      <td>59</td>\n",
       "      <td>1362.18</td>\n",
       "      <td>7.96</td>\n",
       "      <td>679.27</td>\n",
       "      <td>682.91</td>\n",
       "      <td>0.0702</td>\n",
       "      <td>Toyota Sienna</td>\n",
       "    </tr>\n",
       "    <tr>\n",
       "      <th>59</th>\n",
       "      <td>60</td>\n",
       "      <td>682.91</td>\n",
       "      <td>3.99</td>\n",
       "      <td>683.24</td>\n",
       "      <td>-0.33</td>\n",
       "      <td>0.0702</td>\n",
       "      <td>Toyota Sienna</td>\n",
       "    </tr>\n",
       "  </tbody>\n",
       "</table>\n",
       "</div>"
      ],
      "text/plain": [
       "    month  starting_balance  interest_paid  principal_paid  new_balance  \\\n",
       "0       1          34689.96         202.93          484.30     34205.66   \n",
       "1       2          34205.66         200.10          487.13     33718.53   \n",
       "2       3          33718.53         197.25          489.98     33228.55   \n",
       "3       4          33228.55         194.38          492.85     32735.70   \n",
       "4       5          32735.70         191.50          495.73     32239.97   \n",
       "5       6          32239.97         188.60          498.63     31741.34   \n",
       "6       7          31741.34         185.68          501.55     31239.79   \n",
       "7       8          31239.79         182.75          504.48     30735.31   \n",
       "8       9          30735.31         179.80          507.43     30227.88   \n",
       "9      10          30227.88         176.83          510.40     29717.48   \n",
       "10     11          29717.48         173.84          513.39     29204.09   \n",
       "11     12          29204.09         170.84          516.39     28687.70   \n",
       "12     13          28687.70         167.82          519.41     28168.29   \n",
       "13     14          28168.29         164.78          522.45     27645.84   \n",
       "14     15          27645.84         161.72          525.51     27120.33   \n",
       "15     16          27120.33         158.65          528.58     26591.75   \n",
       "16     17          26591.75         155.56          531.67     26060.08   \n",
       "17     18          26060.08         152.45          534.78     25525.30   \n",
       "18     19          25525.30         149.32          537.91     24987.39   \n",
       "19     20          24987.39         146.17          541.06     24446.33   \n",
       "20     21          24446.33         143.01          544.22     23902.11   \n",
       "21     22          23902.11         139.82          547.41     23354.70   \n",
       "22     23          23354.70         136.62          550.61     22804.09   \n",
       "23     24          22804.09         133.40          553.83     22250.26   \n",
       "24     25          22250.26         130.16          557.07     21693.19   \n",
       "25     26          21693.19         126.90          560.33     21132.86   \n",
       "26     27          21132.86         123.62          563.61     20569.25   \n",
       "27     28          20569.25         120.33          566.90     20002.35   \n",
       "28     29          20002.35         117.01          570.22     19432.13   \n",
       "29     30          19432.13         113.67          573.56     18858.57   \n",
       "30     31          18858.57         110.32          576.91     18281.66   \n",
       "31     32          18281.66         106.94          580.29     17701.37   \n",
       "32     33          17701.37         103.55          583.68     17117.69   \n",
       "33     34          17117.69         100.13          587.10     16530.59   \n",
       "34     35          16530.59          96.70          590.53     15940.06   \n",
       "35     36          15940.06          93.24          593.99     15346.07   \n",
       "36     37          15346.07          89.77          597.46     14748.61   \n",
       "37     38          14748.61          86.27          600.96     14147.65   \n",
       "38     39          14147.65          82.76          604.47     13543.18   \n",
       "39     40          13543.18          79.22          608.01     12935.17   \n",
       "40     41          12935.17          75.67          611.56     12323.61   \n",
       "41     42          12323.61          72.09          615.14     11708.47   \n",
       "42     43          11708.47          68.49          618.74     11089.73   \n",
       "43     44          11089.73          64.87          622.36     10467.37   \n",
       "44     45          10467.37          61.23          626.00      9841.37   \n",
       "45     46           9841.37          57.57          629.66      9211.71   \n",
       "46     47           9211.71          53.88          633.35      8578.36   \n",
       "47     48           8578.36          50.18          637.05      7941.31   \n",
       "48     49           7941.31          46.45          640.78      7300.53   \n",
       "49     50           7300.53          42.70          644.53      6656.00   \n",
       "50     51           6656.00          38.93          648.30      6007.70   \n",
       "51     52           6007.70          35.14          652.09      5355.61   \n",
       "52     53           5355.61          31.33          655.90      4699.71   \n",
       "53     54           4699.71          27.49          659.74      4039.97   \n",
       "54     55           4039.97          23.63          663.60      3376.37   \n",
       "55     56           3376.37          19.75          667.48      2708.89   \n",
       "56     57           2708.89          15.84          671.39      2037.50   \n",
       "57     58           2037.50          11.91          675.32      1362.18   \n",
       "58     59           1362.18           7.96          679.27       682.91   \n",
       "59     60            682.91           3.99          683.24        -0.33   \n",
       "\n",
       "    interest_rate       car_type  \n",
       "0          0.0702  Toyota Sienna  \n",
       "1          0.0702  Toyota Sienna  \n",
       "2          0.0702  Toyota Sienna  \n",
       "3          0.0702  Toyota Sienna  \n",
       "4          0.0702  Toyota Sienna  \n",
       "5          0.0702  Toyota Sienna  \n",
       "6          0.0702  Toyota Sienna  \n",
       "7          0.0702  Toyota Sienna  \n",
       "8          0.0702  Toyota Sienna  \n",
       "9          0.0702  Toyota Sienna  \n",
       "10         0.0702  Toyota Sienna  \n",
       "11         0.0702  Toyota Sienna  \n",
       "12         0.0702  Toyota Sienna  \n",
       "13         0.0702  Toyota Sienna  \n",
       "14         0.0702  Toyota Sienna  \n",
       "15         0.0702  Toyota Sienna  \n",
       "16         0.0702  Toyota Sienna  \n",
       "17         0.0702  Toyota Sienna  \n",
       "18         0.0702  Toyota Sienna  \n",
       "19         0.0702  Toyota Sienna  \n",
       "20         0.0702  Toyota Sienna  \n",
       "21         0.0702  Toyota Sienna  \n",
       "22         0.0702  Toyota Sienna  \n",
       "23         0.0702  Toyota Sienna  \n",
       "24         0.0702  Toyota Sienna  \n",
       "25         0.0702  Toyota Sienna  \n",
       "26         0.0702  Toyota Sienna  \n",
       "27         0.0702  Toyota Sienna  \n",
       "28         0.0702  Toyota Sienna  \n",
       "29         0.0702  Toyota Sienna  \n",
       "30         0.0702  Toyota Sienna  \n",
       "31         0.0702  Toyota Sienna  \n",
       "32         0.0702  Toyota Sienna  \n",
       "33         0.0702  Toyota Sienna  \n",
       "34         0.0702  Toyota Sienna  \n",
       "35         0.0702  Toyota Sienna  \n",
       "36         0.0702  Toyota Sienna  \n",
       "37         0.0702  Toyota Sienna  \n",
       "38         0.0702  Toyota Sienna  \n",
       "39         0.0702  Toyota Sienna  \n",
       "40         0.0702  Toyota Sienna  \n",
       "41         0.0702  Toyota Sienna  \n",
       "42         0.0702  Toyota Sienna  \n",
       "43         0.0702  Toyota Sienna  \n",
       "44         0.0702  Toyota Sienna  \n",
       "45         0.0702  Toyota Sienna  \n",
       "46         0.0702  Toyota Sienna  \n",
       "47         0.0702  Toyota Sienna  \n",
       "48         0.0702  Toyota Sienna  \n",
       "49         0.0702  Toyota Sienna  \n",
       "50         0.0702  Toyota Sienna  \n",
       "51         0.0702  Toyota Sienna  \n",
       "52         0.0702  Toyota Sienna  \n",
       "53         0.0702  Toyota Sienna  \n",
       "54         0.0702  Toyota Sienna  \n",
       "55         0.0702  Toyota Sienna  \n",
       "56         0.0702  Toyota Sienna  \n",
       "57         0.0702  Toyota Sienna  \n",
       "58         0.0702  Toyota Sienna  \n",
       "59         0.0702  Toyota Sienna  "
      ]
     },
     "execution_count": 213,
     "metadata": {},
     "output_type": "execute_result"
    }
   ],
   "source": [
    "# Approach 2 using loc\n",
    "# Filter dataframe to get a DataFrame of only 'Toyota Sienna'\n",
    "df.loc[car_filter, :]"
   ]
  },
  {
   "cell_type": "code",
   "execution_count": 214,
   "metadata": {},
   "outputs": [
    {
     "data": {
      "text/plain": [
       "Toyota Sienna    60\n",
       "Name: car_type, dtype: int64"
      ]
     },
     "execution_count": 214,
     "metadata": {},
     "output_type": "execute_result"
    }
   ],
   "source": [
    "# Notice that it looks like nothing changed\n",
    "# This is because we didn't update the dataframe after applying the filter\n",
    "df['car_type'].value_counts()"
   ]
  },
  {
   "cell_type": "code",
   "execution_count": 215,
   "metadata": {},
   "outputs": [],
   "source": [
    "# Filter dataframe to get a DataFrame of only 'Toyota Sienna'\n",
    "df = df.loc[car_filter, :]"
   ]
  },
  {
   "cell_type": "code",
   "execution_count": 216,
   "metadata": {},
   "outputs": [
    {
     "data": {
      "text/plain": [
       "Toyota Sienna    60\n",
       "Name: car_type, dtype: int64"
      ]
     },
     "execution_count": 216,
     "metadata": {},
     "output_type": "execute_result"
    }
   ],
   "source": [
    "df['car_type'].value_counts()"
   ]
  },
  {
   "cell_type": "code",
   "execution_count": 217,
   "metadata": {},
   "outputs": [
    {
     "data": {
      "text/plain": [
       "0.0702    60\n",
       "Name: interest_rate, dtype: int64"
      ]
     },
     "execution_count": 217,
     "metadata": {},
     "output_type": "execute_result"
    }
   ],
   "source": [
    "df['interest_rate'].value_counts()"
   ]
  },
  {
   "cell_type": "code",
   "execution_count": 218,
   "metadata": {},
   "outputs": [],
   "source": [
    "interest_filter= df['interest_rate'] ==.0702"
   ]
  },
  {
   "cell_type": "code",
   "execution_count": 219,
   "metadata": {},
   "outputs": [],
   "source": [
    "df = df.loc[interest_filter,:]"
   ]
  },
  {
   "cell_type": "code",
   "execution_count": 220,
   "metadata": {},
   "outputs": [
    {
     "data": {
      "text/plain": [
       "0.0702    60\n",
       "Name: interest_rate, dtype: int64"
      ]
     },
     "execution_count": 220,
     "metadata": {},
     "output_type": "execute_result"
    }
   ],
   "source": [
    "df['interest_rate'].value_counts(dropna = False)"
   ]
  },
  {
   "cell_type": "markdown",
   "metadata": {},
   "source": [
    "## Convert Pandas DataFrames to NumPy arrays or Dictionaries"
   ]
  },
  {
   "cell_type": "code",
   "execution_count": 221,
   "metadata": {},
   "outputs": [
    {
     "data": {
      "text/html": [
       "<div>\n",
       "<style scoped>\n",
       "    .dataframe tbody tr th:only-of-type {\n",
       "        vertical-align: middle;\n",
       "    }\n",
       "\n",
       "    .dataframe tbody tr th {\n",
       "        vertical-align: top;\n",
       "    }\n",
       "\n",
       "    .dataframe thead th {\n",
       "        text-align: right;\n",
       "    }\n",
       "</style>\n",
       "<table border=\"1\" class=\"dataframe\">\n",
       "  <thead>\n",
       "    <tr style=\"text-align: right;\">\n",
       "      <th></th>\n",
       "      <th>month</th>\n",
       "      <th>starting_balance</th>\n",
       "      <th>interest_paid</th>\n",
       "      <th>principal_paid</th>\n",
       "      <th>new_balance</th>\n",
       "      <th>interest_rate</th>\n",
       "      <th>car_type</th>\n",
       "    </tr>\n",
       "  </thead>\n",
       "  <tbody>\n",
       "    <tr>\n",
       "      <th>0</th>\n",
       "      <td>1</td>\n",
       "      <td>34689.96</td>\n",
       "      <td>202.93</td>\n",
       "      <td>484.30</td>\n",
       "      <td>34205.66</td>\n",
       "      <td>0.0702</td>\n",
       "      <td>Toyota Sienna</td>\n",
       "    </tr>\n",
       "    <tr>\n",
       "      <th>1</th>\n",
       "      <td>2</td>\n",
       "      <td>34205.66</td>\n",
       "      <td>200.10</td>\n",
       "      <td>487.13</td>\n",
       "      <td>33718.53</td>\n",
       "      <td>0.0702</td>\n",
       "      <td>Toyota Sienna</td>\n",
       "    </tr>\n",
       "    <tr>\n",
       "      <th>2</th>\n",
       "      <td>3</td>\n",
       "      <td>33718.53</td>\n",
       "      <td>197.25</td>\n",
       "      <td>489.98</td>\n",
       "      <td>33228.55</td>\n",
       "      <td>0.0702</td>\n",
       "      <td>Toyota Sienna</td>\n",
       "    </tr>\n",
       "    <tr>\n",
       "      <th>3</th>\n",
       "      <td>4</td>\n",
       "      <td>33228.55</td>\n",
       "      <td>194.38</td>\n",
       "      <td>492.85</td>\n",
       "      <td>32735.70</td>\n",
       "      <td>0.0702</td>\n",
       "      <td>Toyota Sienna</td>\n",
       "    </tr>\n",
       "    <tr>\n",
       "      <th>4</th>\n",
       "      <td>5</td>\n",
       "      <td>32735.70</td>\n",
       "      <td>191.50</td>\n",
       "      <td>495.73</td>\n",
       "      <td>32239.97</td>\n",
       "      <td>0.0702</td>\n",
       "      <td>Toyota Sienna</td>\n",
       "    </tr>\n",
       "  </tbody>\n",
       "</table>\n",
       "</div>"
      ],
      "text/plain": [
       "   month  starting_balance  interest_paid  principal_paid  new_balance  \\\n",
       "0      1          34689.96         202.93          484.30     34205.66   \n",
       "1      2          34205.66         200.10          487.13     33718.53   \n",
       "2      3          33718.53         197.25          489.98     33228.55   \n",
       "3      4          33228.55         194.38          492.85     32735.70   \n",
       "4      5          32735.70         191.50          495.73     32239.97   \n",
       "\n",
       "   interest_rate       car_type  \n",
       "0         0.0702  Toyota Sienna  \n",
       "1         0.0702  Toyota Sienna  \n",
       "2         0.0702  Toyota Sienna  \n",
       "3         0.0702  Toyota Sienna  \n",
       "4         0.0702  Toyota Sienna  "
      ]
     },
     "execution_count": 221,
     "metadata": {},
     "output_type": "execute_result"
    }
   ],
   "source": [
    "df.head()"
   ]
  },
  {
   "cell_type": "markdown",
   "metadata": {},
   "source": [
    "### Convert Pandas DataFrames to NumPy Arrays"
   ]
  },
  {
   "cell_type": "code",
   "execution_count": 222,
   "metadata": {},
   "outputs": [
    {
     "data": {
      "text/plain": [
       "array([[1, 34689.96, 202.93, 484.3, 34205.66, 0.0702, 'Toyota Sienna'],\n",
       "       [2, 34205.66, 200.1, 487.13, 33718.53, 0.0702, 'Toyota Sienna'],\n",
       "       [3, 33718.53, 197.25, 489.98, 33228.55, 0.0702, 'Toyota Sienna'],\n",
       "       [4, 33228.55, 194.38, 492.85, 32735.7, 0.0702, 'Toyota Sienna'],\n",
       "       [5, 32735.7, 191.5, 495.73, 32239.97, 0.0702, 'Toyota Sienna'],\n",
       "       [6, 32239.97, 188.6, 498.63, 31741.34, 0.0702, 'Toyota Sienna'],\n",
       "       [7, 31741.34, 185.68, 501.55, 31239.79, 0.0702, 'Toyota Sienna'],\n",
       "       [8, 31239.79, 182.75, 504.48, 30735.31, 0.0702, 'Toyota Sienna'],\n",
       "       [9, 30735.31, 179.8, 507.43, 30227.88, 0.0702, 'Toyota Sienna'],\n",
       "       [10, 30227.88, 176.83, 510.4, 29717.48, 0.0702, 'Toyota Sienna'],\n",
       "       [11, 29717.48, 173.84, 513.39, 29204.09, 0.0702, 'Toyota Sienna'],\n",
       "       [12, 29204.09, 170.84, 516.39, 28687.7, 0.0702, 'Toyota Sienna'],\n",
       "       [13, 28687.7, 167.82, 519.41, 28168.29, 0.0702, 'Toyota Sienna'],\n",
       "       [14, 28168.29, 164.78, 522.45, 27645.84, 0.0702, 'Toyota Sienna'],\n",
       "       [15, 27645.84, 161.72, 525.51, 27120.33, 0.0702, 'Toyota Sienna'],\n",
       "       [16, 27120.33, 158.65, 528.58, 26591.75, 0.0702, 'Toyota Sienna'],\n",
       "       [17, 26591.75, 155.56, 531.67, 26060.08, 0.0702, 'Toyota Sienna'],\n",
       "       [18, 26060.08, 152.45, 534.78, 25525.3, 0.0702, 'Toyota Sienna'],\n",
       "       [19, 25525.3, 149.32, 537.91, 24987.39, 0.0702, 'Toyota Sienna'],\n",
       "       [20, 24987.39, 146.17, 541.06, 24446.33, 0.0702, 'Toyota Sienna'],\n",
       "       [21, 24446.33, 143.01, 544.22, 23902.11, 0.0702, 'Toyota Sienna'],\n",
       "       [22, 23902.11, 139.82, 547.41, 23354.7, 0.0702, 'Toyota Sienna'],\n",
       "       [23, 23354.7, 136.62, 550.61, 22804.09, 0.0702, 'Toyota Sienna'],\n",
       "       [24, 22804.09, 133.4, 553.83, 22250.26, 0.0702, 'Toyota Sienna'],\n",
       "       [25, 22250.26, 130.16, 557.07, 21693.19, 0.0702, 'Toyota Sienna'],\n",
       "       [26, 21693.19, 126.9, 560.33, 21132.86, 0.0702, 'Toyota Sienna'],\n",
       "       [27, 21132.86, 123.62, 563.61, 20569.25, 0.0702, 'Toyota Sienna'],\n",
       "       [28, 20569.25, 120.33, 566.9, 20002.35, 0.0702, 'Toyota Sienna'],\n",
       "       [29, 20002.35, 117.01, 570.22, 19432.13, 0.0702, 'Toyota Sienna'],\n",
       "       [30, 19432.13, 113.67, 573.56, 18858.57, 0.0702, 'Toyota Sienna'],\n",
       "       [31, 18858.57, 110.32, 576.91, 18281.66, 0.0702, 'Toyota Sienna'],\n",
       "       [32, 18281.66, 106.94, 580.29, 17701.37, 0.0702, 'Toyota Sienna'],\n",
       "       [33, 17701.37, 103.55, 583.68, 17117.69, 0.0702, 'Toyota Sienna'],\n",
       "       [34, 17117.69, 100.13, 587.1, 16530.59, 0.0702, 'Toyota Sienna'],\n",
       "       [35, 16530.59, 96.7, 590.53, 15940.06, 0.0702, 'Toyota Sienna'],\n",
       "       [36, 15940.06, 93.24, 593.99, 15346.07, 0.0702, 'Toyota Sienna'],\n",
       "       [37, 15346.07, 89.77, 597.46, 14748.61, 0.0702, 'Toyota Sienna'],\n",
       "       [38, 14748.61, 86.27, 600.96, 14147.65, 0.0702, 'Toyota Sienna'],\n",
       "       [39, 14147.65, 82.76, 604.47, 13543.18, 0.0702, 'Toyota Sienna'],\n",
       "       [40, 13543.18, 79.22, 608.01, 12935.17, 0.0702, 'Toyota Sienna'],\n",
       "       [41, 12935.17, 75.67, 611.56, 12323.61, 0.0702, 'Toyota Sienna'],\n",
       "       [42, 12323.61, 72.09, 615.14, 11708.47, 0.0702, 'Toyota Sienna'],\n",
       "       [43, 11708.47, 68.49, 618.74, 11089.73, 0.0702, 'Toyota Sienna'],\n",
       "       [44, 11089.73, 64.87, 622.36, 10467.37, 0.0702, 'Toyota Sienna'],\n",
       "       [45, 10467.37, 61.23, 626.0, 9841.37, 0.0702, 'Toyota Sienna'],\n",
       "       [46, 9841.37, 57.57, 629.66, 9211.71, 0.0702, 'Toyota Sienna'],\n",
       "       [47, 9211.71, 53.88, 633.35, 8578.36, 0.0702, 'Toyota Sienna'],\n",
       "       [48, 8578.36, 50.18, 637.05, 7941.31, 0.0702, 'Toyota Sienna'],\n",
       "       [49, 7941.31, 46.45, 640.78, 7300.53, 0.0702, 'Toyota Sienna'],\n",
       "       [50, 7300.53, 42.7, 644.53, 6656.0, 0.0702, 'Toyota Sienna'],\n",
       "       [51, 6656.0, 38.93, 648.3, 6007.7, 0.0702, 'Toyota Sienna'],\n",
       "       [52, 6007.7, 35.14, 652.09, 5355.61, 0.0702, 'Toyota Sienna'],\n",
       "       [53, 5355.61, 31.33, 655.9, 4699.71, 0.0702, 'Toyota Sienna'],\n",
       "       [54, 4699.71, 27.49, 659.74, 4039.97, 0.0702, 'Toyota Sienna'],\n",
       "       [55, 4039.97, 23.63, 663.6, 3376.37, 0.0702, 'Toyota Sienna'],\n",
       "       [56, 3376.37, 19.75, 667.48, 2708.89, 0.0702, 'Toyota Sienna'],\n",
       "       [57, 2708.89, 15.84, 671.39, 2037.5, 0.0702, 'Toyota Sienna'],\n",
       "       [58, 2037.5, 11.91, 675.32, 1362.18, 0.0702, 'Toyota Sienna'],\n",
       "       [59, 1362.18, 7.96, 679.27, 682.91, 0.0702, 'Toyota Sienna'],\n",
       "       [60, 682.91, 3.99, 683.24, -0.33, 0.0702, 'Toyota Sienna']],\n",
       "      dtype=object)"
      ]
     },
     "execution_count": 222,
     "metadata": {},
     "output_type": "execute_result"
    }
   ],
   "source": [
    "# Approach 1\n",
    "df.to_numpy()"
   ]
  },
  {
   "cell_type": "code",
   "execution_count": 223,
   "metadata": {},
   "outputs": [
    {
     "data": {
      "text/plain": [
       "array([[1, 34689.96, 202.93, 484.3, 34205.66, 0.0702, 'Toyota Sienna'],\n",
       "       [2, 34205.66, 200.1, 487.13, 33718.53, 0.0702, 'Toyota Sienna'],\n",
       "       [3, 33718.53, 197.25, 489.98, 33228.55, 0.0702, 'Toyota Sienna'],\n",
       "       [4, 33228.55, 194.38, 492.85, 32735.7, 0.0702, 'Toyota Sienna'],\n",
       "       [5, 32735.7, 191.5, 495.73, 32239.97, 0.0702, 'Toyota Sienna'],\n",
       "       [6, 32239.97, 188.6, 498.63, 31741.34, 0.0702, 'Toyota Sienna'],\n",
       "       [7, 31741.34, 185.68, 501.55, 31239.79, 0.0702, 'Toyota Sienna'],\n",
       "       [8, 31239.79, 182.75, 504.48, 30735.31, 0.0702, 'Toyota Sienna'],\n",
       "       [9, 30735.31, 179.8, 507.43, 30227.88, 0.0702, 'Toyota Sienna'],\n",
       "       [10, 30227.88, 176.83, 510.4, 29717.48, 0.0702, 'Toyota Sienna'],\n",
       "       [11, 29717.48, 173.84, 513.39, 29204.09, 0.0702, 'Toyota Sienna'],\n",
       "       [12, 29204.09, 170.84, 516.39, 28687.7, 0.0702, 'Toyota Sienna'],\n",
       "       [13, 28687.7, 167.82, 519.41, 28168.29, 0.0702, 'Toyota Sienna'],\n",
       "       [14, 28168.29, 164.78, 522.45, 27645.84, 0.0702, 'Toyota Sienna'],\n",
       "       [15, 27645.84, 161.72, 525.51, 27120.33, 0.0702, 'Toyota Sienna'],\n",
       "       [16, 27120.33, 158.65, 528.58, 26591.75, 0.0702, 'Toyota Sienna'],\n",
       "       [17, 26591.75, 155.56, 531.67, 26060.08, 0.0702, 'Toyota Sienna'],\n",
       "       [18, 26060.08, 152.45, 534.78, 25525.3, 0.0702, 'Toyota Sienna'],\n",
       "       [19, 25525.3, 149.32, 537.91, 24987.39, 0.0702, 'Toyota Sienna'],\n",
       "       [20, 24987.39, 146.17, 541.06, 24446.33, 0.0702, 'Toyota Sienna'],\n",
       "       [21, 24446.33, 143.01, 544.22, 23902.11, 0.0702, 'Toyota Sienna'],\n",
       "       [22, 23902.11, 139.82, 547.41, 23354.7, 0.0702, 'Toyota Sienna'],\n",
       "       [23, 23354.7, 136.62, 550.61, 22804.09, 0.0702, 'Toyota Sienna'],\n",
       "       [24, 22804.09, 133.4, 553.83, 22250.26, 0.0702, 'Toyota Sienna'],\n",
       "       [25, 22250.26, 130.16, 557.07, 21693.19, 0.0702, 'Toyota Sienna'],\n",
       "       [26, 21693.19, 126.9, 560.33, 21132.86, 0.0702, 'Toyota Sienna'],\n",
       "       [27, 21132.86, 123.62, 563.61, 20569.25, 0.0702, 'Toyota Sienna'],\n",
       "       [28, 20569.25, 120.33, 566.9, 20002.35, 0.0702, 'Toyota Sienna'],\n",
       "       [29, 20002.35, 117.01, 570.22, 19432.13, 0.0702, 'Toyota Sienna'],\n",
       "       [30, 19432.13, 113.67, 573.56, 18858.57, 0.0702, 'Toyota Sienna'],\n",
       "       [31, 18858.57, 110.32, 576.91, 18281.66, 0.0702, 'Toyota Sienna'],\n",
       "       [32, 18281.66, 106.94, 580.29, 17701.37, 0.0702, 'Toyota Sienna'],\n",
       "       [33, 17701.37, 103.55, 583.68, 17117.69, 0.0702, 'Toyota Sienna'],\n",
       "       [34, 17117.69, 100.13, 587.1, 16530.59, 0.0702, 'Toyota Sienna'],\n",
       "       [35, 16530.59, 96.7, 590.53, 15940.06, 0.0702, 'Toyota Sienna'],\n",
       "       [36, 15940.06, 93.24, 593.99, 15346.07, 0.0702, 'Toyota Sienna'],\n",
       "       [37, 15346.07, 89.77, 597.46, 14748.61, 0.0702, 'Toyota Sienna'],\n",
       "       [38, 14748.61, 86.27, 600.96, 14147.65, 0.0702, 'Toyota Sienna'],\n",
       "       [39, 14147.65, 82.76, 604.47, 13543.18, 0.0702, 'Toyota Sienna'],\n",
       "       [40, 13543.18, 79.22, 608.01, 12935.17, 0.0702, 'Toyota Sienna'],\n",
       "       [41, 12935.17, 75.67, 611.56, 12323.61, 0.0702, 'Toyota Sienna'],\n",
       "       [42, 12323.61, 72.09, 615.14, 11708.47, 0.0702, 'Toyota Sienna'],\n",
       "       [43, 11708.47, 68.49, 618.74, 11089.73, 0.0702, 'Toyota Sienna'],\n",
       "       [44, 11089.73, 64.87, 622.36, 10467.37, 0.0702, 'Toyota Sienna'],\n",
       "       [45, 10467.37, 61.23, 626.0, 9841.37, 0.0702, 'Toyota Sienna'],\n",
       "       [46, 9841.37, 57.57, 629.66, 9211.71, 0.0702, 'Toyota Sienna'],\n",
       "       [47, 9211.71, 53.88, 633.35, 8578.36, 0.0702, 'Toyota Sienna'],\n",
       "       [48, 8578.36, 50.18, 637.05, 7941.31, 0.0702, 'Toyota Sienna'],\n",
       "       [49, 7941.31, 46.45, 640.78, 7300.53, 0.0702, 'Toyota Sienna'],\n",
       "       [50, 7300.53, 42.7, 644.53, 6656.0, 0.0702, 'Toyota Sienna'],\n",
       "       [51, 6656.0, 38.93, 648.3, 6007.7, 0.0702, 'Toyota Sienna'],\n",
       "       [52, 6007.7, 35.14, 652.09, 5355.61, 0.0702, 'Toyota Sienna'],\n",
       "       [53, 5355.61, 31.33, 655.9, 4699.71, 0.0702, 'Toyota Sienna'],\n",
       "       [54, 4699.71, 27.49, 659.74, 4039.97, 0.0702, 'Toyota Sienna'],\n",
       "       [55, 4039.97, 23.63, 663.6, 3376.37, 0.0702, 'Toyota Sienna'],\n",
       "       [56, 3376.37, 19.75, 667.48, 2708.89, 0.0702, 'Toyota Sienna'],\n",
       "       [57, 2708.89, 15.84, 671.39, 2037.5, 0.0702, 'Toyota Sienna'],\n",
       "       [58, 2037.5, 11.91, 675.32, 1362.18, 0.0702, 'Toyota Sienna'],\n",
       "       [59, 1362.18, 7.96, 679.27, 682.91, 0.0702, 'Toyota Sienna'],\n",
       "       [60, 682.91, 3.99, 683.24, -0.33, 0.0702, 'Toyota Sienna']],\n",
       "      dtype=object)"
      ]
     },
     "execution_count": 223,
     "metadata": {},
     "output_type": "execute_result"
    }
   ],
   "source": [
    "# Approach 2\n",
    "df.values"
   ]
  },
  {
   "cell_type": "markdown",
   "metadata": {},
   "source": [
    "### Convert Pandas DataFrames to Dictionaries"
   ]
  },
  {
   "cell_type": "code",
   "execution_count": 224,
   "metadata": {},
   "outputs": [
    {
     "data": {
      "text/plain": [
       "{'month': {0: 1,\n",
       "  1: 2,\n",
       "  2: 3,\n",
       "  3: 4,\n",
       "  4: 5,\n",
       "  5: 6,\n",
       "  6: 7,\n",
       "  7: 8,\n",
       "  8: 9,\n",
       "  9: 10,\n",
       "  10: 11,\n",
       "  11: 12,\n",
       "  12: 13,\n",
       "  13: 14,\n",
       "  14: 15,\n",
       "  15: 16,\n",
       "  16: 17,\n",
       "  17: 18,\n",
       "  18: 19,\n",
       "  19: 20,\n",
       "  20: 21,\n",
       "  21: 22,\n",
       "  22: 23,\n",
       "  23: 24,\n",
       "  24: 25,\n",
       "  25: 26,\n",
       "  26: 27,\n",
       "  27: 28,\n",
       "  28: 29,\n",
       "  29: 30,\n",
       "  30: 31,\n",
       "  31: 32,\n",
       "  32: 33,\n",
       "  33: 34,\n",
       "  34: 35,\n",
       "  35: 36,\n",
       "  36: 37,\n",
       "  37: 38,\n",
       "  38: 39,\n",
       "  39: 40,\n",
       "  40: 41,\n",
       "  41: 42,\n",
       "  42: 43,\n",
       "  43: 44,\n",
       "  44: 45,\n",
       "  45: 46,\n",
       "  46: 47,\n",
       "  47: 48,\n",
       "  48: 49,\n",
       "  49: 50,\n",
       "  50: 51,\n",
       "  51: 52,\n",
       "  52: 53,\n",
       "  53: 54,\n",
       "  54: 55,\n",
       "  55: 56,\n",
       "  56: 57,\n",
       "  57: 58,\n",
       "  58: 59,\n",
       "  59: 60},\n",
       " 'starting_balance': {0: 34689.96,\n",
       "  1: 34205.66,\n",
       "  2: 33718.53,\n",
       "  3: 33228.55,\n",
       "  4: 32735.7,\n",
       "  5: 32239.97,\n",
       "  6: 31741.34,\n",
       "  7: 31239.79,\n",
       "  8: 30735.31,\n",
       "  9: 30227.88,\n",
       "  10: 29717.48,\n",
       "  11: 29204.09,\n",
       "  12: 28687.7,\n",
       "  13: 28168.29,\n",
       "  14: 27645.84,\n",
       "  15: 27120.33,\n",
       "  16: 26591.75,\n",
       "  17: 26060.08,\n",
       "  18: 25525.3,\n",
       "  19: 24987.39,\n",
       "  20: 24446.33,\n",
       "  21: 23902.11,\n",
       "  22: 23354.7,\n",
       "  23: 22804.09,\n",
       "  24: 22250.26,\n",
       "  25: 21693.19,\n",
       "  26: 21132.86,\n",
       "  27: 20569.25,\n",
       "  28: 20002.35,\n",
       "  29: 19432.13,\n",
       "  30: 18858.57,\n",
       "  31: 18281.66,\n",
       "  32: 17701.37,\n",
       "  33: 17117.69,\n",
       "  34: 16530.59,\n",
       "  35: 15940.06,\n",
       "  36: 15346.07,\n",
       "  37: 14748.61,\n",
       "  38: 14147.65,\n",
       "  39: 13543.18,\n",
       "  40: 12935.17,\n",
       "  41: 12323.61,\n",
       "  42: 11708.47,\n",
       "  43: 11089.73,\n",
       "  44: 10467.37,\n",
       "  45: 9841.37,\n",
       "  46: 9211.71,\n",
       "  47: 8578.36,\n",
       "  48: 7941.31,\n",
       "  49: 7300.53,\n",
       "  50: 6656.0,\n",
       "  51: 6007.7,\n",
       "  52: 5355.61,\n",
       "  53: 4699.71,\n",
       "  54: 4039.97,\n",
       "  55: 3376.37,\n",
       "  56: 2708.89,\n",
       "  57: 2037.5,\n",
       "  58: 1362.18,\n",
       "  59: 682.91},\n",
       " 'interest_paid': {0: 202.93,\n",
       "  1: 200.1,\n",
       "  2: 197.25,\n",
       "  3: 194.38,\n",
       "  4: 191.5,\n",
       "  5: 188.6,\n",
       "  6: 185.68,\n",
       "  7: 182.75,\n",
       "  8: 179.8,\n",
       "  9: 176.83,\n",
       "  10: 173.84,\n",
       "  11: 170.84,\n",
       "  12: 167.82,\n",
       "  13: 164.78,\n",
       "  14: 161.72,\n",
       "  15: 158.65,\n",
       "  16: 155.56,\n",
       "  17: 152.45,\n",
       "  18: 149.32,\n",
       "  19: 146.17,\n",
       "  20: 143.01,\n",
       "  21: 139.82,\n",
       "  22: 136.62,\n",
       "  23: 133.4,\n",
       "  24: 130.16,\n",
       "  25: 126.9,\n",
       "  26: 123.62,\n",
       "  27: 120.33,\n",
       "  28: 117.01,\n",
       "  29: 113.67,\n",
       "  30: 110.32,\n",
       "  31: 106.94,\n",
       "  32: 103.55,\n",
       "  33: 100.13,\n",
       "  34: 96.7,\n",
       "  35: 93.24,\n",
       "  36: 89.77,\n",
       "  37: 86.27,\n",
       "  38: 82.76,\n",
       "  39: 79.22,\n",
       "  40: 75.67,\n",
       "  41: 72.09,\n",
       "  42: 68.49,\n",
       "  43: 64.87,\n",
       "  44: 61.23,\n",
       "  45: 57.57,\n",
       "  46: 53.88,\n",
       "  47: 50.18,\n",
       "  48: 46.45,\n",
       "  49: 42.7,\n",
       "  50: 38.93,\n",
       "  51: 35.14,\n",
       "  52: 31.33,\n",
       "  53: 27.49,\n",
       "  54: 23.63,\n",
       "  55: 19.75,\n",
       "  56: 15.84,\n",
       "  57: 11.91,\n",
       "  58: 7.96,\n",
       "  59: 3.99},\n",
       " 'principal_paid': {0: 484.3,\n",
       "  1: 487.13,\n",
       "  2: 489.98,\n",
       "  3: 492.85,\n",
       "  4: 495.73,\n",
       "  5: 498.63,\n",
       "  6: 501.55,\n",
       "  7: 504.48,\n",
       "  8: 507.43,\n",
       "  9: 510.4,\n",
       "  10: 513.39,\n",
       "  11: 516.39,\n",
       "  12: 519.41,\n",
       "  13: 522.45,\n",
       "  14: 525.51,\n",
       "  15: 528.58,\n",
       "  16: 531.67,\n",
       "  17: 534.78,\n",
       "  18: 537.91,\n",
       "  19: 541.06,\n",
       "  20: 544.22,\n",
       "  21: 547.41,\n",
       "  22: 550.61,\n",
       "  23: 553.83,\n",
       "  24: 557.07,\n",
       "  25: 560.33,\n",
       "  26: 563.61,\n",
       "  27: 566.9,\n",
       "  28: 570.22,\n",
       "  29: 573.56,\n",
       "  30: 576.91,\n",
       "  31: 580.29,\n",
       "  32: 583.68,\n",
       "  33: 587.1,\n",
       "  34: 590.53,\n",
       "  35: 593.99,\n",
       "  36: 597.46,\n",
       "  37: 600.96,\n",
       "  38: 604.47,\n",
       "  39: 608.01,\n",
       "  40: 611.56,\n",
       "  41: 615.14,\n",
       "  42: 618.74,\n",
       "  43: 622.36,\n",
       "  44: 626.0,\n",
       "  45: 629.66,\n",
       "  46: 633.35,\n",
       "  47: 637.05,\n",
       "  48: 640.78,\n",
       "  49: 644.53,\n",
       "  50: 648.3,\n",
       "  51: 652.09,\n",
       "  52: 655.9,\n",
       "  53: 659.74,\n",
       "  54: 663.6,\n",
       "  55: 667.48,\n",
       "  56: 671.39,\n",
       "  57: 675.32,\n",
       "  58: 679.27,\n",
       "  59: 683.24},\n",
       " 'new_balance': {0: 34205.66,\n",
       "  1: 33718.53,\n",
       "  2: 33228.55,\n",
       "  3: 32735.7,\n",
       "  4: 32239.97,\n",
       "  5: 31741.34,\n",
       "  6: 31239.79,\n",
       "  7: 30735.31,\n",
       "  8: 30227.88,\n",
       "  9: 29717.48,\n",
       "  10: 29204.09,\n",
       "  11: 28687.7,\n",
       "  12: 28168.29,\n",
       "  13: 27645.84,\n",
       "  14: 27120.33,\n",
       "  15: 26591.75,\n",
       "  16: 26060.08,\n",
       "  17: 25525.3,\n",
       "  18: 24987.39,\n",
       "  19: 24446.33,\n",
       "  20: 23902.11,\n",
       "  21: 23354.7,\n",
       "  22: 22804.09,\n",
       "  23: 22250.26,\n",
       "  24: 21693.19,\n",
       "  25: 21132.86,\n",
       "  26: 20569.25,\n",
       "  27: 20002.35,\n",
       "  28: 19432.13,\n",
       "  29: 18858.57,\n",
       "  30: 18281.66,\n",
       "  31: 17701.37,\n",
       "  32: 17117.69,\n",
       "  33: 16530.59,\n",
       "  34: 15940.06,\n",
       "  35: 15346.07,\n",
       "  36: 14748.61,\n",
       "  37: 14147.65,\n",
       "  38: 13543.18,\n",
       "  39: 12935.17,\n",
       "  40: 12323.61,\n",
       "  41: 11708.47,\n",
       "  42: 11089.73,\n",
       "  43: 10467.37,\n",
       "  44: 9841.37,\n",
       "  45: 9211.71,\n",
       "  46: 8578.36,\n",
       "  47: 7941.31,\n",
       "  48: 7300.53,\n",
       "  49: 6656.0,\n",
       "  50: 6007.7,\n",
       "  51: 5355.61,\n",
       "  52: 4699.71,\n",
       "  53: 4039.97,\n",
       "  54: 3376.37,\n",
       "  55: 2708.89,\n",
       "  56: 2037.5,\n",
       "  57: 1362.18,\n",
       "  58: 682.91,\n",
       "  59: -0.33},\n",
       " 'interest_rate': {0: 0.0702,\n",
       "  1: 0.0702,\n",
       "  2: 0.0702,\n",
       "  3: 0.0702,\n",
       "  4: 0.0702,\n",
       "  5: 0.0702,\n",
       "  6: 0.0702,\n",
       "  7: 0.0702,\n",
       "  8: 0.0702,\n",
       "  9: 0.0702,\n",
       "  10: 0.0702,\n",
       "  11: 0.0702,\n",
       "  12: 0.0702,\n",
       "  13: 0.0702,\n",
       "  14: 0.0702,\n",
       "  15: 0.0702,\n",
       "  16: 0.0702,\n",
       "  17: 0.0702,\n",
       "  18: 0.0702,\n",
       "  19: 0.0702,\n",
       "  20: 0.0702,\n",
       "  21: 0.0702,\n",
       "  22: 0.0702,\n",
       "  23: 0.0702,\n",
       "  24: 0.0702,\n",
       "  25: 0.0702,\n",
       "  26: 0.0702,\n",
       "  27: 0.0702,\n",
       "  28: 0.0702,\n",
       "  29: 0.0702,\n",
       "  30: 0.0702,\n",
       "  31: 0.0702,\n",
       "  32: 0.0702,\n",
       "  33: 0.0702,\n",
       "  34: 0.0702,\n",
       "  35: 0.0702,\n",
       "  36: 0.0702,\n",
       "  37: 0.0702,\n",
       "  38: 0.0702,\n",
       "  39: 0.0702,\n",
       "  40: 0.0702,\n",
       "  41: 0.0702,\n",
       "  42: 0.0702,\n",
       "  43: 0.0702,\n",
       "  44: 0.0702,\n",
       "  45: 0.0702,\n",
       "  46: 0.0702,\n",
       "  47: 0.0702,\n",
       "  48: 0.0702,\n",
       "  49: 0.0702,\n",
       "  50: 0.0702,\n",
       "  51: 0.0702,\n",
       "  52: 0.0702,\n",
       "  53: 0.0702,\n",
       "  54: 0.0702,\n",
       "  55: 0.0702,\n",
       "  56: 0.0702,\n",
       "  57: 0.0702,\n",
       "  58: 0.0702,\n",
       "  59: 0.0702},\n",
       " 'car_type': {0: 'Toyota Sienna',\n",
       "  1: 'Toyota Sienna',\n",
       "  2: 'Toyota Sienna',\n",
       "  3: 'Toyota Sienna',\n",
       "  4: 'Toyota Sienna',\n",
       "  5: 'Toyota Sienna',\n",
       "  6: 'Toyota Sienna',\n",
       "  7: 'Toyota Sienna',\n",
       "  8: 'Toyota Sienna',\n",
       "  9: 'Toyota Sienna',\n",
       "  10: 'Toyota Sienna',\n",
       "  11: 'Toyota Sienna',\n",
       "  12: 'Toyota Sienna',\n",
       "  13: 'Toyota Sienna',\n",
       "  14: 'Toyota Sienna',\n",
       "  15: 'Toyota Sienna',\n",
       "  16: 'Toyota Sienna',\n",
       "  17: 'Toyota Sienna',\n",
       "  18: 'Toyota Sienna',\n",
       "  19: 'Toyota Sienna',\n",
       "  20: 'Toyota Sienna',\n",
       "  21: 'Toyota Sienna',\n",
       "  22: 'Toyota Sienna',\n",
       "  23: 'Toyota Sienna',\n",
       "  24: 'Toyota Sienna',\n",
       "  25: 'Toyota Sienna',\n",
       "  26: 'Toyota Sienna',\n",
       "  27: 'Toyota Sienna',\n",
       "  28: 'Toyota Sienna',\n",
       "  29: 'Toyota Sienna',\n",
       "  30: 'Toyota Sienna',\n",
       "  31: 'Toyota Sienna',\n",
       "  32: 'Toyota Sienna',\n",
       "  33: 'Toyota Sienna',\n",
       "  34: 'Toyota Sienna',\n",
       "  35: 'Toyota Sienna',\n",
       "  36: 'Toyota Sienna',\n",
       "  37: 'Toyota Sienna',\n",
       "  38: 'Toyota Sienna',\n",
       "  39: 'Toyota Sienna',\n",
       "  40: 'Toyota Sienna',\n",
       "  41: 'Toyota Sienna',\n",
       "  42: 'Toyota Sienna',\n",
       "  43: 'Toyota Sienna',\n",
       "  44: 'Toyota Sienna',\n",
       "  45: 'Toyota Sienna',\n",
       "  46: 'Toyota Sienna',\n",
       "  47: 'Toyota Sienna',\n",
       "  48: 'Toyota Sienna',\n",
       "  49: 'Toyota Sienna',\n",
       "  50: 'Toyota Sienna',\n",
       "  51: 'Toyota Sienna',\n",
       "  52: 'Toyota Sienna',\n",
       "  53: 'Toyota Sienna',\n",
       "  54: 'Toyota Sienna',\n",
       "  55: 'Toyota Sienna',\n",
       "  56: 'Toyota Sienna',\n",
       "  57: 'Toyota Sienna',\n",
       "  58: 'Toyota Sienna',\n",
       "  59: 'Toyota Sienna'}}"
      ]
     },
     "execution_count": 224,
     "metadata": {},
     "output_type": "execute_result"
    }
   ],
   "source": [
    "df.to_dict()"
   ]
  },
  {
   "cell_type": "code",
   "execution_count": 225,
   "metadata": {},
   "outputs": [],
   "source": [
    "# Export DataFrame to csv File\n",
    "df.to_csv(path_or_buf='data/table_i702t60.csv',\n",
    "          index = False)"
   ]
  },
  {
   "cell_type": "code",
   "execution_count": 226,
   "metadata": {},
   "outputs": [],
   "source": [
    "# Export DataFrame to excel File\n",
    "df.to_excel(excel_writer='data/table_i702t60.xlsx',\n",
    "            index=False)"
   ]
  },
  {
   "cell_type": "code",
   "execution_count": 227,
   "metadata": {},
   "outputs": [
    {
     "name": "stdout",
     "output_type": "stream",
     "text": [
      "Help on method to_csv in module pandas.core.generic:\n",
      "\n",
      "to_csv(path_or_buf: Union[str, pathlib.Path, IO[~AnyStr], NoneType] = None, sep: str = ',', na_rep: str = '', float_format: Union[str, NoneType] = None, columns: Union[Sequence[Union[Hashable, NoneType]], NoneType] = None, header: Union[bool, List[str]] = True, index: bool = True, index_label: Union[bool, str, Sequence[Union[Hashable, NoneType]], NoneType] = None, mode: str = 'w', encoding: Union[str, NoneType] = None, compression: Union[str, Mapping[str, str], NoneType] = 'infer', quoting: Union[int, NoneType] = None, quotechar: str = '\"', line_terminator: Union[str, NoneType] = None, chunksize: Union[int, NoneType] = None, date_format: Union[str, NoneType] = None, doublequote: bool = True, escapechar: Union[str, NoneType] = None, decimal: Union[str, NoneType] = '.', errors: str = 'strict') -> Union[str, NoneType] method of pandas.core.frame.DataFrame instance\n",
      "    Write object to a comma-separated values (csv) file.\n",
      "    \n",
      "    .. versionchanged:: 0.24.0\n",
      "        The order of arguments for Series was changed.\n",
      "    \n",
      "    Parameters\n",
      "    ----------\n",
      "    path_or_buf : str or file handle, default None\n",
      "        File path or object, if None is provided the result is returned as\n",
      "        a string.  If a file object is passed it should be opened with\n",
      "        `newline=''`, disabling universal newlines.\n",
      "    \n",
      "        .. versionchanged:: 0.24.0\n",
      "    \n",
      "           Was previously named \"path\" for Series.\n",
      "    \n",
      "    sep : str, default ','\n",
      "        String of length 1. Field delimiter for the output file.\n",
      "    na_rep : str, default ''\n",
      "        Missing data representation.\n",
      "    float_format : str, default None\n",
      "        Format string for floating point numbers.\n",
      "    columns : sequence, optional\n",
      "        Columns to write.\n",
      "    header : bool or list of str, default True\n",
      "        Write out the column names. If a list of strings is given it is\n",
      "        assumed to be aliases for the column names.\n",
      "    \n",
      "        .. versionchanged:: 0.24.0\n",
      "    \n",
      "           Previously defaulted to False for Series.\n",
      "    \n",
      "    index : bool, default True\n",
      "        Write row names (index).\n",
      "    index_label : str or sequence, or False, default None\n",
      "        Column label for index column(s) if desired. If None is given, and\n",
      "        `header` and `index` are True, then the index names are used. A\n",
      "        sequence should be given if the object uses MultiIndex. If\n",
      "        False do not print fields for index names. Use index_label=False\n",
      "        for easier importing in R.\n",
      "    mode : str\n",
      "        Python write mode, default 'w'.\n",
      "    encoding : str, optional\n",
      "        A string representing the encoding to use in the output file,\n",
      "        defaults to 'utf-8'.\n",
      "    compression : str or dict, default 'infer'\n",
      "        If str, represents compression mode. If dict, value at 'method' is\n",
      "        the compression mode. Compression mode may be any of the following\n",
      "        possible values: {'infer', 'gzip', 'bz2', 'zip', 'xz', None}. If\n",
      "        compression mode is 'infer' and `path_or_buf` is path-like, then\n",
      "        detect compression mode from the following extensions: '.gz',\n",
      "        '.bz2', '.zip' or '.xz'. (otherwise no compression). If dict given\n",
      "        and mode is one of {'zip', 'gzip', 'bz2'}, or inferred as\n",
      "        one of the above, other entries passed as\n",
      "        additional compression options.\n",
      "    \n",
      "        .. versionchanged:: 1.0.0\n",
      "    \n",
      "           May now be a dict with key 'method' as compression mode\n",
      "           and other entries as additional compression options if\n",
      "           compression mode is 'zip'.\n",
      "    \n",
      "        .. versionchanged:: 1.1.0\n",
      "    \n",
      "           Passing compression options as keys in dict is\n",
      "           supported for compression modes 'gzip' and 'bz2'\n",
      "           as well as 'zip'.\n",
      "    \n",
      "    quoting : optional constant from csv module\n",
      "        Defaults to csv.QUOTE_MINIMAL. If you have set a `float_format`\n",
      "        then floats are converted to strings and thus csv.QUOTE_NONNUMERIC\n",
      "        will treat them as non-numeric.\n",
      "    quotechar : str, default '\\\"'\n",
      "        String of length 1. Character used to quote fields.\n",
      "    line_terminator : str, optional\n",
      "        The newline character or character sequence to use in the output\n",
      "        file. Defaults to `os.linesep`, which depends on the OS in which\n",
      "        this method is called ('\\n' for linux, '\\r\\n' for Windows, i.e.).\n",
      "    \n",
      "        .. versionchanged:: 0.24.0\n",
      "    chunksize : int or None\n",
      "        Rows to write at a time.\n",
      "    date_format : str, default None\n",
      "        Format string for datetime objects.\n",
      "    doublequote : bool, default True\n",
      "        Control quoting of `quotechar` inside a field.\n",
      "    escapechar : str, default None\n",
      "        String of length 1. Character used to escape `sep` and `quotechar`\n",
      "        when appropriate.\n",
      "    decimal : str, default '.'\n",
      "        Character recognized as decimal separator. E.g. use ',' for\n",
      "        European data.\n",
      "    errors : str, default 'strict'\n",
      "        Specifies how encoding and decoding errors are to be handled.\n",
      "        See the errors argument for :func:`open` for a full list\n",
      "        of options.\n",
      "    \n",
      "        .. versionadded:: 1.1.0\n",
      "    \n",
      "    Returns\n",
      "    -------\n",
      "    None or str\n",
      "        If path_or_buf is None, returns the resulting csv format as a\n",
      "        string. Otherwise returns None.\n",
      "    \n",
      "    See Also\n",
      "    --------\n",
      "    read_csv : Load a CSV file into a DataFrame.\n",
      "    to_excel : Write DataFrame to an Excel file.\n",
      "    \n",
      "    Examples\n",
      "    --------\n",
      "    >>> df = pd.DataFrame({'name': ['Raphael', 'Donatello'],\n",
      "    ...                    'mask': ['red', 'purple'],\n",
      "    ...                    'weapon': ['sai', 'bo staff']})\n",
      "    >>> df.to_csv(index=False)\n",
      "    'name,mask,weapon\\nRaphael,red,sai\\nDonatello,purple,bo staff\\n'\n",
      "    \n",
      "    Create 'out.zip' containing 'out.csv'\n",
      "    \n",
      "    >>> compression_opts = dict(method='zip',\n",
      "    ...                         archive_name='out.csv')  # doctest: +SKIP\n",
      "    >>> df.to_csv('out.zip', index=False,\n",
      "    ...           compression=compression_opts)  # doctest: +SKIP\n",
      "\n"
     ]
    }
   ],
   "source": [
    "# Keep in mind that if you dont know a methods parameters,\n",
    "# you can look them up using the help command. \n",
    "help(df.to_csv)"
   ]
  },
  {
   "cell_type": "code",
   "execution_count": 228,
   "metadata": {},
   "outputs": [
    {
     "name": "stdout",
     "output_type": "stream",
     "text": [
      "Help on method sum in module pandas.core.series:\n",
      "\n",
      "sum(axis=None, skipna=None, level=None, numeric_only=None, min_count=0, **kwargs) method of pandas.core.series.Series instance\n",
      "    Return the sum of the values for the requested axis.\n",
      "    \n",
      "    This is equivalent to the method ``numpy.sum``.\n",
      "    \n",
      "    Parameters\n",
      "    ----------\n",
      "    axis : {index (0)}\n",
      "        Axis for the function to be applied on.\n",
      "    skipna : bool, default True\n",
      "        Exclude NA/null values when computing the result.\n",
      "    level : int or level name, default None\n",
      "        If the axis is a MultiIndex (hierarchical), count along a\n",
      "        particular level, collapsing into a scalar.\n",
      "    numeric_only : bool, default None\n",
      "        Include only float, int, boolean columns. If None, will attempt to use\n",
      "        everything, then use only numeric data. Not implemented for Series.\n",
      "    min_count : int, default 0\n",
      "        The required number of valid values to perform the operation. If fewer than\n",
      "        ``min_count`` non-NA values are present the result will be NA.\n",
      "    \n",
      "        .. versionadded:: 0.22.0\n",
      "    \n",
      "           Added with the default being 0. This means the sum of an all-NA\n",
      "           or empty Series is 0, and the product of an all-NA or empty\n",
      "           Series is 1.\n",
      "    **kwargs\n",
      "        Additional keyword arguments to be passed to the function.\n",
      "    \n",
      "    Returns\n",
      "    -------\n",
      "    scalar or Series (if level specified)\n",
      "    \n",
      "    See Also\n",
      "    --------\n",
      "    Series.sum : Return the sum.\n",
      "    Series.min : Return the minimum.\n",
      "    Series.max : Return the maximum.\n",
      "    Series.idxmin : Return the index of the minimum.\n",
      "    Series.idxmax : Return the index of the maximum.\n",
      "    DataFrame.sum : Return the sum over the requested axis.\n",
      "    DataFrame.min : Return the minimum over the requested axis.\n",
      "    DataFrame.max : Return the maximum over the requested axis.\n",
      "    DataFrame.idxmin : Return the index of the minimum over the requested axis.\n",
      "    DataFrame.idxmax : Return the index of the maximum over the requested axis.\n",
      "    \n",
      "    Examples\n",
      "    --------\n",
      "    >>> idx = pd.MultiIndex.from_arrays([\n",
      "    ...     ['warm', 'warm', 'cold', 'cold'],\n",
      "    ...     ['dog', 'falcon', 'fish', 'spider']],\n",
      "    ...     names=['blooded', 'animal'])\n",
      "    >>> s = pd.Series([4, 2, 0, 8], name='legs', index=idx)\n",
      "    >>> s\n",
      "    blooded  animal\n",
      "    warm     dog       4\n",
      "             falcon    2\n",
      "    cold     fish      0\n",
      "             spider    8\n",
      "    Name: legs, dtype: int64\n",
      "    \n",
      "    >>> s.sum()\n",
      "    14\n",
      "    \n",
      "    Sum using level names, as well as indices.\n",
      "    \n",
      "    >>> s.sum(level='blooded')\n",
      "    blooded\n",
      "    warm    6\n",
      "    cold    8\n",
      "    Name: legs, dtype: int64\n",
      "    \n",
      "    >>> s.sum(level=0)\n",
      "    blooded\n",
      "    warm    6\n",
      "    cold    8\n",
      "    Name: legs, dtype: int64\n",
      "    \n",
      "    By default, the sum of an empty or all-NA Series is ``0``.\n",
      "    \n",
      "    >>> pd.Series([]).sum()  # min_count=0 is the default\n",
      "    0.0\n",
      "    \n",
      "    This can be controlled with the ``min_count`` parameter. For example, if\n",
      "    you'd like the sum of an empty series to be NaN, pass ``min_count=1``.\n",
      "    \n",
      "    >>> pd.Series([]).sum(min_count=1)\n",
      "    nan\n",
      "    \n",
      "    Thanks to the ``skipna`` parameter, ``min_count`` handles all-NA and\n",
      "    empty series identically.\n",
      "    \n",
      "    >>> pd.Series([np.nan]).sum()\n",
      "    0.0\n",
      "    \n",
      "    >>> pd.Series([np.nan]).sum(min_count=1)\n",
      "    nan\n",
      "\n"
     ]
    }
   ],
   "source": [
    "# Notice that by default it seems like the sum function ignores missing values. \n",
    "help(df['interest_paid'].sum)"
   ]
  },
  {
   "cell_type": "code",
   "execution_count": 229,
   "metadata": {},
   "outputs": [
    {
     "data": {
      "text/html": [
       "<div>\n",
       "<style scoped>\n",
       "    .dataframe tbody tr th:only-of-type {\n",
       "        vertical-align: middle;\n",
       "    }\n",
       "\n",
       "    .dataframe tbody tr th {\n",
       "        vertical-align: top;\n",
       "    }\n",
       "\n",
       "    .dataframe thead th {\n",
       "        text-align: right;\n",
       "    }\n",
       "</style>\n",
       "<table border=\"1\" class=\"dataframe\">\n",
       "  <thead>\n",
       "    <tr style=\"text-align: right;\">\n",
       "      <th></th>\n",
       "      <th>Month</th>\n",
       "      <th>Starting Balance</th>\n",
       "      <th>Repayment</th>\n",
       "      <th>Interest Paid</th>\n",
       "      <th>Principal Paid</th>\n",
       "      <th>New Balance</th>\n",
       "      <th>term</th>\n",
       "      <th>interest_rate</th>\n",
       "      <th>car_type</th>\n",
       "    </tr>\n",
       "  </thead>\n",
       "  <tbody>\n",
       "    <tr>\n",
       "      <th>0</th>\n",
       "      <td>1</td>\n",
       "      <td>34689.96</td>\n",
       "      <td>687.23</td>\n",
       "      <td>202.93</td>\n",
       "      <td>484.30</td>\n",
       "      <td>34205.66</td>\n",
       "      <td>60</td>\n",
       "      <td>0.0702</td>\n",
       "      <td>Toyota Sienna</td>\n",
       "    </tr>\n",
       "    <tr>\n",
       "      <th>1</th>\n",
       "      <td>2</td>\n",
       "      <td>34205.66</td>\n",
       "      <td>687.23</td>\n",
       "      <td>200.10</td>\n",
       "      <td>487.13</td>\n",
       "      <td>33718.53</td>\n",
       "      <td>60</td>\n",
       "      <td>0.0702</td>\n",
       "      <td>Toyota Sienna</td>\n",
       "    </tr>\n",
       "    <tr>\n",
       "      <th>2</th>\n",
       "      <td>3</td>\n",
       "      <td>33718.53</td>\n",
       "      <td>687.23</td>\n",
       "      <td>197.25</td>\n",
       "      <td>489.98</td>\n",
       "      <td>33228.55</td>\n",
       "      <td>60</td>\n",
       "      <td>0.0702</td>\n",
       "      <td>Toyota Sienna</td>\n",
       "    </tr>\n",
       "    <tr>\n",
       "      <th>3</th>\n",
       "      <td>4</td>\n",
       "      <td>33228.55</td>\n",
       "      <td>687.23</td>\n",
       "      <td>194.38</td>\n",
       "      <td>492.85</td>\n",
       "      <td>32735.70</td>\n",
       "      <td>60</td>\n",
       "      <td>0.0702</td>\n",
       "      <td>Toyota Sienna</td>\n",
       "    </tr>\n",
       "    <tr>\n",
       "      <th>4</th>\n",
       "      <td>5</td>\n",
       "      <td>32735.70</td>\n",
       "      <td>687.23</td>\n",
       "      <td>191.50</td>\n",
       "      <td>495.73</td>\n",
       "      <td>32239.97</td>\n",
       "      <td>60</td>\n",
       "      <td>0.0702</td>\n",
       "      <td>Toyota Sienna</td>\n",
       "    </tr>\n",
       "  </tbody>\n",
       "</table>\n",
       "</div>"
      ],
      "text/plain": [
       "   Month  Starting Balance  Repayment  Interest Paid  Principal Paid  \\\n",
       "0      1          34689.96     687.23         202.93          484.30   \n",
       "1      2          34205.66     687.23         200.10          487.13   \n",
       "2      3          33718.53     687.23         197.25          489.98   \n",
       "3      4          33228.55     687.23         194.38          492.85   \n",
       "4      5          32735.70     687.23         191.50          495.73   \n",
       "\n",
       "   New Balance  term  interest_rate       car_type  \n",
       "0     34205.66    60         0.0702  Toyota Sienna  \n",
       "1     33718.53    60         0.0702  Toyota Sienna  \n",
       "2     33228.55    60         0.0702  Toyota Sienna  \n",
       "3     32735.70    60         0.0702  Toyota Sienna  \n",
       "4     32239.97    60         0.0702  Toyota Sienna  "
      ]
     },
     "execution_count": 229,
     "metadata": {},
     "output_type": "execute_result"
    }
   ],
   "source": [
    "# Creating Data/ Approach List\n",
    "carLoans = [[1, 34689.96, 687.23, 202.93, 484.3, 34205.66, 60, 0.0702,'Toyota Sienna'],\n",
    "           [2, 34205.66, 687.23, 200.1, 487.13, 33718.53, 60, 0.0702,'Toyota Sienna'],\n",
    "           [3, 33718.53, 687.23, 197.25, 489.98, 33228.55, 60, 0.0702,'Toyota Sienna'],\n",
    "           [4, 33228.55, 687.23, 194.38, 492.85, 32735.7, 60, 0.0702,'Toyota Sienna'],\n",
    "           [5, 32735.7, 687.23, 191.5, 495.73, 32239.97, 60, 0.0702,'Toyota Sienna']]\n",
    "\n",
    "colNames = ['Month',\n",
    "            'Starting Balance',\n",
    "            'Repayment',\n",
    "            'Interest Paid',\n",
    "            'Principal Paid',\n",
    "            'New Balance',\n",
    "            'term',\n",
    "            'interest_rate',\n",
    "            'car_type']\n",
    "\n",
    "df3 = pd.DataFrame(data = carLoans, columns=colNames)\n",
    "df3"
   ]
  },
  {
   "cell_type": "code",
   "execution_count": 230,
   "metadata": {},
   "outputs": [
    {
     "data": {
      "text/html": [
       "<div>\n",
       "<style scoped>\n",
       "    .dataframe tbody tr th:only-of-type {\n",
       "        vertical-align: middle;\n",
       "    }\n",
       "\n",
       "    .dataframe tbody tr th {\n",
       "        vertical-align: top;\n",
       "    }\n",
       "\n",
       "    .dataframe thead th {\n",
       "        text-align: right;\n",
       "    }\n",
       "</style>\n",
       "<table border=\"1\" class=\"dataframe\">\n",
       "  <thead>\n",
       "    <tr style=\"text-align: right;\">\n",
       "      <th></th>\n",
       "      <th>Month</th>\n",
       "      <th>Starting Balance</th>\n",
       "      <th>Repayment</th>\n",
       "      <th>Interest Paid</th>\n",
       "      <th>Principal Paid</th>\n",
       "      <th>New Balance</th>\n",
       "      <th>term</th>\n",
       "      <th>interest_rate</th>\n",
       "      <th>car_type</th>\n",
       "    </tr>\n",
       "  </thead>\n",
       "  <tbody>\n",
       "    <tr>\n",
       "      <th>0</th>\n",
       "      <td>1</td>\n",
       "      <td>34689.96</td>\n",
       "      <td>687.23</td>\n",
       "      <td>202.93</td>\n",
       "      <td>484.3</td>\n",
       "      <td>34205.66</td>\n",
       "      <td>60</td>\n",
       "      <td>0.0702</td>\n",
       "      <td>Toyota Sienna</td>\n",
       "    </tr>\n",
       "    <tr>\n",
       "      <th>1</th>\n",
       "      <td>2</td>\n",
       "      <td>34205.66</td>\n",
       "      <td>687.23</td>\n",
       "      <td>200.1</td>\n",
       "      <td>487.13</td>\n",
       "      <td>33718.53</td>\n",
       "      <td>60</td>\n",
       "      <td>0.0702</td>\n",
       "      <td>Toyota Sienna</td>\n",
       "    </tr>\n",
       "    <tr>\n",
       "      <th>2</th>\n",
       "      <td>3</td>\n",
       "      <td>33718.53</td>\n",
       "      <td>687.23</td>\n",
       "      <td>197.25</td>\n",
       "      <td>489.98</td>\n",
       "      <td>33228.55</td>\n",
       "      <td>60</td>\n",
       "      <td>0.0702</td>\n",
       "      <td>Toyota Sienna</td>\n",
       "    </tr>\n",
       "    <tr>\n",
       "      <th>3</th>\n",
       "      <td>4</td>\n",
       "      <td>33228.55</td>\n",
       "      <td>687.23</td>\n",
       "      <td>194.38</td>\n",
       "      <td>492.85</td>\n",
       "      <td>32735.7</td>\n",
       "      <td>60</td>\n",
       "      <td>0.0702</td>\n",
       "      <td>Toyota Sienna</td>\n",
       "    </tr>\n",
       "    <tr>\n",
       "      <th>4</th>\n",
       "      <td>5</td>\n",
       "      <td>32735.7</td>\n",
       "      <td>687.23</td>\n",
       "      <td>191.5</td>\n",
       "      <td>495.73</td>\n",
       "      <td>32239.97</td>\n",
       "      <td>60</td>\n",
       "      <td>0.0702</td>\n",
       "      <td>Toyota Sienna</td>\n",
       "    </tr>\n",
       "  </tbody>\n",
       "</table>\n",
       "</div>"
      ],
      "text/plain": [
       "  Month Starting Balance Repayment Interest Paid Principal Paid New Balance  \\\n",
       "0     1         34689.96    687.23        202.93          484.3    34205.66   \n",
       "1     2         34205.66    687.23         200.1         487.13    33718.53   \n",
       "2     3         33718.53    687.23        197.25         489.98    33228.55   \n",
       "3     4         33228.55    687.23        194.38         492.85     32735.7   \n",
       "4     5          32735.7    687.23         191.5         495.73    32239.97   \n",
       "\n",
       "  term interest_rate       car_type  \n",
       "0   60        0.0702  Toyota Sienna  \n",
       "1   60        0.0702  Toyota Sienna  \n",
       "2   60        0.0702  Toyota Sienna  \n",
       "3   60        0.0702  Toyota Sienna  \n",
       "4   60        0.0702  Toyota Sienna  "
      ]
     },
     "execution_count": 230,
     "metadata": {},
     "output_type": "execute_result"
    }
   ],
   "source": [
    "# Creating Data/Approach 2 NumPy Array\n",
    "carLoans = np.array([\n",
    "                  [1, 34689.96, 687.23, 202.93, 484.3, 34205.66, 60, 0.0702,'Toyota Sienna'],\n",
    "                  [2, 34205.66, 687.23, 200.1, 487.13, 33718.53, 60, 0.0702,'Toyota Sienna'],\n",
    "                  [3, 33718.53, 687.23, 197.25, 489.98, 33228.55, 60, 0.0702,'Toyota Sienna'],\n",
    "                  [4, 33228.55, 687.23, 194.38, 492.85, 32735.7, 60, 0.0702,'Toyota Sienna'],\n",
    "                  [5, 32735.7, 687.23, 191.5, 495.73, 32239.97, 60, 0.0702,'Toyota Sienna']\n",
    "                 ])\n",
    "   \n",
    "colNames = ['Month',\n",
    "            'Starting Balance',\n",
    "            'Repayment',\n",
    "            'Interest Paid',\n",
    "            'Principal Paid',\n",
    "            'New Balance',\n",
    "            'term',\n",
    "            'interest_rate',\n",
    "            'car_type']\n",
    "\n",
    "df4 = pd.DataFrame(data = carLoans, columns=colNames)\n",
    "df4"
   ]
  },
  {
   "cell_type": "code",
   "execution_count": 231,
   "metadata": {},
   "outputs": [
    {
     "data": {
      "text/html": [
       "<div>\n",
       "<style scoped>\n",
       "    .dataframe tbody tr th:only-of-type {\n",
       "        vertical-align: middle;\n",
       "    }\n",
       "\n",
       "    .dataframe tbody tr th {\n",
       "        vertical-align: top;\n",
       "    }\n",
       "\n",
       "    .dataframe thead th {\n",
       "        text-align: right;\n",
       "    }\n",
       "</style>\n",
       "<table border=\"1\" class=\"dataframe\">\n",
       "  <thead>\n",
       "    <tr style=\"text-align: right;\">\n",
       "      <th></th>\n",
       "      <th>Month</th>\n",
       "      <th>Starting Balance</th>\n",
       "      <th>Repayment</th>\n",
       "      <th>Interest Paid</th>\n",
       "      <th>Principal Paid</th>\n",
       "      <th>New Balance</th>\n",
       "      <th>term</th>\n",
       "      <th>interest_rate</th>\n",
       "      <th>car_type</th>\n",
       "    </tr>\n",
       "  </thead>\n",
       "  <tbody>\n",
       "    <tr>\n",
       "      <th>0</th>\n",
       "      <td>1</td>\n",
       "      <td>34689.96</td>\n",
       "      <td>687.23</td>\n",
       "      <td>202.93</td>\n",
       "      <td>484.30</td>\n",
       "      <td>34205.66</td>\n",
       "      <td>60</td>\n",
       "      <td>0.0702</td>\n",
       "      <td>Toyota Sienna</td>\n",
       "    </tr>\n",
       "    <tr>\n",
       "      <th>1</th>\n",
       "      <td>2</td>\n",
       "      <td>34205.66</td>\n",
       "      <td>687.23</td>\n",
       "      <td>200.10</td>\n",
       "      <td>487.13</td>\n",
       "      <td>33718.53</td>\n",
       "      <td>60</td>\n",
       "      <td>0.0702</td>\n",
       "      <td>Toyota Sienna</td>\n",
       "    </tr>\n",
       "    <tr>\n",
       "      <th>2</th>\n",
       "      <td>3</td>\n",
       "      <td>33718.53</td>\n",
       "      <td>687.23</td>\n",
       "      <td>197.25</td>\n",
       "      <td>489.98</td>\n",
       "      <td>33228.55</td>\n",
       "      <td>60</td>\n",
       "      <td>0.0702</td>\n",
       "      <td>Toyota Sienna</td>\n",
       "    </tr>\n",
       "    <tr>\n",
       "      <th>3</th>\n",
       "      <td>4</td>\n",
       "      <td>33228.55</td>\n",
       "      <td>687.23</td>\n",
       "      <td>194.38</td>\n",
       "      <td>492.85</td>\n",
       "      <td>32735.70</td>\n",
       "      <td>60</td>\n",
       "      <td>0.0702</td>\n",
       "      <td>Toyota Sienna</td>\n",
       "    </tr>\n",
       "    <tr>\n",
       "      <th>4</th>\n",
       "      <td>5</td>\n",
       "      <td>32735.70</td>\n",
       "      <td>687.23</td>\n",
       "      <td>191.50</td>\n",
       "      <td>495.73</td>\n",
       "      <td>32239.97</td>\n",
       "      <td>60</td>\n",
       "      <td>0.0702</td>\n",
       "      <td>Toyota Sienna</td>\n",
       "    </tr>\n",
       "  </tbody>\n",
       "</table>\n",
       "</div>"
      ],
      "text/plain": [
       "   Month  Starting Balance  Repayment  Interest Paid  Principal Paid  \\\n",
       "0      1          34689.96     687.23         202.93          484.30   \n",
       "1      2          34205.66     687.23         200.10          487.13   \n",
       "2      3          33718.53     687.23         197.25          489.98   \n",
       "3      4          33228.55     687.23         194.38          492.85   \n",
       "4      5          32735.70     687.23         191.50          495.73   \n",
       "\n",
       "   New Balance  term  interest_rate       car_type  \n",
       "0     34205.66    60         0.0702  Toyota Sienna  \n",
       "1     33718.53    60         0.0702  Toyota Sienna  \n",
       "2     33228.55    60         0.0702  Toyota Sienna  \n",
       "3     32735.70    60         0.0702  Toyota Sienna  \n",
       "4     32239.97    60         0.0702  Toyota Sienna  "
      ]
     },
     "execution_count": 231,
     "metadata": {},
     "output_type": "execute_result"
    }
   ],
   "source": [
    "# Approach 3 Python Dictionary\n",
    "carLoans = {'Month': {0: 1, 1: 2, 2: 3, 3: 4, 4: 5},\n",
    "             'Starting Balance': {0: 34689.96,1: 34205.66,2: 33718.53,3: 33228.55,4: 32735.7},\n",
    "             'Repayment': {0: 687.23, 1: 687.23, 2: 687.23, 3: 687.23, 4: 687.23},\n",
    "             'Interest Paid': {0: 202.93, 1: 200.1, 2: 197.25, 3: 194.38, 4: 191.5},\n",
    "             'Principal Paid': {0: 484.3, 1: 487.13, 2: 489.98, 3: 492.85, 4: 495.73},\n",
    "             'New Balance': {0: 34205.66,1: 33718.53,2: 33228.55,3: 32735.7,4: 32239.97},\n",
    "             'term': {0: 60, 1: 60, 2: 60, 3: 60, 4: 60},\n",
    "             'interest_rate': {0: 0.0702, 1: 0.0702, 2: 0.0702, 3: 0.0702, 4: 0.0702},\n",
    "             'car_type': {0: 'Toyota Sienna',1: 'Toyota Sienna',2: 'Toyota Sienna',3: 'Toyota Sienna',4: 'Toyota Sienna'}}\n",
    "\n",
    "df5 = pd.DataFrame(data = carLoans, columns=colNames)\n",
    "df5\n",
    "\n",
    "# Limitation of this Approach: If you have a larger dataset (like the entire payment table), it doesnt make sense to manually put data into a dataframe. "
   ]
  },
  {
   "cell_type": "markdown",
   "metadata": {},
   "source": [
    "## Basics of Matplotlib\n",
    "\n",
    "### What is Matplotlib\n",
    "The [matplotlib](http://matplotlib.org) library is a powerful tool capable of producing complex publication-quality figures with fine layout control in two and three dimensions. While it is an older library, so many libraries are built on top of it and use its syntax."
   ]
  },
  {
   "cell_type": "code",
   "execution_count": 232,
   "metadata": {},
   "outputs": [],
   "source": [
    "# `plt` is an alias for the `matplotlib.pyplot` module\n",
    "import matplotlib.pyplot as plt\n",
    "\n",
    "# import seaborn library (wrapper of matplotlib)\n",
    "import seaborn as sns"
   ]
  },
  {
   "cell_type": "code",
   "execution_count": 233,
   "metadata": {},
   "outputs": [],
   "source": [
    "month_number = df.loc[:, 'month'].values\n",
    "interest_paid = df.loc[:, 'interest_paid'].values\n",
    "principal_paid = df.loc[:, 'principal_paid'].values"
   ]
  },
  {
   "cell_type": "code",
   "execution_count": 234,
   "metadata": {},
   "outputs": [
    {
     "data": {
      "text/plain": [
       "[<matplotlib.lines.Line2D at 0x18faf241148>]"
      ]
     },
     "execution_count": 234,
     "metadata": {},
     "output_type": "execute_result"
    },
    {
     "data": {
      "image/png": "[encoded data removed]",
      "text/plain": [
       "<Figure size 432x288 with 1 Axes>"
      ]
     },
     "metadata": {
      "needs_background": "light"
     },
     "output_type": "display_data"
    }
   ],
   "source": [
    "# Not the prettiest plot\n",
    "plt.plot(month_number, interest_paid)"
   ]
  },
  {
   "cell_type": "code",
   "execution_count": 235,
   "metadata": {},
   "outputs": [
    {
     "data": {
      "text/plain": [
       "[<matplotlib.lines.Line2D at 0x18faf2a9088>]"
      ]
     },
     "execution_count": 235,
     "metadata": {},
     "output_type": "execute_result"
    },
    {
     "data": {
      "image/png": "[encoded data removed]",
      "text/plain": [
       "<Figure size 432x288 with 1 Axes>"
      ]
     },
     "metadata": {
      "needs_background": "light"
     },
     "output_type": "display_data"
    }
   ],
   "source": [
    "plt.plot(month_number, interest_paid)\n",
    "plt.plot(month_number, principal_paid)"
   ]
  },
  {
   "cell_type": "code",
   "execution_count": 236,
   "metadata": {},
   "outputs": [
    {
     "data": {
      "text/plain": [
       "['Solarize_Light2',\n",
       " '_classic_test_patch',\n",
       " 'bmh',\n",
       " 'classic',\n",
       " 'dark_background',\n",
       " 'fast',\n",
       " 'fivethirtyeight',\n",
       " 'ggplot',\n",
       " 'grayscale',\n",
       " 'seaborn',\n",
       " 'seaborn-bright',\n",
       " 'seaborn-colorblind',\n",
       " 'seaborn-dark',\n",
       " 'seaborn-dark-palette',\n",
       " 'seaborn-darkgrid',\n",
       " 'seaborn-deep',\n",
       " 'seaborn-muted',\n",
       " 'seaborn-notebook',\n",
       " 'seaborn-paper',\n",
       " 'seaborn-pastel',\n",
       " 'seaborn-poster',\n",
       " 'seaborn-talk',\n",
       " 'seaborn-ticks',\n",
       " 'seaborn-white',\n",
       " 'seaborn-whitegrid',\n",
       " 'tableau-colorblind10']"
      ]
     },
     "execution_count": 236,
     "metadata": {},
     "output_type": "execute_result"
    }
   ],
   "source": [
    "# Our style choices\n",
    "plt.style.available"
   ]
  },
  {
   "cell_type": "code",
   "execution_count": 250,
   "metadata": {},
   "outputs": [
    {
     "data": {
      "text/plain": [
       "<matplotlib.legend.Legend at 0x18fb031d688>"
      ]
     },
     "execution_count": 250,
     "metadata": {},
     "output_type": "execute_result"
    },
    {
     "data": {
      "image/png": "[encoded data removed]",
      "text/plain": [
       "<Figure size 640x480 with 1 Axes>"
      ]
     },
     "metadata": {},
     "output_type": "display_data"
    }
   ],
   "source": [
    "plt.style.use('classic')\n",
    "\n",
    "plt.plot(month_number, interest_paid, c= 'k', label = 'Interest')\n",
    "plt.plot(month_number, principal_paid, c = 'b', label = 'Principal')\n",
    "plt.legend(loc=\"center right\")"
   ]
  },
  {
   "cell_type": "code",
   "execution_count": 257,
   "metadata": {},
   "outputs": [
    {
     "data": {
      "text/plain": [
       "(0.0, 1000.0)"
      ]
     },
     "execution_count": 257,
     "metadata": {},
     "output_type": "execute_result"
    },
    {
     "data": {
      "image/png": "[encoded data removed]",
      "text/plain": [
       "<Figure size 640x480 with 1 Axes>"
      ]
     },
     "metadata": {},
     "output_type": "display_data"
    }
   ],
   "source": [
    "plt.style.use('fivethirtyeight')\n",
    "\n",
    "plt.plot(month_number, interest_paid,interest_paid, c= 'k')\n",
    "plt.plot(month_number, principal_paid,principal_paid, c = 'b')\n",
    "plt.xlim(left=1,right=70)\n",
    "plt.ylim(bottom=0,top=1000)"
   ]
  },
  {
   "cell_type": "code",
   "execution_count": 258,
   "metadata": {},
   "outputs": [
    {
     "data": {
      "text/plain": [
       "Text(0, 0.5, 'Dollars')"
      ]
     },
     "execution_count": 258,
     "metadata": {},
     "output_type": "execute_result"
    },
    {
     "data": {
      "image/png": "[encoded data removed]",
      "text/plain": [
       "<Figure size 640x480 with 1 Axes>"
      ]
     },
     "metadata": {},
     "output_type": "display_data"
    }
   ],
   "source": [
    "plt.style.use('ggplot')\n",
    "\n",
    "plt.plot(month_number, interest_paid)\n",
    "plt.plot(month_number, principal_paid)\n",
    "plt.xlabel('Month')\n",
    "plt.ylabel('Dollars')"
   ]
  },
  {
   "cell_type": "code",
   "execution_count": 259,
   "metadata": {},
   "outputs": [
    {
     "data": {
      "text/plain": [
       "Text(0.5, 1.0, 'Interest and Principal Paid Each Month')"
      ]
     },
     "execution_count": 259,
     "metadata": {},
     "output_type": "execute_result"
    },
    {
     "data": {
      "image/png": "[encoded data removed]",
      "text/plain": [
       "<Figure size 640x480 with 1 Axes>"
      ]
     },
     "metadata": {},
     "output_type": "display_data"
    }
   ],
   "source": [
    "plt.style.use('tableau-colorblind10')\n",
    "\n",
    "plt.plot(month_number, interest_paid)\n",
    "plt.plot(month_number, principal_paid)\n",
    "plt.xlabel('Month', fontsize = 15)\n",
    "plt.ylabel('Dollars', fontsize = 15)\n",
    "plt.title('Interest and Principal Paid Each Month', fontsize = 15)"
   ]
  },
  {
   "cell_type": "code",
   "execution_count": 260,
   "metadata": {},
   "outputs": [
    {
     "data": {
      "text/plain": [
       "(array([  0., 100., 200., 300., 400., 500., 600., 700.]),\n",
       " [Text(0, 0, ''),\n",
       "  Text(0, 0, ''),\n",
       "  Text(0, 0, ''),\n",
       "  Text(0, 0, ''),\n",
       "  Text(0, 0, ''),\n",
       "  Text(0, 0, ''),\n",
       "  Text(0, 0, ''),\n",
       "  Text(0, 0, '')])"
      ]
     },
     "execution_count": 260,
     "metadata": {},
     "output_type": "execute_result"
    },
    {
     "data": {
      "image/png": "[encoded data removed]",
      "text/plain": [
       "<Figure size 640x440 with 1 Axes>"
      ]
     },
     "metadata": {},
     "output_type": "display_data"
    }
   ],
   "source": [
    "plt.style.use('seaborn')\n",
    "\n",
    "plt.plot(month_number, interest_paid)\n",
    "plt.plot(month_number, principal_paid)\n",
    "plt.xlabel('Month', fontsize = 15)\n",
    "plt.ylabel('Dollars', fontsize = 15)\n",
    "plt.title('Interest and Principal Paid Each Month', fontsize = 15)\n",
    "plt.xticks(fontsize = 15)\n",
    "plt.yticks(fontsize = 15)"
   ]
  },
  {
   "cell_type": "code",
   "execution_count": 242,
   "metadata": {},
   "outputs": [
    {
     "data": {
      "text/plain": [
       "[<matplotlib.lines.Line2D at 0x18fb008ed48>]"
      ]
     },
     "execution_count": 242,
     "metadata": {},
     "output_type": "execute_result"
    },
    {
     "data": {
      "image/png": "[encoded data removed]",
      "text/plain": [
       "<Figure size 640x440 with 1 Axes>"
      ]
     },
     "metadata": {},
     "output_type": "display_data"
    }
   ],
   "source": [
    "#grids\n",
    "plt.plot(month_number, interest_paid, c= 'k')\n",
    "plt.plot(month_number, principal_paid, c = 'b')"
   ]
  },
  {
   "cell_type": "code",
   "execution_count": 245,
   "metadata": {},
   "outputs": [
    {
     "data": {
      "image/png": "[encoded data removed]",
      "text/plain": [
       "<Figure size 640x440 with 1 Axes>"
      ]
     },
     "metadata": {},
     "output_type": "display_data"
    }
   ],
   "source": [
    "#MATLAB-style\n",
    "plt.plot(month_number, interest_paid, c= 'k')\n",
    "plt.plot(month_number, principal_paid, c = 'b')\n",
    "plt.grid(c = 'g', \n",
    "         alpha = .9,\n",
    "         linestyle = '-')\n",
    "\n",
    "#grid lines, transparency, and linestyl"
   ]
  },
  {
   "cell_type": "code",
   "execution_count": 244,
   "metadata": {},
   "outputs": [
    {
     "data": {
      "image/png": "[encoded data removed]",
      "text/plain": [
       "<Figure size 640x440 with 1 Axes>"
      ]
     },
     "metadata": {},
     "output_type": "display_data"
    }
   ],
   "source": [
    "# only horizontal grid lines\n",
    "plt.plot(month_number, interest_paid, c= 'k')\n",
    "plt.plot(month_number, principal_paid, c = 'b')\n",
    "plt.grid(axis = 'x')\n",
    "#for vertical : plt.grid(axis = 'y')"
   ]
  },
  {
   "cell_type": "code",
   "execution_count": 246,
   "metadata": {},
   "outputs": [
    {
     "data": {
      "image/png": "[encoded data removed]",
      "text/plain": [
       "<Figure size 640x440 with 1 Axes>"
      ]
     },
     "metadata": {},
     "output_type": "display_data"
    }
   ],
   "source": [
    "plt.style.use('seaborn')\n",
    "fig, axes = plt.subplots(nrows = 1, ncols = 1);\n",
    "axes.plot(month_number, interest_paid, c= 'k');\n",
    "axes.plot(month_number, principal_paid, c = 'b');"
   ]
  },
  {
   "cell_type": "code",
   "execution_count": 251,
   "metadata": {},
   "outputs": [
    {
     "data": {
      "text/plain": [
       "<matplotlib.legend.Legend at 0x18fb136dac8>"
      ]
     },
     "execution_count": 251,
     "metadata": {},
     "output_type": "execute_result"
    },
    {
     "data": {
      "image/png": "[encoded data removed]",
      "text/plain": [
       "<Figure size 640x480 with 1 Axes>"
      ]
     },
     "metadata": {},
     "output_type": "display_data"
    }
   ],
   "source": [
    "# At least the legend is not overlapping with the graph\n",
    "fig, axes = plt.subplots(nrows = 1, ncols = 1);\n",
    "axes.plot(month_number, interest_paid, c= 'k', label = 'Interest');\n",
    "axes.plot(month_number, principal_paid, c = 'b', label = 'Principal');\n",
    "axes.legend(loc=(1.02,0))"
   ]
  },
  {
   "cell_type": "code",
   "execution_count": 252,
   "metadata": {},
   "outputs": [
    {
     "data": {
      "text/plain": [
       "<matplotlib.legend.Legend at 0x18fb1422bc8>"
      ]
     },
     "execution_count": 252,
     "metadata": {},
     "output_type": "execute_result"
    },
    {
     "data": {
      "image/png": "[encoded data removed]",
      "text/plain": [
       "<Figure size 800x400 with 1 Axes>"
      ]
     },
     "metadata": {},
     "output_type": "display_data"
    }
   ],
   "source": [
    "# an image may good in the notebook, but it may not save that way\n",
    "plt.figure(figsize=(10, 5))\n",
    "plt.plot(month_number, principal_paid, c = 'b', label = 'Principal')\n",
    "plt.plot(month_number, interest_paid, c= 'k', label = 'Interest')\n",
    "plt.xticks(fontsize = 20)\n",
    "plt.yticks(fontsize = 20)\n",
    "plt.xlim(left =1 , right = 61)\n",
    "plt.ylim(bottom = 0, top = 700)\n",
    "plt.xlabel('Month', fontsize = 22);\n",
    "plt.ylabel('Dollars', fontsize = 22);\n",
    "plt.title('Interest and Principal Paid Each Month', fontsize = 24)\n",
    "plt.legend(loc=(1.02,0), borderaxespad=0, fontsize = 20)"
   ]
  },
  {
   "cell_type": "code",
   "execution_count": 253,
   "metadata": {},
   "outputs": [
    {
     "data": {
      "text/plain": [
       "<Figure size 640x480 with 0 Axes>"
      ]
     },
     "metadata": {},
     "output_type": "display_data"
    }
   ],
   "source": [
    "plt.savefig('images/mslegendcutoff.png', dpi = 300)"
   ]
  },
  {
   "cell_type": "code",
   "execution_count": 254,
   "metadata": {},
   "outputs": [
    {
     "data": {
      "image/png": "[encoded data removed]",
      "text/plain": [
       "<Figure size 800x400 with 1 Axes>"
      ]
     },
     "metadata": {},
     "output_type": "display_data"
    }
   ],
   "source": [
    "# tight_layout()\n",
    "# automatically adjusts subplot params so that the subplot(s) fits in to the figure area\n",
    "plt.figure(figsize=(10, 5))\n",
    "plt.plot(month_number, principal_paid, c = 'b', label = 'Principal')\n",
    "plt.plot(month_number, interest_paid, c= 'k', label = 'Interest')\n",
    "plt.xticks(fontsize = 20)\n",
    "plt.yticks(fontsize = 20)\n",
    "plt.xlim(left =1 , right = 61)\n",
    "plt.ylim(bottom = 0, top = 700)\n",
    "plt.xlabel('Month', fontsize = 22);\n",
    "plt.ylabel('Dollars', fontsize = 22);\n",
    "plt.title('Interest and Principal Paid Each Month', fontsize = 24)\n",
    "plt.legend(loc=(1.02,0), borderaxespad=0, fontsize = 20)\n",
    "\n",
    "plt.tight_layout()\n",
    "plt.savefig('images/mslegend.png', dpi = 300)"
   ]
  },
  {
   "cell_type": "code",
   "execution_count": 255,
   "metadata": {},
   "outputs": [
    {
     "data": {
      "image/png": "[encoded data removed]",
      "text/plain": [
       "<Figure size 800x400 with 1 Axes>"
      ]
     },
     "metadata": {},
     "output_type": "display_data"
    }
   ],
   "source": [
    "# tight_layout()\n",
    "# automatically adjusts subplot params so that the subplot(s) fits in to the figure area\n",
    "fig, axes = plt.subplots(nrows = 1, ncols = 1, figsize=(10, 5) )\n",
    "axes.plot(month_number, principal_paid, c = 'b', label = 'Principal')\n",
    "axes.plot(month_number, interest_paid, c= 'k', label = 'Interest')\n",
    "axes.tick_params(axis = 'x', labelsize = 20)\n",
    "axes.tick_params(axis = 'y', labelsize = 20)\n",
    "axes.set_xlim(left =1 , right = 61)\n",
    "axes.set_ylim(bottom = 0, top = 700)\n",
    "axes.set_xlabel('Month', fontsize = 22);\n",
    "axes.set_ylabel('Dollars', fontsize = 22);\n",
    "axes.set_title('Interest and Principal Paid Each Month', fontsize = 24)\n",
    "axes.legend(loc=(1.02,0), borderaxespad=0, fontsize = 20)\n",
    "\n",
    "fig.tight_layout()\n",
    "fig.savefig('images/objectlegend.png', dpi = 300)"
   ]
  },
  {
   "cell_type": "code",
   "execution_count": 261,
   "metadata": {},
   "outputs": [
    {
     "data": {
      "image/png": "[encoded data removed]",
      "text/plain": [
       "<Figure size 640x440 with 1 Axes>"
      ]
     },
     "metadata": {},
     "output_type": "display_data"
    }
   ],
   "source": [
    "# Changing tick font size\n",
    "fig, axes = plt.subplots(nrows = 1, ncols = 1);\n",
    "axes.plot(month_number, interest_paid, c= 'k');\n",
    "axes.plot(month_number, principal_paid, c = 'b');\n",
    "axes.set_xlabel('Month', fontsize = 22);\n",
    "axes.set_ylabel('Dollars', fontsize = 22);\n",
    "axes.set_title('Interest and Principal Paid Each Month', fontsize = 22);\n",
    "axes.tick_params(axis = 'x', labelsize = 20)\n",
    "axes.tick_params(axis = 'y', labelsize = 20)"
   ]
  },
  {
   "cell_type": "markdown",
   "metadata": {},
   "source": [
    "## Change Color\n",
    "The `c` parameter accepts strings.\n",
    "\n",
    "string | color\n",
    "--- | ---\n",
    "'b' | blue\n",
    "'blue' | blue\n",
    "'g' | green\n",
    "'green' | green\n",
    "'r' | red\n",
    "'red' | red\n",
    "'c' | cyan\n",
    "'cyan' | cyan\n",
    "'m' | magenta\n",
    "'magenta' | magenta\n",
    "'y' | yellow\n",
    "'yellow' | yellow\n",
    "'k' | black\n",
    "'black' | black\n",
    "'w' | white\n",
    "'white' | white\n",
    "\n",
    "The parameter also accepts hex strings. For instance, green is '#008000'. Additionally you can use rgb tuples."
   ]
  },
  {
   "cell_type": "code",
   "execution_count": 262,
   "metadata": {},
   "outputs": [
    {
     "data": {
      "text/plain": [
       "[<matplotlib.lines.Line2D at 0x18fb1dd9108>]"
      ]
     },
     "execution_count": 262,
     "metadata": {},
     "output_type": "execute_result"
    },
    {
     "data": {
      "image/png": "[encoded data removed]",
      "text/plain": [
       "<Figure size 640x440 with 1 Axes>"
      ]
     },
     "metadata": {},
     "output_type": "display_data"
    }
   ],
   "source": [
    "# Using hex strings\n",
    "# '#000000' is black\n",
    "# '#0000FF' is blue\n",
    "plt.plot(month_number, interest_paid,c = '#000000', marker = '.', markersize = 10)\n",
    "plt.plot(month_number, principal_paid,c = '#0000FF', marker = '.', markersize = 10)"
   ]
  },
  {
   "cell_type": "markdown",
   "metadata": {},
   "source": [
    "### Marker Type\n",
    "Here are a couple common marker types. \n",
    "\n",
    "string | description\n",
    "--- | ---\n",
    "'.' | point marker\n",
    "',' | pixel marker\n",
    "'o' | circle marker\n",
    "'v' | triangle_down marker\n",
    "'^' | triangle_up marker\n",
    "'<' | triangle_left marker\n",
    "'>' | triangle_right marker\n",
    "'s'\t| square marker\n",
    "'\\*' | star marker\n",
    "'+' | plus marker\n",
    "'x' | x marker\n",
    "'s'\t| square marker"
   ]
  },
  {
   "cell_type": "code",
   "execution_count": 267,
   "metadata": {},
   "outputs": [
    {
     "data": {
      "text/plain": [
       "[<matplotlib.lines.Line2D at 0x18fb2320848>]"
      ]
     },
     "execution_count": 267,
     "metadata": {},
     "output_type": "execute_result"
    },
    {
     "data": {
      "image/png": "[encoded data removed]",
      "text/plain": [
       "<Figure size 640x440 with 1 Axes>"
      ]
     },
     "metadata": {},
     "output_type": "display_data"
    }
   ],
   "source": [
    "# Using rgb tuples\n",
    "# (0, 0, 0) is black\n",
    "# (0, 0, 1) is blue\n",
    "plt.plot(month_number, interest_paid,c = (0, 0, 0), marker = 'v', markersize = 3)\n",
    "plt.plot(month_number, principal_paid,c = (0, 0, 1), marker = 'v', markersize = 5)"
   ]
  },
  {
   "cell_type": "code",
   "execution_count": 277,
   "metadata": {},
   "outputs": [
    {
     "data": {
      "text/plain": [
       "['Month',\n",
       " 'Starting Balance',\n",
       " 'Repayment',\n",
       " 'Interest Paid',\n",
       " 'Principal Paid',\n",
       " 'New Balance',\n",
       " 'term',\n",
       " 'interest_rate',\n",
       " 'car_type']"
      ]
     },
     "execution_count": 277,
     "metadata": {},
     "output_type": "execute_result"
    }
   ],
   "source": [
    "df2.columns.tolist()"
   ]
  },
  {
   "cell_type": "markdown",
   "metadata": {},
   "source": [
    "### Histogram\n",
    "\n",
    "\n",
    "It is a common practice to create histograms to explore your data as it can give you a general idea of what your data looks like. A histogram is a summary of the variation in a measured variable. It shows the number of samples that occur in a category. A histogram is a type of frequency distribution.  \n",
    "\n",
    "Histograms work by binning the entire range of values into a series of intervals and then counting how many values fall into each interval. While the intervals are often of equal size, they are not required to be."
   ]
  },
  {
   "cell_type": "code",
   "execution_count": 278,
   "metadata": {},
   "outputs": [
    {
     "data": {
      "text/plain": [
       "<AxesSubplot:>"
      ]
     },
     "execution_count": 278,
     "metadata": {},
     "output_type": "execute_result"
    },
    {
     "data": {
      "image/png": "[encoded data removed]",
      "text/plain": [
       "<Figure size 640x440 with 1 Axes>"
      ]
     },
     "metadata": {},
     "output_type": "display_data"
    }
   ],
   "source": [
    "df2['Principal Paid'].hist()"
   ]
  },
  {
   "cell_type": "code",
   "execution_count": 279,
   "metadata": {},
   "outputs": [
    {
     "data": {
      "text/plain": [
       "(array([-10000.,      0.,  10000.,  20000.,  30000.,  40000.,  50000.]),\n",
       " [Text(0, 0, ''),\n",
       "  Text(0, 0, ''),\n",
       "  Text(0, 0, ''),\n",
       "  Text(0, 0, ''),\n",
       "  Text(0, 0, ''),\n",
       "  Text(0, 0, ''),\n",
       "  Text(0, 0, '')])"
      ]
     },
     "execution_count": 279,
     "metadata": {},
     "output_type": "execute_result"
    },
    {
     "data": {
      "image/png": "[encoded data removed]",
      "text/plain": [
       "<Figure size 640x440 with 1 Axes>"
      ]
     },
     "metadata": {},
     "output_type": "display_data"
    }
   ],
   "source": [
    "# One solution is to rotate your xticklabels\n",
    "df2['New Balance'].hist()\n",
    "plt.xticks(rotation = 90)"
   ]
  },
  {
   "cell_type": "code",
   "execution_count": 281,
   "metadata": {},
   "outputs": [
    {
     "data": {
      "text/plain": [
       "<AxesSubplot:>"
      ]
     },
     "execution_count": 281,
     "metadata": {},
     "output_type": "execute_result"
    },
    {
     "data": {
      "image/png": "[encoded data removed]",
      "text/plain": [
       "<Figure size 640x440 with 1 Axes>"
      ]
     },
     "metadata": {},
     "output_type": "display_data"
    }
   ],
   "source": [
    "# if you want a quick solution to make the xticklabels readable,\n",
    "# try changing the plot style \n",
    "plt.style.use('seaborn')\n",
    "\n",
    "# Change the number of bins\n",
    "# Seems better, but we still have empty space\n",
    "df2['New Balance'].hist(bins = 30)"
   ]
  },
  {
   "cell_type": "code",
   "execution_count": 284,
   "metadata": {},
   "outputs": [
    {
     "data": {
      "text/plain": [
       "<AxesSubplot:>"
      ]
     },
     "execution_count": 284,
     "metadata": {},
     "output_type": "execute_result"
    },
    {
     "data": {
      "image/png": "[encoded data removed]",
      "text/plain": [
       "<Figure size 640x440 with 1 Axes>"
      ]
     },
     "metadata": {},
     "output_type": "display_data"
    }
   ],
   "source": [
    "# visualizing a subset of the data\n",
    "price_filter = df2.loc[:, 'New Balance'] <= 30000\n",
    "df2.loc[price_filter, 'New Balance'].hist(bins = 30,edgecolor='black')"
   ]
  },
  {
   "cell_type": "code",
   "execution_count": null,
   "metadata": {},
   "outputs": [],
   "source": []
  }
 ],
 "metadata": {
  "anaconda-cloud": {},
  "kernelspec": {
   "display_name": "Python 3",
   "language": "python",
   "name": "python3"
  },
  "language_info": {
   "codemirror_mode": {
    "name": "ipython",
    "version": 3
   },
   "file_extension": ".py",
   "mimetype": "text/x-python",
   "name": "python",
   "nbconvert_exporter": "python",
   "pygments_lexer": "ipython3",
   "version": "3.7.6"
  }
 },
 "nbformat": 4,
 "nbformat_minor": 1
}
